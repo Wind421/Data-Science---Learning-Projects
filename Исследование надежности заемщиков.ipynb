{
 "cells": [
  {
   "cell_type": "markdown",
   "id": "19591ff7",
   "metadata": {
    "deletable": false,
    "editable": false,
    "id": "c81daeeb"
   },
   "source": [
    "# Исследование надежности заемщиков\n"
   ]
  },
  {
   "cell_type": "markdown",
   "id": "614cd2ca",
   "metadata": {},
   "source": [
    "Этот проект исследования надежности заемщиков в сфере кредитования. Был написан 29.01.2024.\n",
    "\n",
    "Описание проекта:\n",
    "\n",
    " Заказчик — кредитный отдел банка. Нужно разобраться, влияет ли семейное положение и количество детей клиента на факт погашения кредита в срок. \n",
    " \n",
    " Входные данные от банка — статистика о платёжеспособности клиентов. Результаты исследования будут учтены при построении модели кредитного скоринга — специальной системы, которая оценивает способность потенциального заёмщика вернуть кредит банку.\n",
    "\n",
    "Необходимо сделать необходимую предобработку данных и ответить на следующие вопросы:\n",
    "\n",
    "+ Есть ли зависимость между количеством детей и возвратом кредита в срок?\n",
    "\n",
    "+ Есть ли зависимость между семейным положением и возвратом кредита в срок?\n",
    "\n",
    "+ Есть ли зависимость между уровнем дохода и возвратом кредита в срок?\n",
    "\n",
    "+ Как разные цели кредита влияют на его возврат в срок?"
   ]
  },
  {
   "cell_type": "markdown",
   "id": "456c4828",
   "metadata": {},
   "source": [
    "### Импорт библиотек"
   ]
  },
  {
   "cell_type": "code",
   "execution_count": 1,
   "id": "f09cc821",
   "metadata": {
    "deletable": false,
    "id": "7bcf75c9"
   },
   "outputs": [],
   "source": [
    "import pandas as pd\n",
    "import math\n",
    "import matplotlib.pyplot as plt\n",
    "\n",
    "import warnings\n",
    "warnings.filterwarnings(\"ignore\")"
   ]
  },
  {
   "cell_type": "markdown",
   "id": "8b91bd13",
   "metadata": {},
   "source": [
    "### Загрузка данных"
   ]
  },
  {
   "cell_type": "code",
   "execution_count": 2,
   "id": "85c49ef3",
   "metadata": {},
   "outputs": [],
   "source": [
    "data = pd.read_csv('data.csv')"
   ]
  },
  {
   "cell_type": "code",
   "execution_count": 3,
   "id": "c345808e",
   "metadata": {
    "deletable": false,
    "id": "2a7cab99",
    "outputId": "1a8f3ef2-d323-4ec2-ddf7-89670b5944c4",
    "scrolled": true
   },
   "outputs": [
    {
     "data": {
      "text/html": [
       "<div>\n",
       "<style scoped>\n",
       "    .dataframe tbody tr th:only-of-type {\n",
       "        vertical-align: middle;\n",
       "    }\n",
       "\n",
       "    .dataframe tbody tr th {\n",
       "        vertical-align: top;\n",
       "    }\n",
       "\n",
       "    .dataframe thead th {\n",
       "        text-align: right;\n",
       "    }\n",
       "</style>\n",
       "<table border=\"1\" class=\"dataframe\">\n",
       "  <thead>\n",
       "    <tr style=\"text-align: right;\">\n",
       "      <th></th>\n",
       "      <th>children</th>\n",
       "      <th>days_employed</th>\n",
       "      <th>dob_years</th>\n",
       "      <th>education</th>\n",
       "      <th>education_id</th>\n",
       "      <th>family_status</th>\n",
       "      <th>family_status_id</th>\n",
       "      <th>gender</th>\n",
       "      <th>income_type</th>\n",
       "      <th>debt</th>\n",
       "      <th>total_income</th>\n",
       "      <th>purpose</th>\n",
       "    </tr>\n",
       "  </thead>\n",
       "  <tbody>\n",
       "    <tr>\n",
       "      <th>0</th>\n",
       "      <td>1</td>\n",
       "      <td>-8437.673028</td>\n",
       "      <td>42</td>\n",
       "      <td>высшее</td>\n",
       "      <td>0</td>\n",
       "      <td>женат / замужем</td>\n",
       "      <td>0</td>\n",
       "      <td>F</td>\n",
       "      <td>сотрудник</td>\n",
       "      <td>0</td>\n",
       "      <td>253875.639453</td>\n",
       "      <td>покупка жилья</td>\n",
       "    </tr>\n",
       "    <tr>\n",
       "      <th>1</th>\n",
       "      <td>1</td>\n",
       "      <td>-4024.803754</td>\n",
       "      <td>36</td>\n",
       "      <td>среднее</td>\n",
       "      <td>1</td>\n",
       "      <td>женат / замужем</td>\n",
       "      <td>0</td>\n",
       "      <td>F</td>\n",
       "      <td>сотрудник</td>\n",
       "      <td>0</td>\n",
       "      <td>112080.014102</td>\n",
       "      <td>приобретение автомобиля</td>\n",
       "    </tr>\n",
       "    <tr>\n",
       "      <th>2</th>\n",
       "      <td>0</td>\n",
       "      <td>-5623.422610</td>\n",
       "      <td>33</td>\n",
       "      <td>Среднее</td>\n",
       "      <td>1</td>\n",
       "      <td>женат / замужем</td>\n",
       "      <td>0</td>\n",
       "      <td>M</td>\n",
       "      <td>сотрудник</td>\n",
       "      <td>0</td>\n",
       "      <td>145885.952297</td>\n",
       "      <td>покупка жилья</td>\n",
       "    </tr>\n",
       "    <tr>\n",
       "      <th>3</th>\n",
       "      <td>3</td>\n",
       "      <td>-4124.747207</td>\n",
       "      <td>32</td>\n",
       "      <td>среднее</td>\n",
       "      <td>1</td>\n",
       "      <td>женат / замужем</td>\n",
       "      <td>0</td>\n",
       "      <td>M</td>\n",
       "      <td>сотрудник</td>\n",
       "      <td>0</td>\n",
       "      <td>267628.550329</td>\n",
       "      <td>дополнительное образование</td>\n",
       "    </tr>\n",
       "    <tr>\n",
       "      <th>4</th>\n",
       "      <td>0</td>\n",
       "      <td>340266.072047</td>\n",
       "      <td>53</td>\n",
       "      <td>среднее</td>\n",
       "      <td>1</td>\n",
       "      <td>гражданский брак</td>\n",
       "      <td>1</td>\n",
       "      <td>F</td>\n",
       "      <td>пенсионер</td>\n",
       "      <td>0</td>\n",
       "      <td>158616.077870</td>\n",
       "      <td>сыграть свадьбу</td>\n",
       "    </tr>\n",
       "  </tbody>\n",
       "</table>\n",
       "</div>"
      ],
      "text/plain": [
       "   children  days_employed  dob_years education  education_id  \\\n",
       "0         1   -8437.673028         42    высшее             0   \n",
       "1         1   -4024.803754         36   среднее             1   \n",
       "2         0   -5623.422610         33   Среднее             1   \n",
       "3         3   -4124.747207         32   среднее             1   \n",
       "4         0  340266.072047         53   среднее             1   \n",
       "\n",
       "      family_status  family_status_id gender income_type  debt   total_income  \\\n",
       "0   женат / замужем                 0      F   сотрудник     0  253875.639453   \n",
       "1   женат / замужем                 0      F   сотрудник     0  112080.014102   \n",
       "2   женат / замужем                 0      M   сотрудник     0  145885.952297   \n",
       "3   женат / замужем                 0      M   сотрудник     0  267628.550329   \n",
       "4  гражданский брак                 1      F   пенсионер     0  158616.077870   \n",
       "\n",
       "                      purpose  \n",
       "0               покупка жилья  \n",
       "1     приобретение автомобиля  \n",
       "2               покупка жилья  \n",
       "3  дополнительное образование  \n",
       "4             сыграть свадьбу  "
      ]
     },
     "execution_count": 3,
     "metadata": {},
     "output_type": "execute_result"
    }
   ],
   "source": [
    "data.head()"
   ]
  },
  {
   "cell_type": "code",
   "execution_count": 4,
   "id": "ea27678e",
   "metadata": {
    "deletable": false,
    "id": "2b757bca",
    "outputId": "15376089-8dad-46c9-b520-c05248d43158"
   },
   "outputs": [
    {
     "name": "stdout",
     "output_type": "stream",
     "text": [
      "<class 'pandas.core.frame.DataFrame'>\n",
      "RangeIndex: 21525 entries, 0 to 21524\n",
      "Data columns (total 12 columns):\n",
      " #   Column            Non-Null Count  Dtype  \n",
      "---  ------            --------------  -----  \n",
      " 0   children          21525 non-null  int64  \n",
      " 1   days_employed     19351 non-null  float64\n",
      " 2   dob_years         21525 non-null  int64  \n",
      " 3   education         21525 non-null  object \n",
      " 4   education_id      21525 non-null  int64  \n",
      " 5   family_status     21525 non-null  object \n",
      " 6   family_status_id  21525 non-null  int64  \n",
      " 7   gender            21525 non-null  object \n",
      " 8   income_type       21525 non-null  object \n",
      " 9   debt              21525 non-null  int64  \n",
      " 10  total_income      19351 non-null  float64\n",
      " 11  purpose           21525 non-null  object \n",
      "dtypes: float64(2), int64(5), object(5)\n",
      "memory usage: 2.0+ MB\n"
     ]
    }
   ],
   "source": [
    "data.info()"
   ]
  },
  {
   "cell_type": "markdown",
   "id": "7d64d9b3",
   "metadata": {},
   "source": [
    "Описание данных таблицы:\n",
    "| Параметр                  | Описание                                             | Тип данных   | Наличие пропусков |\n",
    "|---------------------------|------------------------------------------------------|--------------|-------------------|\n",
    "| children                  | Количество детей в семье                             | Целое число  | нет       |\n",
    "| days_employed             | Общий трудовой стаж в днях                           | Вещественное число | да  |\n",
    "| dob_years                 | Возраст клиента в годах                              | Целое число  | нет       |\n",
    "| education                 | Уровень образования клиента                          | Текст        | нет       |\n",
    "| education_id              | Идентификатор уровня образования                     | Целое число  | нет       |\n",
    "| family_status             | Семейное положение                                   | Текст        |нет        |\n",
    "| family_status_id          | Идентификатор семейного положения                    | Целое число  | нет       |\n",
    "| gender                    | Пол клиента                                          | Текст        | нет       |\n",
    "| income_type               | Тип занятости                                        | Текст        | нет       |\n",
    "| debt                      | Имел ли задолженность по возврату кредитов           | Целое число  | нет       |\n",
    "| total_income              | Ежемесячный доход                                    | Вещественное число | да  |\n",
    "| purpose                   | Цель получения кредита                               | Текст        | нет       |"
   ]
  },
  {
   "cell_type": "markdown",
   "id": "6a9a58bd",
   "metadata": {
    "deletable": false,
    "editable": false,
    "id": "333ec665"
   },
   "source": [
    "## Предобработка данных"
   ]
  },
  {
   "cell_type": "markdown",
   "id": "9941eb64",
   "metadata": {
    "deletable": false,
    "editable": false,
    "id": "02d92d53"
   },
   "source": [
    "### Удаление пропусков"
   ]
  },
  {
   "cell_type": "markdown",
   "id": "f3b54540",
   "metadata": {},
   "source": [
    "Ещё раз подтвердим наличие пропусков в полях таблицы days_employed и total_income"
   ]
  },
  {
   "cell_type": "code",
   "execution_count": 5,
   "id": "2c4c404e",
   "metadata": {
    "deletable": false,
    "id": "7f9b2309",
    "outputId": "81f4d817-781c-465c-ed15-91ce4446810d"
   },
   "outputs": [
    {
     "data": {
      "text/plain": [
       "children               0\n",
       "days_employed       2174\n",
       "dob_years              0\n",
       "education              0\n",
       "education_id           0\n",
       "family_status          0\n",
       "family_status_id       0\n",
       "gender                 0\n",
       "income_type            0\n",
       "debt                   0\n",
       "total_income        2174\n",
       "purpose                0\n",
       "dtype: int64"
      ]
     },
     "execution_count": 5,
     "metadata": {},
     "output_type": "execute_result"
    }
   ],
   "source": [
    "data.isna().sum()"
   ]
  },
  {
   "cell_type": "markdown",
   "id": "6e13915d",
   "metadata": {},
   "source": [
    "Заполним пропуски в столбце total_income медианным значением в зависимости от типа дохода (должности)"
   ]
  },
  {
   "cell_type": "code",
   "execution_count": 6,
   "id": "20db0515",
   "metadata": {
    "deletable": false,
    "id": "42006a93"
   },
   "outputs": [],
   "source": [
    "for type_ in data['income_type'].unique():\n",
    "    data.loc[(data['income_type'] == type_) & (data['total_income'].isna()), 'total_income'] = \\\n",
    "    data.loc[(data['income_type'] == type_), 'total_income'].median()"
   ]
  },
  {
   "cell_type": "markdown",
   "id": "81280bb6",
   "metadata": {
    "deletable": false,
    "editable": false,
    "id": "89da5ece"
   },
   "source": [
    "### Обработка аномальных значений"
   ]
  },
  {
   "cell_type": "markdown",
   "id": "42aff7fd",
   "metadata": {},
   "source": [
    "**Столбец days_employed**"
   ]
  },
  {
   "cell_type": "code",
   "execution_count": 7,
   "id": "82286b27",
   "metadata": {},
   "outputs": [
    {
     "data": {
      "text/plain": [
       "count     19351.000000\n",
       "mean      63046.497661\n",
       "std      140827.311974\n",
       "min      -18388.949901\n",
       "25%       -2747.423625\n",
       "50%       -1203.369529\n",
       "75%        -291.095954\n",
       "max      401755.400475\n",
       "Name: days_employed, dtype: float64"
      ]
     },
     "execution_count": 7,
     "metadata": {},
     "output_type": "execute_result"
    }
   ],
   "source": [
    "data['days_employed'].describe()"
   ]
  },
  {
   "cell_type": "markdown",
   "id": "0fd87052",
   "metadata": {},
   "source": [
    "На большей части данных у столбца трудового стажа, наблюдаются аномально низкие значения. Вероятно при загрузке данных произошла ошибка и числа стали отрицательные. Исправим данную аномалию взять значения столбца по модулю."
   ]
  },
  {
   "cell_type": "code",
   "execution_count": 8,
   "id": "ef7f4d3f",
   "metadata": {
    "deletable": false,
    "id": "f6f055bf"
   },
   "outputs": [],
   "source": [
    "data['days_employed'] = data['days_employed'].abs()"
   ]
  },
  {
   "cell_type": "markdown",
   "id": "581c1084",
   "metadata": {
    "deletable": false,
    "editable": false,
    "id": "6107dd2f"
   },
   "source": [
    "Выведем медианное значение трудового стажа для каждого типа занятости."
   ]
  },
  {
   "cell_type": "code",
   "execution_count": 9,
   "id": "efe94ed0",
   "metadata": {
    "deletable": false,
    "id": "85a5faf6",
    "outputId": "801ef80e-522b-4668-f34e-565af7432bcf"
   },
   "outputs": [
    {
     "data": {
      "text/plain": [
       "income_type\n",
       "безработный        366413.652744\n",
       "в декрете            3296.759962\n",
       "госслужащий          2689.368353\n",
       "компаньон            1547.382223\n",
       "пенсионер          365213.306266\n",
       "предприниматель       520.848083\n",
       "сотрудник            1574.202821\n",
       "студент               578.751554\n",
       "Name: days_employed, dtype: float64"
      ]
     },
     "execution_count": 9,
     "metadata": {},
     "output_type": "execute_result"
    }
   ],
   "source": [
    "data.groupby('income_type')['days_employed'].agg('median')"
   ]
  },
  {
   "cell_type": "markdown",
   "id": "07cb304f",
   "metadata": {
    "deletable": false,
    "editable": false,
    "id": "38d1a030"
   },
   "source": [
    "У двух типов (безработные и пенсионеры) получатся аномально большие значения. Характер таких аномалий неизвестен, поэтому решено оставить данные столбцы как есть, так как далее в анализе они использоваться не будут."
   ]
  },
  {
   "cell_type": "markdown",
   "id": "d1746d00",
   "metadata": {},
   "source": [
    "**Столбец children**"
   ]
  },
  {
   "cell_type": "markdown",
   "id": "44af3b22",
   "metadata": {},
   "source": [
    "Выведем уникальные значения этого столбца"
   ]
  },
  {
   "cell_type": "code",
   "execution_count": 10,
   "id": "bfa0f28d",
   "metadata": {
    "deletable": false,
    "id": "ef5056eb",
    "outputId": "6975b15c-7f95-4697-d16d-a0c79b657b03"
   },
   "outputs": [
    {
     "data": {
      "text/plain": [
       "array([ 1,  0,  3,  2, -1,  4, 20,  5], dtype=int64)"
      ]
     },
     "execution_count": 10,
     "metadata": {},
     "output_type": "execute_result"
    }
   ],
   "source": [
    "data['children'].unique()"
   ]
  },
  {
   "cell_type": "markdown",
   "id": "ada90abe",
   "metadata": {
    "deletable": false,
    "editable": false,
    "id": "40b9ebf2"
   },
   "source": [
    "В столбце children есть два аномальных значения -1 и 20. Удалим строки с такими аномалиями из исходного датафрейма."
   ]
  },
  {
   "cell_type": "code",
   "execution_count": 11,
   "id": "2c44c635",
   "metadata": {
    "deletable": false,
    "id": "3ff9801d"
   },
   "outputs": [],
   "source": [
    "data = data[(data['children'] != -1) & (data['children'] != 20)]"
   ]
  },
  {
   "cell_type": "markdown",
   "id": "f6c01851",
   "metadata": {
    "deletable": false,
    "editable": false,
    "id": "bbc4d0ce"
   },
   "source": [
    "Проверка корректности удаления"
   ]
  },
  {
   "cell_type": "code",
   "execution_count": 12,
   "id": "463bdaf1",
   "metadata": {
    "deletable": false,
    "id": "ad4fa8b7",
    "outputId": "b2097101-d49d-44d9-901b-32a65c9463d1"
   },
   "outputs": [
    {
     "data": {
      "text/plain": [
       "array([1, 0, 3, 2, 4, 5], dtype=int64)"
      ]
     },
     "execution_count": 12,
     "metadata": {},
     "output_type": "execute_result"
    }
   ],
   "source": [
    "data['children'].unique()"
   ]
  },
  {
   "cell_type": "markdown",
   "id": "bea51801",
   "metadata": {
    "deletable": false,
    "editable": false,
    "id": "75440b63"
   },
   "source": [
    "### Удаление пропусков (продолжение)"
   ]
  },
  {
   "cell_type": "markdown",
   "id": "3abdb4b1",
   "metadata": {
    "deletable": false,
    "editable": false,
    "id": "f4ea573f"
   },
   "source": [
    "Заполним пропуски в столбце days_employed медианными значениями по каждого типа занятости income_type"
   ]
  },
  {
   "cell_type": "code",
   "execution_count": 13,
   "id": "09466035",
   "metadata": {
    "deletable": false,
    "id": "af6b1a7e"
   },
   "outputs": [],
   "source": [
    "for type_ in data['income_type'].unique():\n",
    "    data.loc[(data['income_type'] == type_) & (data['days_employed'].isna()), 'days_employed'] = \\\n",
    "    data.loc[(data['income_type'] == type_), 'days_employed'].median()"
   ]
  },
  {
   "cell_type": "markdown",
   "id": "bc4ed9db",
   "metadata": {
    "deletable": false,
    "editable": false,
    "id": "2753f40d"
   },
   "source": [
    "Проверка корректности заполнения пропусков"
   ]
  },
  {
   "cell_type": "code",
   "execution_count": 14,
   "id": "5575a6c1",
   "metadata": {
    "deletable": false,
    "id": "55f78bc2",
    "outputId": "8da1e4e1-358e-4e87-98c9-f261bce0a7b2"
   },
   "outputs": [
    {
     "data": {
      "text/plain": [
       "children            0\n",
       "days_employed       0\n",
       "dob_years           0\n",
       "education           0\n",
       "education_id        0\n",
       "family_status       0\n",
       "family_status_id    0\n",
       "gender              0\n",
       "income_type         0\n",
       "debt                0\n",
       "total_income        0\n",
       "purpose             0\n",
       "dtype: int64"
      ]
     },
     "execution_count": 14,
     "metadata": {},
     "output_type": "execute_result"
    }
   ],
   "source": [
    "data.isna().sum()"
   ]
  },
  {
   "cell_type": "markdown",
   "id": "5b754c0c",
   "metadata": {
    "deletable": false,
    "editable": false,
    "id": "ddc81e43"
   },
   "source": [
    "### Изменение типов данных"
   ]
  },
  {
   "cell_type": "markdown",
   "id": "ac9846a0",
   "metadata": {
    "deletable": false,
    "editable": false,
    "id": "42d19d24"
   },
   "source": [
    "Изменим вещественный тип данных в столбце total_income на целочисленный"
   ]
  },
  {
   "cell_type": "code",
   "execution_count": 15,
   "id": "9a5094b2",
   "metadata": {
    "deletable": false,
    "id": "920b65ad"
   },
   "outputs": [],
   "source": [
    "data['total_income'] = data['total_income'].astype(int)"
   ]
  },
  {
   "cell_type": "markdown",
   "id": "a765ee01",
   "metadata": {
    "deletable": false,
    "editable": false,
    "id": "80c420ba"
   },
   "source": [
    "### Обработка дубликатов"
   ]
  },
  {
   "cell_type": "markdown",
   "id": "d10ecf1a",
   "metadata": {},
   "source": [
    "Проверим данные на наличие неявных дубликатов"
   ]
  },
  {
   "cell_type": "code",
   "execution_count": 16,
   "id": "44621771",
   "metadata": {},
   "outputs": [
    {
     "data": {
      "text/plain": [
       "array(['высшее', 'среднее', 'Среднее', 'СРЕДНЕЕ', 'ВЫСШЕЕ',\n",
       "       'неоконченное высшее', 'начальное', 'Высшее',\n",
       "       'НЕОКОНЧЕННОЕ ВЫСШЕЕ', 'Неоконченное высшее', 'НАЧАЛЬНОЕ',\n",
       "       'Начальное', 'Ученая степень', 'УЧЕНАЯ СТЕПЕНЬ', 'ученая степень'],\n",
       "      dtype=object)"
      ]
     },
     "execution_count": 16,
     "metadata": {},
     "output_type": "execute_result"
    }
   ],
   "source": [
    "data['education'].unique()"
   ]
  },
  {
   "cell_type": "markdown",
   "id": "8f3b80df",
   "metadata": {},
   "source": [
    "Приведем все значения данного столбца к нижнему регистру"
   ]
  },
  {
   "cell_type": "code",
   "execution_count": 17,
   "id": "6fd391ed",
   "metadata": {
    "deletable": false
   },
   "outputs": [],
   "source": [
    "data['education'] = data['education'].str.lower()"
   ]
  },
  {
   "cell_type": "markdown",
   "id": "fa020c31",
   "metadata": {
    "deletable": false,
    "editable": false,
    "id": "dc587695"
   },
   "source": [
    "Проверим данные на наличие полных дубликатов, если таковые есть удалим их"
   ]
  },
  {
   "cell_type": "code",
   "execution_count": 18,
   "id": "be5355a7",
   "metadata": {
    "deletable": false,
    "id": "3ee445e4",
    "outputId": "9684deba-1934-42d1-99e1-cda61740f822"
   },
   "outputs": [
    {
     "data": {
      "text/plain": [
       "71"
      ]
     },
     "execution_count": 18,
     "metadata": {},
     "output_type": "execute_result"
    }
   ],
   "source": [
    "data.duplicated().sum()"
   ]
  },
  {
   "cell_type": "code",
   "execution_count": 19,
   "id": "31de1da5",
   "metadata": {
    "deletable": false,
    "id": "8575fe05"
   },
   "outputs": [],
   "source": [
    "data = data.drop_duplicates()"
   ]
  },
  {
   "cell_type": "markdown",
   "id": "6e8058bb",
   "metadata": {
    "deletable": false,
    "editable": false,
    "id": "9904cf55"
   },
   "source": [
    "### Категоризация данных"
   ]
  },
  {
   "cell_type": "markdown",
   "id": "6ccf40c6",
   "metadata": {},
   "source": [
    "**Столбец total_income**"
   ]
  },
  {
   "cell_type": "markdown",
   "id": "fa656394",
   "metadata": {
    "deletable": false,
    "editable": false,
    "id": "72fcc8a2"
   },
   "source": [
    "На основании диапазонов, указанных ниже, сосздадим новый столбец total_income_category с категоризированным уровнем дохода.\n",
    "\n",
    "- 0–30000 — `'E'`;\n",
    "- 30001–50000 — `'D'`;\n",
    "- 50001–200000 — `'C'`;\n",
    "- 200001–1000000 — `'B'`;\n",
    "- 1000001 и выше — `'A'`."
   ]
  },
  {
   "cell_type": "code",
   "execution_count": 20,
   "id": "5fc3d25a",
   "metadata": {
    "deletable": false,
    "id": "e1771346"
   },
   "outputs": [],
   "source": [
    "def categorize_income(income):\n",
    "    try:\n",
    "        if 0 <= income <= 30000:\n",
    "            return 'E'\n",
    "        elif 30001 <= income <= 50000:\n",
    "            return 'D'\n",
    "        elif 50001 <= income <= 200000:\n",
    "            return 'C'\n",
    "        elif 200001 <= income <= 1000000:\n",
    "            return 'B'\n",
    "        elif income >= 1000001:\n",
    "            return 'A'\n",
    "    except:\n",
    "        pass"
   ]
  },
  {
   "cell_type": "code",
   "execution_count": 21,
   "id": "6a007409",
   "metadata": {
    "deletable": false,
    "id": "d5f3586d"
   },
   "outputs": [],
   "source": [
    "data['total_income_category'] = data['total_income'].apply(categorize_income)"
   ]
  },
  {
   "cell_type": "markdown",
   "id": "1ff9679d",
   "metadata": {},
   "source": [
    "Проверим корректность создания нового столбца"
   ]
  },
  {
   "cell_type": "code",
   "execution_count": 22,
   "id": "6a3e506c",
   "metadata": {},
   "outputs": [
    {
     "data": {
      "text/html": [
       "<div>\n",
       "<style scoped>\n",
       "    .dataframe tbody tr th:only-of-type {\n",
       "        vertical-align: middle;\n",
       "    }\n",
       "\n",
       "    .dataframe tbody tr th {\n",
       "        vertical-align: top;\n",
       "    }\n",
       "\n",
       "    .dataframe thead th {\n",
       "        text-align: right;\n",
       "    }\n",
       "</style>\n",
       "<table border=\"1\" class=\"dataframe\">\n",
       "  <thead>\n",
       "    <tr style=\"text-align: right;\">\n",
       "      <th></th>\n",
       "      <th>children</th>\n",
       "      <th>days_employed</th>\n",
       "      <th>dob_years</th>\n",
       "      <th>education</th>\n",
       "      <th>education_id</th>\n",
       "      <th>family_status</th>\n",
       "      <th>family_status_id</th>\n",
       "      <th>gender</th>\n",
       "      <th>income_type</th>\n",
       "      <th>debt</th>\n",
       "      <th>total_income</th>\n",
       "      <th>purpose</th>\n",
       "      <th>total_income_category</th>\n",
       "    </tr>\n",
       "  </thead>\n",
       "  <tbody>\n",
       "    <tr>\n",
       "      <th>0</th>\n",
       "      <td>1</td>\n",
       "      <td>8437.673028</td>\n",
       "      <td>42</td>\n",
       "      <td>высшее</td>\n",
       "      <td>0</td>\n",
       "      <td>женат / замужем</td>\n",
       "      <td>0</td>\n",
       "      <td>F</td>\n",
       "      <td>сотрудник</td>\n",
       "      <td>0</td>\n",
       "      <td>253875</td>\n",
       "      <td>покупка жилья</td>\n",
       "      <td>B</td>\n",
       "    </tr>\n",
       "    <tr>\n",
       "      <th>1</th>\n",
       "      <td>1</td>\n",
       "      <td>4024.803754</td>\n",
       "      <td>36</td>\n",
       "      <td>среднее</td>\n",
       "      <td>1</td>\n",
       "      <td>женат / замужем</td>\n",
       "      <td>0</td>\n",
       "      <td>F</td>\n",
       "      <td>сотрудник</td>\n",
       "      <td>0</td>\n",
       "      <td>112080</td>\n",
       "      <td>приобретение автомобиля</td>\n",
       "      <td>C</td>\n",
       "    </tr>\n",
       "    <tr>\n",
       "      <th>2</th>\n",
       "      <td>0</td>\n",
       "      <td>5623.422610</td>\n",
       "      <td>33</td>\n",
       "      <td>среднее</td>\n",
       "      <td>1</td>\n",
       "      <td>женат / замужем</td>\n",
       "      <td>0</td>\n",
       "      <td>M</td>\n",
       "      <td>сотрудник</td>\n",
       "      <td>0</td>\n",
       "      <td>145885</td>\n",
       "      <td>покупка жилья</td>\n",
       "      <td>C</td>\n",
       "    </tr>\n",
       "    <tr>\n",
       "      <th>3</th>\n",
       "      <td>3</td>\n",
       "      <td>4124.747207</td>\n",
       "      <td>32</td>\n",
       "      <td>среднее</td>\n",
       "      <td>1</td>\n",
       "      <td>женат / замужем</td>\n",
       "      <td>0</td>\n",
       "      <td>M</td>\n",
       "      <td>сотрудник</td>\n",
       "      <td>0</td>\n",
       "      <td>267628</td>\n",
       "      <td>дополнительное образование</td>\n",
       "      <td>B</td>\n",
       "    </tr>\n",
       "    <tr>\n",
       "      <th>4</th>\n",
       "      <td>0</td>\n",
       "      <td>340266.072047</td>\n",
       "      <td>53</td>\n",
       "      <td>среднее</td>\n",
       "      <td>1</td>\n",
       "      <td>гражданский брак</td>\n",
       "      <td>1</td>\n",
       "      <td>F</td>\n",
       "      <td>пенсионер</td>\n",
       "      <td>0</td>\n",
       "      <td>158616</td>\n",
       "      <td>сыграть свадьбу</td>\n",
       "      <td>C</td>\n",
       "    </tr>\n",
       "  </tbody>\n",
       "</table>\n",
       "</div>"
      ],
      "text/plain": [
       "   children  days_employed  dob_years education  education_id  \\\n",
       "0         1    8437.673028         42    высшее             0   \n",
       "1         1    4024.803754         36   среднее             1   \n",
       "2         0    5623.422610         33   среднее             1   \n",
       "3         3    4124.747207         32   среднее             1   \n",
       "4         0  340266.072047         53   среднее             1   \n",
       "\n",
       "      family_status  family_status_id gender income_type  debt  total_income  \\\n",
       "0   женат / замужем                 0      F   сотрудник     0        253875   \n",
       "1   женат / замужем                 0      F   сотрудник     0        112080   \n",
       "2   женат / замужем                 0      M   сотрудник     0        145885   \n",
       "3   женат / замужем                 0      M   сотрудник     0        267628   \n",
       "4  гражданский брак                 1      F   пенсионер     0        158616   \n",
       "\n",
       "                      purpose total_income_category  \n",
       "0               покупка жилья                     B  \n",
       "1     приобретение автомобиля                     C  \n",
       "2               покупка жилья                     C  \n",
       "3  дополнительное образование                     B  \n",
       "4             сыграть свадьбу                     C  "
      ]
     },
     "execution_count": 22,
     "metadata": {},
     "output_type": "execute_result"
    }
   ],
   "source": [
    "data.head()"
   ]
  },
  {
   "cell_type": "markdown",
   "id": "b701432a",
   "metadata": {},
   "source": [
    "**Столбец purpose**"
   ]
  },
  {
   "cell_type": "markdown",
   "id": "c5ada6f3",
   "metadata": {
    "deletable": false,
    "editable": false,
    "id": "dde49b5c"
   },
   "source": [
    "Выведем на экран перечень уникальных целей взятия кредита из столбца purpose"
   ]
  },
  {
   "cell_type": "code",
   "execution_count": 23,
   "id": "ea39015f",
   "metadata": {
    "deletable": false,
    "id": "f67ce9b3",
    "outputId": "673c12d9-7d7e-4ae0-9812-c622c89dd244"
   },
   "outputs": [
    {
     "data": {
      "text/plain": [
       "array(['покупка жилья', 'приобретение автомобиля',\n",
       "       'дополнительное образование', 'сыграть свадьбу',\n",
       "       'операции с жильем', 'образование', 'на проведение свадьбы',\n",
       "       'покупка жилья для семьи', 'покупка недвижимости',\n",
       "       'покупка коммерческой недвижимости', 'покупка жилой недвижимости',\n",
       "       'строительство собственной недвижимости', 'недвижимость',\n",
       "       'строительство недвижимости', 'на покупку подержанного автомобиля',\n",
       "       'на покупку своего автомобиля',\n",
       "       'операции с коммерческой недвижимостью',\n",
       "       'строительство жилой недвижимости', 'жилье',\n",
       "       'операции со своей недвижимостью', 'автомобили',\n",
       "       'заняться образованием', 'сделка с подержанным автомобилем',\n",
       "       'получение образования', 'автомобиль', 'свадьба',\n",
       "       'получение дополнительного образования', 'покупка своего жилья',\n",
       "       'операции с недвижимостью', 'получение высшего образования',\n",
       "       'свой автомобиль', 'сделка с автомобилем',\n",
       "       'профильное образование', 'высшее образование',\n",
       "       'покупка жилья для сдачи', 'на покупку автомобиля', 'ремонт жилью',\n",
       "       'заняться высшим образованием'], dtype=object)"
      ]
     },
     "execution_count": 23,
     "metadata": {},
     "output_type": "execute_result"
    }
   ],
   "source": [
    "data['purpose'].unique()"
   ]
  },
  {
   "cell_type": "markdown",
   "id": "bbc8f469",
   "metadata": {
    "deletable": false,
    "editable": false,
    "id": "85d0aef0"
   },
   "source": [
    "Категоризируем данные на основании данных из этого столбца и создадим новый столбец purpose_category:\n",
    "\n",
    "- операции с автомобилем,\n",
    "- операции с недвижимостью,\n",
    "- проведение свадьбы,\n",
    "- получение образования."
   ]
  },
  {
   "cell_type": "code",
   "execution_count": 24,
   "id": "56ef5b02",
   "metadata": {
    "deletable": false,
    "id": "e149fab4"
   },
   "outputs": [],
   "source": [
    "def categorize_purpose(row):\n",
    "    try:\n",
    "        if 'автом' in row:\n",
    "            return 'операции с автомобилем'\n",
    "        elif 'жил' in row or 'недвиж' in row:\n",
    "            return 'операции с недвижимостью'\n",
    "        elif 'свад' in row:\n",
    "            return 'проведение свадьбы'\n",
    "        elif 'образов' in row:\n",
    "            return 'получение образования'\n",
    "    except:\n",
    "        return 'нет категории'"
   ]
  },
  {
   "cell_type": "code",
   "execution_count": 25,
   "id": "d3e80954",
   "metadata": {
    "deletable": false,
    "id": "bf36e69b"
   },
   "outputs": [],
   "source": [
    "data['purpose_category'] = data['purpose'].apply(categorize_purpose)"
   ]
  },
  {
   "cell_type": "markdown",
   "id": "e9c5f662",
   "metadata": {
    "deletable": false,
    "editable": false,
    "id": "09b242bf"
   },
   "source": [
    "### Исследование данных"
   ]
  },
  {
   "cell_type": "markdown",
   "id": "4b87641b",
   "metadata": {
    "deletable": false,
    "editable": false,
    "id": "c5d66278"
   },
   "source": [
    "**Определение зависимости между количеством детей и возвратом кредита в срок**"
   ]
  },
  {
   "cell_type": "markdown",
   "id": "6dd3801d",
   "metadata": {},
   "source": [
    "Сгруппируем данные клиентов по количеству детей и посчитаем сколько всего клиентов и сколько из них должников"
   ]
  },
  {
   "cell_type": "code",
   "execution_count": 26,
   "id": "b123e9ce",
   "metadata": {},
   "outputs": [
    {
     "data": {
      "text/html": [
       "<div>\n",
       "<style scoped>\n",
       "    .dataframe tbody tr th:only-of-type {\n",
       "        vertical-align: middle;\n",
       "    }\n",
       "\n",
       "    .dataframe tbody tr th {\n",
       "        vertical-align: top;\n",
       "    }\n",
       "\n",
       "    .dataframe thead tr th {\n",
       "        text-align: left;\n",
       "    }\n",
       "\n",
       "    .dataframe thead tr:last-of-type th {\n",
       "        text-align: right;\n",
       "    }\n",
       "</style>\n",
       "<table border=\"1\" class=\"dataframe\">\n",
       "  <thead>\n",
       "    <tr>\n",
       "      <th></th>\n",
       "      <th colspan=\"2\" halign=\"left\">debt</th>\n",
       "    </tr>\n",
       "    <tr>\n",
       "      <th></th>\n",
       "      <th>sum</th>\n",
       "      <th>count</th>\n",
       "    </tr>\n",
       "    <tr>\n",
       "      <th>children</th>\n",
       "      <th></th>\n",
       "      <th></th>\n",
       "    </tr>\n",
       "  </thead>\n",
       "  <tbody>\n",
       "    <tr>\n",
       "      <th>0</th>\n",
       "      <td>1063</td>\n",
       "      <td>14091</td>\n",
       "    </tr>\n",
       "    <tr>\n",
       "      <th>1</th>\n",
       "      <td>444</td>\n",
       "      <td>4808</td>\n",
       "    </tr>\n",
       "    <tr>\n",
       "      <th>2</th>\n",
       "      <td>194</td>\n",
       "      <td>2052</td>\n",
       "    </tr>\n",
       "    <tr>\n",
       "      <th>3</th>\n",
       "      <td>27</td>\n",
       "      <td>330</td>\n",
       "    </tr>\n",
       "    <tr>\n",
       "      <th>4</th>\n",
       "      <td>4</td>\n",
       "      <td>41</td>\n",
       "    </tr>\n",
       "    <tr>\n",
       "      <th>5</th>\n",
       "      <td>0</td>\n",
       "      <td>9</td>\n",
       "    </tr>\n",
       "  </tbody>\n",
       "</table>\n",
       "</div>"
      ],
      "text/plain": [
       "          debt       \n",
       "           sum  count\n",
       "children             \n",
       "0         1063  14091\n",
       "1          444   4808\n",
       "2          194   2052\n",
       "3           27    330\n",
       "4            4     41\n",
       "5            0      9"
      ]
     },
     "execution_count": 26,
     "metadata": {},
     "output_type": "execute_result"
    }
   ],
   "source": [
    "сalc_debt_children = data.groupby('children').agg({'debt': ['sum','count']})\n",
    "сalc_debt_children"
   ]
  },
  {
   "cell_type": "markdown",
   "id": "2a9271ce",
   "metadata": {},
   "source": [
    "В таблице сalc_debt_children четко видно, что колличество информации о клиентах с бо'льшим числом детей, куда меньше чем тех, у кого детей нет вовсе. Подтвердим это подсчитав процент клиентов каждой категории от общего числа:"
   ]
  },
  {
   "cell_type": "code",
   "execution_count": 27,
   "id": "f57df398",
   "metadata": {},
   "outputs": [
    {
     "name": "stdout",
     "output_type": "stream",
     "text": [
      "Общее колличество должников: 21331\n"
     ]
    }
   ],
   "source": [
    "clients_sum_children = сalc_debt_children['debt']['count'].sum()\n",
    "print('Общее колличество должников:', clients_sum_children)"
   ]
  },
  {
   "cell_type": "code",
   "execution_count": 28,
   "id": "87d85044",
   "metadata": {},
   "outputs": [
    {
     "data": {
      "text/html": [
       "<div>\n",
       "<style scoped>\n",
       "    .dataframe tbody tr th:only-of-type {\n",
       "        vertical-align: middle;\n",
       "    }\n",
       "\n",
       "    .dataframe tbody tr th {\n",
       "        vertical-align: top;\n",
       "    }\n",
       "\n",
       "    .dataframe thead tr th {\n",
       "        text-align: left;\n",
       "    }\n",
       "\n",
       "    .dataframe thead tr:last-of-type th {\n",
       "        text-align: right;\n",
       "    }\n",
       "</style>\n",
       "<table border=\"1\" class=\"dataframe\">\n",
       "  <thead>\n",
       "    <tr>\n",
       "      <th></th>\n",
       "      <th colspan=\"2\" halign=\"left\">debt</th>\n",
       "      <th>category_to_all_%</th>\n",
       "    </tr>\n",
       "    <tr>\n",
       "      <th></th>\n",
       "      <th>sum</th>\n",
       "      <th>count</th>\n",
       "      <th></th>\n",
       "    </tr>\n",
       "    <tr>\n",
       "      <th>children</th>\n",
       "      <th></th>\n",
       "      <th></th>\n",
       "      <th></th>\n",
       "    </tr>\n",
       "  </thead>\n",
       "  <tbody>\n",
       "    <tr>\n",
       "      <th>0</th>\n",
       "      <td>1063</td>\n",
       "      <td>14091</td>\n",
       "      <td>67</td>\n",
       "    </tr>\n",
       "    <tr>\n",
       "      <th>1</th>\n",
       "      <td>444</td>\n",
       "      <td>4808</td>\n",
       "      <td>23</td>\n",
       "    </tr>\n",
       "    <tr>\n",
       "      <th>2</th>\n",
       "      <td>194</td>\n",
       "      <td>2052</td>\n",
       "      <td>10</td>\n",
       "    </tr>\n",
       "    <tr>\n",
       "      <th>3</th>\n",
       "      <td>27</td>\n",
       "      <td>330</td>\n",
       "      <td>2</td>\n",
       "    </tr>\n",
       "    <tr>\n",
       "      <th>4</th>\n",
       "      <td>4</td>\n",
       "      <td>41</td>\n",
       "      <td>1</td>\n",
       "    </tr>\n",
       "    <tr>\n",
       "      <th>5</th>\n",
       "      <td>0</td>\n",
       "      <td>9</td>\n",
       "      <td>1</td>\n",
       "    </tr>\n",
       "  </tbody>\n",
       "</table>\n",
       "</div>"
      ],
      "text/plain": [
       "          debt        category_to_all_%\n",
       "           sum  count                  \n",
       "children                               \n",
       "0         1063  14091                67\n",
       "1          444   4808                23\n",
       "2          194   2052                10\n",
       "3           27    330                 2\n",
       "4            4     41                 1\n",
       "5            0      9                 1"
      ]
     },
     "metadata": {},
     "output_type": "display_data"
    }
   ],
   "source": [
    "сalc_debt_children['category_to_all_%'] = сalc_debt_children['debt']['count'] / clients_sum_children * 100\n",
    "сalc_debt_children['category_to_all_%'] = сalc_debt_children['category_to_all_%'].apply(math.ceil)\n",
    "display(сalc_debt_children)"
   ]
  },
  {
   "cell_type": "markdown",
   "id": "5af55d93",
   "metadata": {},
   "source": [
    "Здраво оценивать процент должников по таким данным мы не можем, поскольку в имеющихся данных не так много людей имеющих более 2ух детей.\n",
    "\n",
    "Возьмем те категории клиентов на которые приходится по крайней мере 5% от общего числа. \n",
    "\n",
    "В таком случае останутся семьи с количеством детей от 0 до 2."
   ]
  },
  {
   "cell_type": "code",
   "execution_count": 29,
   "id": "a8808210",
   "metadata": {},
   "outputs": [
    {
     "data": {
      "text/html": [
       "<div>\n",
       "<style scoped>\n",
       "    .dataframe tbody tr th:only-of-type {\n",
       "        vertical-align: middle;\n",
       "    }\n",
       "\n",
       "    .dataframe tbody tr th {\n",
       "        vertical-align: top;\n",
       "    }\n",
       "\n",
       "    .dataframe thead tr th {\n",
       "        text-align: left;\n",
       "    }\n",
       "\n",
       "    .dataframe thead tr:last-of-type th {\n",
       "        text-align: right;\n",
       "    }\n",
       "</style>\n",
       "<table border=\"1\" class=\"dataframe\">\n",
       "  <thead>\n",
       "    <tr>\n",
       "      <th></th>\n",
       "      <th colspan=\"2\" halign=\"left\">debt</th>\n",
       "      <th>category_to_all_%</th>\n",
       "    </tr>\n",
       "    <tr>\n",
       "      <th></th>\n",
       "      <th>sum</th>\n",
       "      <th>count</th>\n",
       "      <th></th>\n",
       "    </tr>\n",
       "    <tr>\n",
       "      <th>children</th>\n",
       "      <th></th>\n",
       "      <th></th>\n",
       "      <th></th>\n",
       "    </tr>\n",
       "  </thead>\n",
       "  <tbody>\n",
       "    <tr>\n",
       "      <th>0</th>\n",
       "      <td>1063</td>\n",
       "      <td>14091</td>\n",
       "      <td>67</td>\n",
       "    </tr>\n",
       "    <tr>\n",
       "      <th>1</th>\n",
       "      <td>444</td>\n",
       "      <td>4808</td>\n",
       "      <td>23</td>\n",
       "    </tr>\n",
       "    <tr>\n",
       "      <th>2</th>\n",
       "      <td>194</td>\n",
       "      <td>2052</td>\n",
       "      <td>10</td>\n",
       "    </tr>\n",
       "  </tbody>\n",
       "</table>\n",
       "</div>"
      ],
      "text/plain": [
       "          debt        category_to_all_%\n",
       "           sum  count                  \n",
       "children                               \n",
       "0         1063  14091                67\n",
       "1          444   4808                23\n",
       "2          194   2052                10"
      ]
     },
     "execution_count": 29,
     "metadata": {},
     "output_type": "execute_result"
    }
   ],
   "source": [
    "сalc_debt_children_filtered = сalc_debt_children.loc[сalc_debt_children['category_to_all_%']>=5]\n",
    "сalc_debt_children_filtered"
   ]
  },
  {
   "cell_type": "markdown",
   "id": "007a0399",
   "metadata": {},
   "source": [
    "Для более корректной оценки рассмотрим отношение должников к общему числу клиентов и отсортируем полученные значения для наглядности"
   ]
  },
  {
   "cell_type": "code",
   "execution_count": 30,
   "id": "8c3161a1",
   "metadata": {},
   "outputs": [
    {
     "data": {
      "text/html": [
       "<div>\n",
       "<style scoped>\n",
       "    .dataframe tbody tr th:only-of-type {\n",
       "        vertical-align: middle;\n",
       "    }\n",
       "\n",
       "    .dataframe tbody tr th {\n",
       "        vertical-align: top;\n",
       "    }\n",
       "\n",
       "    .dataframe thead tr th {\n",
       "        text-align: left;\n",
       "    }\n",
       "\n",
       "    .dataframe thead tr:last-of-type th {\n",
       "        text-align: right;\n",
       "    }\n",
       "</style>\n",
       "<table border=\"1\" class=\"dataframe\">\n",
       "  <thead>\n",
       "    <tr>\n",
       "      <th></th>\n",
       "      <th colspan=\"2\" halign=\"left\">debt</th>\n",
       "      <th>category_to_all_%</th>\n",
       "      <th>debt_to_total_%</th>\n",
       "    </tr>\n",
       "    <tr>\n",
       "      <th></th>\n",
       "      <th>sum</th>\n",
       "      <th>count</th>\n",
       "      <th></th>\n",
       "      <th></th>\n",
       "    </tr>\n",
       "    <tr>\n",
       "      <th>children</th>\n",
       "      <th></th>\n",
       "      <th></th>\n",
       "      <th></th>\n",
       "      <th></th>\n",
       "    </tr>\n",
       "  </thead>\n",
       "  <tbody>\n",
       "    <tr>\n",
       "      <th>2</th>\n",
       "      <td>194</td>\n",
       "      <td>2052</td>\n",
       "      <td>10</td>\n",
       "      <td>9.45</td>\n",
       "    </tr>\n",
       "    <tr>\n",
       "      <th>1</th>\n",
       "      <td>444</td>\n",
       "      <td>4808</td>\n",
       "      <td>23</td>\n",
       "      <td>9.23</td>\n",
       "    </tr>\n",
       "    <tr>\n",
       "      <th>0</th>\n",
       "      <td>1063</td>\n",
       "      <td>14091</td>\n",
       "      <td>67</td>\n",
       "      <td>7.54</td>\n",
       "    </tr>\n",
       "  </tbody>\n",
       "</table>\n",
       "</div>"
      ],
      "text/plain": [
       "          debt        category_to_all_% debt_to_total_%\n",
       "           sum  count                                  \n",
       "children                                               \n",
       "2          194   2052                10            9.45\n",
       "1          444   4808                23            9.23\n",
       "0         1063  14091                67            7.54"
      ]
     },
     "execution_count": 30,
     "metadata": {},
     "output_type": "execute_result"
    }
   ],
   "source": [
    "сalc_debt_children_filtered['debt_to_total_%'] = \\\n",
    "    сalc_debt_children_filtered['debt']['sum']/сalc_debt_children_filtered['debt']['count']*100\n",
    "\n",
    "сalc_debt_children_filtered['debt_to_total_%'] = round(сalc_debt_children_filtered['debt_to_total_%'],2)\n",
    "\n",
    "сalc_debt_children_filtered = сalc_debt_children_filtered.sort_values(by = 'debt_to_total_%', ascending = False)\n",
    "сalc_debt_children_filtered"
   ]
  },
  {
   "cell_type": "markdown",
   "id": "87918d01",
   "metadata": {
    "deletable": false,
    "id": "3a6b99ec"
   },
   "source": [
    "**Вывод:**\n",
    "Согласно результатам последней таблицы, зависимость между количеством детей и наличием задолженности следующая: чем больше детей, тем выше риск задолженности"
   ]
  },
  {
   "cell_type": "markdown",
   "id": "7b1df18f",
   "metadata": {
    "deletable": false,
    "editable": false,
    "id": "97be82ca"
   },
   "source": [
    "**Определение зависимости между семейным положением и возвратом кредита в срок**"
   ]
  },
  {
   "cell_type": "markdown",
   "id": "825b2199",
   "metadata": {},
   "source": [
    "Рассчитаем количество должников и общее число клиентов в каждой категории семейного положения"
   ]
  },
  {
   "cell_type": "code",
   "execution_count": 31,
   "id": "533a6502",
   "metadata": {
    "deletable": false,
    "id": "dc3f7ee8"
   },
   "outputs": [
    {
     "data": {
      "text/html": [
       "<div>\n",
       "<style scoped>\n",
       "    .dataframe tbody tr th:only-of-type {\n",
       "        vertical-align: middle;\n",
       "    }\n",
       "\n",
       "    .dataframe tbody tr th {\n",
       "        vertical-align: top;\n",
       "    }\n",
       "\n",
       "    .dataframe thead tr th {\n",
       "        text-align: left;\n",
       "    }\n",
       "\n",
       "    .dataframe thead tr:last-of-type th {\n",
       "        text-align: right;\n",
       "    }\n",
       "</style>\n",
       "<table border=\"1\" class=\"dataframe\">\n",
       "  <thead>\n",
       "    <tr>\n",
       "      <th></th>\n",
       "      <th colspan=\"2\" halign=\"left\">debt</th>\n",
       "    </tr>\n",
       "    <tr>\n",
       "      <th></th>\n",
       "      <th>sum</th>\n",
       "      <th>count</th>\n",
       "    </tr>\n",
       "    <tr>\n",
       "      <th>family_status</th>\n",
       "      <th></th>\n",
       "      <th></th>\n",
       "    </tr>\n",
       "  </thead>\n",
       "  <tbody>\n",
       "    <tr>\n",
       "      <th>Не женат / не замужем</th>\n",
       "      <td>273</td>\n",
       "      <td>2796</td>\n",
       "    </tr>\n",
       "    <tr>\n",
       "      <th>в разводе</th>\n",
       "      <td>84</td>\n",
       "      <td>1189</td>\n",
       "    </tr>\n",
       "    <tr>\n",
       "      <th>вдовец / вдова</th>\n",
       "      <td>63</td>\n",
       "      <td>951</td>\n",
       "    </tr>\n",
       "    <tr>\n",
       "      <th>гражданский брак</th>\n",
       "      <td>385</td>\n",
       "      <td>4134</td>\n",
       "    </tr>\n",
       "    <tr>\n",
       "      <th>женат / замужем</th>\n",
       "      <td>927</td>\n",
       "      <td>12261</td>\n",
       "    </tr>\n",
       "  </tbody>\n",
       "</table>\n",
       "</div>"
      ],
      "text/plain": [
       "                      debt       \n",
       "                       sum  count\n",
       "family_status                    \n",
       "Не женат / не замужем  273   2796\n",
       "в разводе               84   1189\n",
       "вдовец / вдова          63    951\n",
       "гражданский брак       385   4134\n",
       "женат / замужем        927  12261"
      ]
     },
     "execution_count": 31,
     "metadata": {},
     "output_type": "execute_result"
    }
   ],
   "source": [
    "calc_debt_status = data.groupby('family_status').agg({'debt': ['sum','count']})\n",
    "calc_debt_status"
   ]
  },
  {
   "cell_type": "markdown",
   "id": "1e8845a9",
   "metadata": {},
   "source": [
    "Выведем процент клиентов каждой категории от общего числа"
   ]
  },
  {
   "cell_type": "code",
   "execution_count": 32,
   "id": "52695734",
   "metadata": {},
   "outputs": [
    {
     "name": "stdout",
     "output_type": "stream",
     "text": [
      "Общее колличество должников: 21331\n"
     ]
    },
    {
     "data": {
      "text/html": [
       "<div>\n",
       "<style scoped>\n",
       "    .dataframe tbody tr th:only-of-type {\n",
       "        vertical-align: middle;\n",
       "    }\n",
       "\n",
       "    .dataframe tbody tr th {\n",
       "        vertical-align: top;\n",
       "    }\n",
       "\n",
       "    .dataframe thead tr th {\n",
       "        text-align: left;\n",
       "    }\n",
       "\n",
       "    .dataframe thead tr:last-of-type th {\n",
       "        text-align: right;\n",
       "    }\n",
       "</style>\n",
       "<table border=\"1\" class=\"dataframe\">\n",
       "  <thead>\n",
       "    <tr>\n",
       "      <th></th>\n",
       "      <th colspan=\"2\" halign=\"left\">debt</th>\n",
       "      <th>category_to_all_%</th>\n",
       "    </tr>\n",
       "    <tr>\n",
       "      <th></th>\n",
       "      <th>sum</th>\n",
       "      <th>count</th>\n",
       "      <th></th>\n",
       "    </tr>\n",
       "    <tr>\n",
       "      <th>family_status</th>\n",
       "      <th></th>\n",
       "      <th></th>\n",
       "      <th></th>\n",
       "    </tr>\n",
       "  </thead>\n",
       "  <tbody>\n",
       "    <tr>\n",
       "      <th>Не женат / не замужем</th>\n",
       "      <td>273</td>\n",
       "      <td>2796</td>\n",
       "      <td>14</td>\n",
       "    </tr>\n",
       "    <tr>\n",
       "      <th>в разводе</th>\n",
       "      <td>84</td>\n",
       "      <td>1189</td>\n",
       "      <td>6</td>\n",
       "    </tr>\n",
       "    <tr>\n",
       "      <th>вдовец / вдова</th>\n",
       "      <td>63</td>\n",
       "      <td>951</td>\n",
       "      <td>5</td>\n",
       "    </tr>\n",
       "    <tr>\n",
       "      <th>гражданский брак</th>\n",
       "      <td>385</td>\n",
       "      <td>4134</td>\n",
       "      <td>20</td>\n",
       "    </tr>\n",
       "    <tr>\n",
       "      <th>женат / замужем</th>\n",
       "      <td>927</td>\n",
       "      <td>12261</td>\n",
       "      <td>58</td>\n",
       "    </tr>\n",
       "  </tbody>\n",
       "</table>\n",
       "</div>"
      ],
      "text/plain": [
       "                      debt        category_to_all_%\n",
       "                       sum  count                  \n",
       "family_status                                      \n",
       "Не женат / не замужем  273   2796                14\n",
       "в разводе               84   1189                 6\n",
       "вдовец / вдова          63    951                 5\n",
       "гражданский брак       385   4134                20\n",
       "женат / замужем        927  12261                58"
      ]
     },
     "metadata": {},
     "output_type": "display_data"
    }
   ],
   "source": [
    "clients_sum_status = calc_debt_status['debt']['count'].sum()\n",
    "print('Общее колличество должников:', clients_sum_status)\n",
    "\n",
    "calc_debt_status['category_to_all_%'] = calc_debt_status['debt']['count'] / clients_sum_status * 100\n",
    "calc_debt_status['category_to_all_%'] = calc_debt_status['category_to_all_%'].apply(math.ceil)\n",
    "display(calc_debt_status)"
   ]
  },
  {
   "cell_type": "markdown",
   "id": "d1f50c47",
   "metadata": {},
   "source": [
    "Расcчитаем процент должников в каждой категории"
   ]
  },
  {
   "cell_type": "code",
   "execution_count": 33,
   "id": "461ff520",
   "metadata": {},
   "outputs": [
    {
     "data": {
      "text/html": [
       "<div>\n",
       "<style scoped>\n",
       "    .dataframe tbody tr th:only-of-type {\n",
       "        vertical-align: middle;\n",
       "    }\n",
       "\n",
       "    .dataframe tbody tr th {\n",
       "        vertical-align: top;\n",
       "    }\n",
       "\n",
       "    .dataframe thead tr th {\n",
       "        text-align: left;\n",
       "    }\n",
       "\n",
       "    .dataframe thead tr:last-of-type th {\n",
       "        text-align: right;\n",
       "    }\n",
       "</style>\n",
       "<table border=\"1\" class=\"dataframe\">\n",
       "  <thead>\n",
       "    <tr>\n",
       "      <th></th>\n",
       "      <th colspan=\"2\" halign=\"left\">debt</th>\n",
       "      <th>category_to_all_%</th>\n",
       "      <th>debt_to_total_%</th>\n",
       "    </tr>\n",
       "    <tr>\n",
       "      <th></th>\n",
       "      <th>sum</th>\n",
       "      <th>count</th>\n",
       "      <th></th>\n",
       "      <th></th>\n",
       "    </tr>\n",
       "    <tr>\n",
       "      <th>family_status</th>\n",
       "      <th></th>\n",
       "      <th></th>\n",
       "      <th></th>\n",
       "      <th></th>\n",
       "    </tr>\n",
       "  </thead>\n",
       "  <tbody>\n",
       "    <tr>\n",
       "      <th>Не женат / не замужем</th>\n",
       "      <td>273</td>\n",
       "      <td>2796</td>\n",
       "      <td>14</td>\n",
       "      <td>9.76</td>\n",
       "    </tr>\n",
       "    <tr>\n",
       "      <th>гражданский брак</th>\n",
       "      <td>385</td>\n",
       "      <td>4134</td>\n",
       "      <td>20</td>\n",
       "      <td>9.31</td>\n",
       "    </tr>\n",
       "    <tr>\n",
       "      <th>женат / замужем</th>\n",
       "      <td>927</td>\n",
       "      <td>12261</td>\n",
       "      <td>58</td>\n",
       "      <td>7.56</td>\n",
       "    </tr>\n",
       "    <tr>\n",
       "      <th>в разводе</th>\n",
       "      <td>84</td>\n",
       "      <td>1189</td>\n",
       "      <td>6</td>\n",
       "      <td>7.06</td>\n",
       "    </tr>\n",
       "    <tr>\n",
       "      <th>вдовец / вдова</th>\n",
       "      <td>63</td>\n",
       "      <td>951</td>\n",
       "      <td>5</td>\n",
       "      <td>6.62</td>\n",
       "    </tr>\n",
       "  </tbody>\n",
       "</table>\n",
       "</div>"
      ],
      "text/plain": [
       "                      debt        category_to_all_% debt_to_total_%\n",
       "                       sum  count                                  \n",
       "family_status                                                      \n",
       "Не женат / не замужем  273   2796                14            9.76\n",
       "гражданский брак       385   4134                20            9.31\n",
       "женат / замужем        927  12261                58            7.56\n",
       "в разводе               84   1189                 6            7.06\n",
       "вдовец / вдова          63    951                 5            6.62"
      ]
     },
     "execution_count": 33,
     "metadata": {},
     "output_type": "execute_result"
    }
   ],
   "source": [
    "calc_debt_status['debt_to_total_%'] = calc_debt_status['debt']['sum']/calc_debt_status['debt']['count']*100\n",
    "calc_debt_status['debt_to_total_%'] = round(calc_debt_status['debt_to_total_%'],2)\n",
    "calc_debt_status = calc_debt_status.sort_values(by = 'debt_to_total_%', ascending = False)\n",
    "calc_debt_status"
   ]
  },
  {
   "cell_type": "markdown",
   "id": "ac079d0f",
   "metadata": {
    "deletable": false,
    "id": "1cef7837"
   },
   "source": [
    "**Вывод:** \n",
    "\n",
    "Рассмотрим рассчитанные данные парами:\n",
    "\n",
    "+ _не женат/не замужем_ и _женат/замужем_ - количество должников среди клиентов сыгравших свадьбу меньше на целых два процента. Это логично, т.к. часто в семьях работают двое, соотвественно общий доход выше и выплачивать кредит легче.\n",
    "\n",
    "\n",
    "+ _не женат/не замужем_ и _гражданский брак_ - колличество должников в этой категории практически одинаково. Скорее всего это связано с тем, что статусы могут пересекаться и среди не женатых могут находиться люди в гражданском браке.\n",
    "\n",
    "\n",
    "+ _женат/замужем_ и _в разводе_ - эти категории отличаются друг от друга на половину процента в лучшую сторону. Интересно то, что процент уменьшается, хотя общий доход разделяется отдельно на каждого клиента. Возможно, это связано с тем, что клиенты брали кредит, когда находились в браке и дальше продолжают выплачивать его совместно. \n",
    "\n",
    "Самые лучшие показатели оказываются у категории вдовец/вдова, среди них должников всего около 6.6%"
   ]
  },
  {
   "cell_type": "markdown",
   "id": "103d97cb",
   "metadata": {
    "deletable": false,
    "editable": false,
    "id": "1e8b2fca"
   },
   "source": [
    "**Определение зависимости между уровнем дохода и возвратом кредита в срок**"
   ]
  },
  {
   "cell_type": "markdown",
   "id": "8b3588a7",
   "metadata": {},
   "source": [
    "Ранее мы разделяли доход на следующие категории:\n",
    "- 0–30000 — `'E'`;\n",
    "- 30001–50000 — `'D'`;\n",
    "- 50001–200000 — `'C'`;\n",
    "- 200001–1000000 — `'B'`;\n",
    "- 1000001 и выше — `'A'`."
   ]
  },
  {
   "cell_type": "markdown",
   "id": "65a7e06b",
   "metadata": {},
   "source": [
    "Рассчитаем количество общее количество клиентов и должников в каждой категории"
   ]
  },
  {
   "cell_type": "code",
   "execution_count": 34,
   "id": "43532602",
   "metadata": {
    "deletable": false,
    "id": "cd7e3720"
   },
   "outputs": [
    {
     "data": {
      "text/html": [
       "<div>\n",
       "<style scoped>\n",
       "    .dataframe tbody tr th:only-of-type {\n",
       "        vertical-align: middle;\n",
       "    }\n",
       "\n",
       "    .dataframe tbody tr th {\n",
       "        vertical-align: top;\n",
       "    }\n",
       "\n",
       "    .dataframe thead tr th {\n",
       "        text-align: left;\n",
       "    }\n",
       "\n",
       "    .dataframe thead tr:last-of-type th {\n",
       "        text-align: right;\n",
       "    }\n",
       "</style>\n",
       "<table border=\"1\" class=\"dataframe\">\n",
       "  <thead>\n",
       "    <tr>\n",
       "      <th></th>\n",
       "      <th colspan=\"2\" halign=\"left\">debt</th>\n",
       "    </tr>\n",
       "    <tr>\n",
       "      <th></th>\n",
       "      <th>sum</th>\n",
       "      <th>count</th>\n",
       "    </tr>\n",
       "    <tr>\n",
       "      <th>total_income_category</th>\n",
       "      <th></th>\n",
       "      <th></th>\n",
       "    </tr>\n",
       "  </thead>\n",
       "  <tbody>\n",
       "    <tr>\n",
       "      <th>A</th>\n",
       "      <td>2</td>\n",
       "      <td>25</td>\n",
       "    </tr>\n",
       "    <tr>\n",
       "      <th>B</th>\n",
       "      <td>354</td>\n",
       "      <td>5014</td>\n",
       "    </tr>\n",
       "    <tr>\n",
       "      <th>C</th>\n",
       "      <td>1353</td>\n",
       "      <td>15921</td>\n",
       "    </tr>\n",
       "    <tr>\n",
       "      <th>D</th>\n",
       "      <td>21</td>\n",
       "      <td>349</td>\n",
       "    </tr>\n",
       "    <tr>\n",
       "      <th>E</th>\n",
       "      <td>2</td>\n",
       "      <td>22</td>\n",
       "    </tr>\n",
       "  </tbody>\n",
       "</table>\n",
       "</div>"
      ],
      "text/plain": [
       "                       debt       \n",
       "                        sum  count\n",
       "total_income_category             \n",
       "A                         2     25\n",
       "B                       354   5014\n",
       "C                      1353  15921\n",
       "D                        21    349\n",
       "E                         2     22"
      ]
     },
     "execution_count": 34,
     "metadata": {},
     "output_type": "execute_result"
    }
   ],
   "source": [
    "calc_debt_income = data.groupby('total_income_category').agg({'debt': ['sum','count']})\n",
    "calc_debt_income"
   ]
  },
  {
   "cell_type": "markdown",
   "id": "7a051187",
   "metadata": {},
   "source": [
    "Выведем процент клиентов каждой категории от общего числа"
   ]
  },
  {
   "cell_type": "code",
   "execution_count": 35,
   "id": "94525953",
   "metadata": {},
   "outputs": [
    {
     "name": "stdout",
     "output_type": "stream",
     "text": [
      "Общее колличество должников: 21331\n"
     ]
    },
    {
     "data": {
      "text/html": [
       "<div>\n",
       "<style scoped>\n",
       "    .dataframe tbody tr th:only-of-type {\n",
       "        vertical-align: middle;\n",
       "    }\n",
       "\n",
       "    .dataframe tbody tr th {\n",
       "        vertical-align: top;\n",
       "    }\n",
       "\n",
       "    .dataframe thead tr th {\n",
       "        text-align: left;\n",
       "    }\n",
       "\n",
       "    .dataframe thead tr:last-of-type th {\n",
       "        text-align: right;\n",
       "    }\n",
       "</style>\n",
       "<table border=\"1\" class=\"dataframe\">\n",
       "  <thead>\n",
       "    <tr>\n",
       "      <th></th>\n",
       "      <th colspan=\"2\" halign=\"left\">debt</th>\n",
       "      <th>category_to_all_%</th>\n",
       "    </tr>\n",
       "    <tr>\n",
       "      <th></th>\n",
       "      <th>sum</th>\n",
       "      <th>count</th>\n",
       "      <th></th>\n",
       "    </tr>\n",
       "    <tr>\n",
       "      <th>total_income_category</th>\n",
       "      <th></th>\n",
       "      <th></th>\n",
       "      <th></th>\n",
       "    </tr>\n",
       "  </thead>\n",
       "  <tbody>\n",
       "    <tr>\n",
       "      <th>A</th>\n",
       "      <td>2</td>\n",
       "      <td>25</td>\n",
       "      <td>1</td>\n",
       "    </tr>\n",
       "    <tr>\n",
       "      <th>B</th>\n",
       "      <td>354</td>\n",
       "      <td>5014</td>\n",
       "      <td>24</td>\n",
       "    </tr>\n",
       "    <tr>\n",
       "      <th>C</th>\n",
       "      <td>1353</td>\n",
       "      <td>15921</td>\n",
       "      <td>75</td>\n",
       "    </tr>\n",
       "    <tr>\n",
       "      <th>D</th>\n",
       "      <td>21</td>\n",
       "      <td>349</td>\n",
       "      <td>2</td>\n",
       "    </tr>\n",
       "    <tr>\n",
       "      <th>E</th>\n",
       "      <td>2</td>\n",
       "      <td>22</td>\n",
       "      <td>1</td>\n",
       "    </tr>\n",
       "  </tbody>\n",
       "</table>\n",
       "</div>"
      ],
      "text/plain": [
       "                       debt        category_to_all_%\n",
       "                        sum  count                  \n",
       "total_income_category                               \n",
       "A                         2     25                 1\n",
       "B                       354   5014                24\n",
       "C                      1353  15921                75\n",
       "D                        21    349                 2\n",
       "E                         2     22                 1"
      ]
     },
     "metadata": {},
     "output_type": "display_data"
    }
   ],
   "source": [
    "clients_sum_income = calc_debt_income['debt']['count'].sum()\n",
    "print('Общее колличество должников:', clients_sum_income)\n",
    "\n",
    "calc_debt_income['category_to_all_%'] = calc_debt_income['debt']['count'] / clients_sum_income * 100\n",
    "calc_debt_income['category_to_all_%'] = calc_debt_income['category_to_all_%'].apply(math.ceil)\n",
    "display(calc_debt_income)"
   ]
  },
  {
   "cell_type": "markdown",
   "id": "f8830e53",
   "metadata": {},
   "source": [
    "Уберем нерелевантные категории"
   ]
  },
  {
   "cell_type": "code",
   "execution_count": 36,
   "id": "96a66409",
   "metadata": {},
   "outputs": [
    {
     "data": {
      "text/html": [
       "<div>\n",
       "<style scoped>\n",
       "    .dataframe tbody tr th:only-of-type {\n",
       "        vertical-align: middle;\n",
       "    }\n",
       "\n",
       "    .dataframe tbody tr th {\n",
       "        vertical-align: top;\n",
       "    }\n",
       "\n",
       "    .dataframe thead tr th {\n",
       "        text-align: left;\n",
       "    }\n",
       "\n",
       "    .dataframe thead tr:last-of-type th {\n",
       "        text-align: right;\n",
       "    }\n",
       "</style>\n",
       "<table border=\"1\" class=\"dataframe\">\n",
       "  <thead>\n",
       "    <tr>\n",
       "      <th></th>\n",
       "      <th colspan=\"2\" halign=\"left\">debt</th>\n",
       "      <th>category_to_all_%</th>\n",
       "    </tr>\n",
       "    <tr>\n",
       "      <th></th>\n",
       "      <th>sum</th>\n",
       "      <th>count</th>\n",
       "      <th></th>\n",
       "    </tr>\n",
       "    <tr>\n",
       "      <th>total_income_category</th>\n",
       "      <th></th>\n",
       "      <th></th>\n",
       "      <th></th>\n",
       "    </tr>\n",
       "  </thead>\n",
       "  <tbody>\n",
       "    <tr>\n",
       "      <th>B</th>\n",
       "      <td>354</td>\n",
       "      <td>5014</td>\n",
       "      <td>24</td>\n",
       "    </tr>\n",
       "    <tr>\n",
       "      <th>C</th>\n",
       "      <td>1353</td>\n",
       "      <td>15921</td>\n",
       "      <td>75</td>\n",
       "    </tr>\n",
       "  </tbody>\n",
       "</table>\n",
       "</div>"
      ],
      "text/plain": [
       "                       debt        category_to_all_%\n",
       "                        sum  count                  \n",
       "total_income_category                               \n",
       "B                       354   5014                24\n",
       "C                      1353  15921                75"
      ]
     },
     "execution_count": 36,
     "metadata": {},
     "output_type": "execute_result"
    }
   ],
   "source": [
    "calc_debt_income_filtered = calc_debt_income.loc[calc_debt_income['category_to_all_%']>=5]\n",
    "calc_debt_income_filtered"
   ]
  },
  {
   "cell_type": "markdown",
   "id": "6d66e919",
   "metadata": {},
   "source": [
    "Расcчитаем процент должников в каждой категории"
   ]
  },
  {
   "cell_type": "code",
   "execution_count": 37,
   "id": "46b0c140",
   "metadata": {},
   "outputs": [
    {
     "data": {
      "text/html": [
       "<div>\n",
       "<style scoped>\n",
       "    .dataframe tbody tr th:only-of-type {\n",
       "        vertical-align: middle;\n",
       "    }\n",
       "\n",
       "    .dataframe tbody tr th {\n",
       "        vertical-align: top;\n",
       "    }\n",
       "\n",
       "    .dataframe thead tr th {\n",
       "        text-align: left;\n",
       "    }\n",
       "\n",
       "    .dataframe thead tr:last-of-type th {\n",
       "        text-align: right;\n",
       "    }\n",
       "</style>\n",
       "<table border=\"1\" class=\"dataframe\">\n",
       "  <thead>\n",
       "    <tr>\n",
       "      <th></th>\n",
       "      <th colspan=\"2\" halign=\"left\">debt</th>\n",
       "      <th>category_to_all_%</th>\n",
       "      <th>debt_to_total_%</th>\n",
       "    </tr>\n",
       "    <tr>\n",
       "      <th></th>\n",
       "      <th>sum</th>\n",
       "      <th>count</th>\n",
       "      <th></th>\n",
       "      <th></th>\n",
       "    </tr>\n",
       "    <tr>\n",
       "      <th>total_income_category</th>\n",
       "      <th></th>\n",
       "      <th></th>\n",
       "      <th></th>\n",
       "      <th></th>\n",
       "    </tr>\n",
       "  </thead>\n",
       "  <tbody>\n",
       "    <tr>\n",
       "      <th>C</th>\n",
       "      <td>1353</td>\n",
       "      <td>15921</td>\n",
       "      <td>75</td>\n",
       "      <td>8.50</td>\n",
       "    </tr>\n",
       "    <tr>\n",
       "      <th>B</th>\n",
       "      <td>354</td>\n",
       "      <td>5014</td>\n",
       "      <td>24</td>\n",
       "      <td>7.06</td>\n",
       "    </tr>\n",
       "  </tbody>\n",
       "</table>\n",
       "</div>"
      ],
      "text/plain": [
       "                       debt        category_to_all_% debt_to_total_%\n",
       "                        sum  count                                  \n",
       "total_income_category                                               \n",
       "C                      1353  15921                75            8.50\n",
       "B                       354   5014                24            7.06"
      ]
     },
     "execution_count": 37,
     "metadata": {},
     "output_type": "execute_result"
    }
   ],
   "source": [
    "calc_debt_income_filtered['debt_to_total_%'] = calc_debt_income_filtered['debt']['sum']/calc_debt_income_filtered['debt']['count']*100\n",
    "calc_debt_income_filtered['debt_to_total_%'] = round(calc_debt_income_filtered['debt_to_total_%'],2)\n",
    "calc_debt_income_filtered = calc_debt_income_filtered.sort_values(by = 'debt_to_total_%', ascending = False)\n",
    "calc_debt_income_filtered"
   ]
  },
  {
   "cell_type": "markdown",
   "id": "125b37f1",
   "metadata": {
    "deletable": false,
    "id": "e8593def"
   },
   "source": [
    "**Вывод:**\n",
    "\n",
    "Как и в предыдущих случаях из-за очень небольшого колличества данных по категориям с самыми низкими и с самыми высокими доходами тяжело сказать что-то о зависимости между уровнем дохода и наличием долга.\n",
    "\n",
    "В данном случае можно более точно говорить только о категориях B и С, где вывод следующий: чем больше доход, тем меньше клиентов-должников среди них."
   ]
  },
  {
   "cell_type": "markdown",
   "id": "24cf8562",
   "metadata": {
    "deletable": false,
    "editable": false,
    "id": "99ecbd1f"
   },
   "source": [
    "**Определение влияния целей кредита на возврат в срок**"
   ]
  },
  {
   "cell_type": "markdown",
   "id": "d840caa4",
   "metadata": {},
   "source": [
    "Ранее мы определили следующие категории для цели кредита:\n",
    "\n",
    "+ 'операции с автомобилем',\n",
    "+ 'операции с недвижимостью',\n",
    "+ 'проведение свадьбы',\n",
    "+ 'получение образования'.\n",
    "\n",
    "Аналогично, сгруппируем данные по категориям и рассчитаем сумарное количество клиентов и должников в каждой категории:"
   ]
  },
  {
   "cell_type": "code",
   "execution_count": 38,
   "id": "d7d9f30e",
   "metadata": {
    "deletable": false,
    "id": "2b687290"
   },
   "outputs": [
    {
     "data": {
      "text/html": [
       "<div>\n",
       "<style scoped>\n",
       "    .dataframe tbody tr th:only-of-type {\n",
       "        vertical-align: middle;\n",
       "    }\n",
       "\n",
       "    .dataframe tbody tr th {\n",
       "        vertical-align: top;\n",
       "    }\n",
       "\n",
       "    .dataframe thead tr th {\n",
       "        text-align: left;\n",
       "    }\n",
       "\n",
       "    .dataframe thead tr:last-of-type th {\n",
       "        text-align: right;\n",
       "    }\n",
       "</style>\n",
       "<table border=\"1\" class=\"dataframe\">\n",
       "  <thead>\n",
       "    <tr>\n",
       "      <th></th>\n",
       "      <th colspan=\"2\" halign=\"left\">debt</th>\n",
       "    </tr>\n",
       "    <tr>\n",
       "      <th></th>\n",
       "      <th>sum</th>\n",
       "      <th>count</th>\n",
       "    </tr>\n",
       "    <tr>\n",
       "      <th>purpose_category</th>\n",
       "      <th></th>\n",
       "      <th></th>\n",
       "    </tr>\n",
       "  </thead>\n",
       "  <tbody>\n",
       "    <tr>\n",
       "      <th>операции с автомобилем</th>\n",
       "      <td>400</td>\n",
       "      <td>4279</td>\n",
       "    </tr>\n",
       "    <tr>\n",
       "      <th>операции с недвижимостью</th>\n",
       "      <td>780</td>\n",
       "      <td>10751</td>\n",
       "    </tr>\n",
       "    <tr>\n",
       "      <th>получение образования</th>\n",
       "      <td>369</td>\n",
       "      <td>3988</td>\n",
       "    </tr>\n",
       "    <tr>\n",
       "      <th>проведение свадьбы</th>\n",
       "      <td>183</td>\n",
       "      <td>2313</td>\n",
       "    </tr>\n",
       "  </tbody>\n",
       "</table>\n",
       "</div>"
      ],
      "text/plain": [
       "                         debt       \n",
       "                          sum  count\n",
       "purpose_category                    \n",
       "операции с автомобилем    400   4279\n",
       "операции с недвижимостью  780  10751\n",
       "получение образования     369   3988\n",
       "проведение свадьбы        183   2313"
      ]
     },
     "execution_count": 38,
     "metadata": {},
     "output_type": "execute_result"
    }
   ],
   "source": [
    "calc_debt_purpose = data.groupby('purpose_category').agg({'debt': ['sum','count']})\n",
    "calc_debt_purpose"
   ]
  },
  {
   "cell_type": "markdown",
   "id": "96e26019",
   "metadata": {},
   "source": [
    "В данном случае, данных для оценки достаточно. Это покажет следующая отфильтрованная таблица:"
   ]
  },
  {
   "cell_type": "code",
   "execution_count": 39,
   "id": "5fd4ecec",
   "metadata": {
    "scrolled": true
   },
   "outputs": [
    {
     "name": "stdout",
     "output_type": "stream",
     "text": [
      "Общее колличество должников: 21331\n"
     ]
    },
    {
     "data": {
      "text/html": [
       "<div>\n",
       "<style scoped>\n",
       "    .dataframe tbody tr th:only-of-type {\n",
       "        vertical-align: middle;\n",
       "    }\n",
       "\n",
       "    .dataframe tbody tr th {\n",
       "        vertical-align: top;\n",
       "    }\n",
       "\n",
       "    .dataframe thead tr th {\n",
       "        text-align: left;\n",
       "    }\n",
       "\n",
       "    .dataframe thead tr:last-of-type th {\n",
       "        text-align: right;\n",
       "    }\n",
       "</style>\n",
       "<table border=\"1\" class=\"dataframe\">\n",
       "  <thead>\n",
       "    <tr>\n",
       "      <th></th>\n",
       "      <th colspan=\"2\" halign=\"left\">debt</th>\n",
       "      <th>category_to_all_%</th>\n",
       "    </tr>\n",
       "    <tr>\n",
       "      <th></th>\n",
       "      <th>sum</th>\n",
       "      <th>count</th>\n",
       "      <th></th>\n",
       "    </tr>\n",
       "    <tr>\n",
       "      <th>purpose_category</th>\n",
       "      <th></th>\n",
       "      <th></th>\n",
       "      <th></th>\n",
       "    </tr>\n",
       "  </thead>\n",
       "  <tbody>\n",
       "    <tr>\n",
       "      <th>операции с автомобилем</th>\n",
       "      <td>400</td>\n",
       "      <td>4279</td>\n",
       "      <td>21</td>\n",
       "    </tr>\n",
       "    <tr>\n",
       "      <th>операции с недвижимостью</th>\n",
       "      <td>780</td>\n",
       "      <td>10751</td>\n",
       "      <td>51</td>\n",
       "    </tr>\n",
       "    <tr>\n",
       "      <th>получение образования</th>\n",
       "      <td>369</td>\n",
       "      <td>3988</td>\n",
       "      <td>19</td>\n",
       "    </tr>\n",
       "    <tr>\n",
       "      <th>проведение свадьбы</th>\n",
       "      <td>183</td>\n",
       "      <td>2313</td>\n",
       "      <td>11</td>\n",
       "    </tr>\n",
       "  </tbody>\n",
       "</table>\n",
       "</div>"
      ],
      "text/plain": [
       "                         debt        category_to_all_%\n",
       "                          sum  count                  \n",
       "purpose_category                                      \n",
       "операции с автомобилем    400   4279                21\n",
       "операции с недвижимостью  780  10751                51\n",
       "получение образования     369   3988                19\n",
       "проведение свадьбы        183   2313                11"
      ]
     },
     "execution_count": 39,
     "metadata": {},
     "output_type": "execute_result"
    }
   ],
   "source": [
    "clients_sum_purpose = calc_debt_purpose['debt']['count'].sum()\n",
    "print('Общее колличество должников:', clients_sum_purpose)\n",
    "\n",
    "calc_debt_purpose['category_to_all_%'] = calc_debt_purpose['debt']['count'] / clients_sum_purpose * 100\n",
    "calc_debt_purpose['category_to_all_%'] = calc_debt_purpose['category_to_all_%'].apply(math.ceil)\n",
    "calc_debt_purpose"
   ]
  },
  {
   "cell_type": "code",
   "execution_count": 40,
   "id": "55e9d3f1",
   "metadata": {},
   "outputs": [
    {
     "data": {
      "text/html": [
       "<div>\n",
       "<style scoped>\n",
       "    .dataframe tbody tr th:only-of-type {\n",
       "        vertical-align: middle;\n",
       "    }\n",
       "\n",
       "    .dataframe tbody tr th {\n",
       "        vertical-align: top;\n",
       "    }\n",
       "\n",
       "    .dataframe thead tr th {\n",
       "        text-align: left;\n",
       "    }\n",
       "\n",
       "    .dataframe thead tr:last-of-type th {\n",
       "        text-align: right;\n",
       "    }\n",
       "</style>\n",
       "<table border=\"1\" class=\"dataframe\">\n",
       "  <thead>\n",
       "    <tr>\n",
       "      <th></th>\n",
       "      <th colspan=\"2\" halign=\"left\">debt</th>\n",
       "      <th>category_to_all_%</th>\n",
       "    </tr>\n",
       "    <tr>\n",
       "      <th></th>\n",
       "      <th>sum</th>\n",
       "      <th>count</th>\n",
       "      <th></th>\n",
       "    </tr>\n",
       "    <tr>\n",
       "      <th>purpose_category</th>\n",
       "      <th></th>\n",
       "      <th></th>\n",
       "      <th></th>\n",
       "    </tr>\n",
       "  </thead>\n",
       "  <tbody>\n",
       "    <tr>\n",
       "      <th>операции с автомобилем</th>\n",
       "      <td>400</td>\n",
       "      <td>4279</td>\n",
       "      <td>21</td>\n",
       "    </tr>\n",
       "    <tr>\n",
       "      <th>операции с недвижимостью</th>\n",
       "      <td>780</td>\n",
       "      <td>10751</td>\n",
       "      <td>51</td>\n",
       "    </tr>\n",
       "    <tr>\n",
       "      <th>получение образования</th>\n",
       "      <td>369</td>\n",
       "      <td>3988</td>\n",
       "      <td>19</td>\n",
       "    </tr>\n",
       "    <tr>\n",
       "      <th>проведение свадьбы</th>\n",
       "      <td>183</td>\n",
       "      <td>2313</td>\n",
       "      <td>11</td>\n",
       "    </tr>\n",
       "  </tbody>\n",
       "</table>\n",
       "</div>"
      ],
      "text/plain": [
       "                         debt        category_to_all_%\n",
       "                          sum  count                  \n",
       "purpose_category                                      \n",
       "операции с автомобилем    400   4279                21\n",
       "операции с недвижимостью  780  10751                51\n",
       "получение образования     369   3988                19\n",
       "проведение свадьбы        183   2313                11"
      ]
     },
     "execution_count": 40,
     "metadata": {},
     "output_type": "execute_result"
    }
   ],
   "source": [
    "calc_debt_purpose_filtered = calc_debt_purpose.loc[calc_debt_purpose['category_to_all_%']>=5]\n",
    "calc_debt_purpose_filtered"
   ]
  },
  {
   "cell_type": "markdown",
   "id": "69529317",
   "metadata": {},
   "source": [
    "Расcчитаем процент должников в каждой категории"
   ]
  },
  {
   "cell_type": "code",
   "execution_count": 41,
   "id": "a07f7661",
   "metadata": {},
   "outputs": [
    {
     "data": {
      "text/html": [
       "<div>\n",
       "<style scoped>\n",
       "    .dataframe tbody tr th:only-of-type {\n",
       "        vertical-align: middle;\n",
       "    }\n",
       "\n",
       "    .dataframe tbody tr th {\n",
       "        vertical-align: top;\n",
       "    }\n",
       "\n",
       "    .dataframe thead tr th {\n",
       "        text-align: left;\n",
       "    }\n",
       "\n",
       "    .dataframe thead tr:last-of-type th {\n",
       "        text-align: right;\n",
       "    }\n",
       "</style>\n",
       "<table border=\"1\" class=\"dataframe\">\n",
       "  <thead>\n",
       "    <tr>\n",
       "      <th></th>\n",
       "      <th colspan=\"2\" halign=\"left\">debt</th>\n",
       "      <th>category_to_all_%</th>\n",
       "      <th>debt_to_total_%</th>\n",
       "    </tr>\n",
       "    <tr>\n",
       "      <th></th>\n",
       "      <th>sum</th>\n",
       "      <th>count</th>\n",
       "      <th></th>\n",
       "      <th></th>\n",
       "    </tr>\n",
       "    <tr>\n",
       "      <th>purpose_category</th>\n",
       "      <th></th>\n",
       "      <th></th>\n",
       "      <th></th>\n",
       "      <th></th>\n",
       "    </tr>\n",
       "  </thead>\n",
       "  <tbody>\n",
       "    <tr>\n",
       "      <th>операции с автомобилем</th>\n",
       "      <td>400</td>\n",
       "      <td>4279</td>\n",
       "      <td>21</td>\n",
       "      <td>9.35</td>\n",
       "    </tr>\n",
       "    <tr>\n",
       "      <th>получение образования</th>\n",
       "      <td>369</td>\n",
       "      <td>3988</td>\n",
       "      <td>19</td>\n",
       "      <td>9.25</td>\n",
       "    </tr>\n",
       "    <tr>\n",
       "      <th>проведение свадьбы</th>\n",
       "      <td>183</td>\n",
       "      <td>2313</td>\n",
       "      <td>11</td>\n",
       "      <td>7.91</td>\n",
       "    </tr>\n",
       "    <tr>\n",
       "      <th>операции с недвижимостью</th>\n",
       "      <td>780</td>\n",
       "      <td>10751</td>\n",
       "      <td>51</td>\n",
       "      <td>7.26</td>\n",
       "    </tr>\n",
       "  </tbody>\n",
       "</table>\n",
       "</div>"
      ],
      "text/plain": [
       "                         debt        category_to_all_% debt_to_total_%\n",
       "                          sum  count                                  \n",
       "purpose_category                                                      \n",
       "операции с автомобилем    400   4279                21            9.35\n",
       "получение образования     369   3988                19            9.25\n",
       "проведение свадьбы        183   2313                11            7.91\n",
       "операции с недвижимостью  780  10751                51            7.26"
      ]
     },
     "execution_count": 41,
     "metadata": {},
     "output_type": "execute_result"
    }
   ],
   "source": [
    "calc_debt_purpose_filtered['debt_to_total_%'] = \\\n",
    "    calc_debt_purpose_filtered['debt']['sum']/calc_debt_purpose_filtered['debt']['count']*100\n",
    "\n",
    "calc_debt_purpose_filtered['debt_to_total_%'] = round(calc_debt_purpose_filtered['debt_to_total_%'],2)\n",
    "\n",
    "calc_debt_purpose_filtered = calc_debt_purpose_filtered.sort_values(by = 'debt_to_total_%', ascending = False)\n",
    "calc_debt_purpose_filtered"
   ]
  },
  {
   "cell_type": "markdown",
   "id": "3c0f95c8",
   "metadata": {
    "deletable": false,
    "id": "b4bb2ce6"
   },
   "source": [
    "**Вывод:**\n",
    "\n",
    "Как видно из последней таблицы наибольший процент должников, приходится на тех кто брал кредит на автомобиль и образование ~9%. В категориях проведение свадьбы и операции с недвижимостью процент должников ниже 7-8%.\n",
    "Следовательно наличие задолженности зависит от цели получения кредита."
   ]
  },
  {
   "cell_type": "markdown",
   "id": "de0c8dc5",
   "metadata": {
    "deletable": false,
    "editable": false,
    "id": "6db5255a"
   },
   "source": [
    "### Общий вывод."
   ]
  },
  {
   "cell_type": "markdown",
   "id": "4f7c2505",
   "metadata": {
    "deletable": false,
    "id": "bad65432"
   },
   "source": [
    "Были рассмотрены данные клиентов, которые могли повлиять на наличие кредитной задолженности: количество детей, трудовой стаж, образование, семейный статус, пол, уровень дохода, тип дохода, цель получения кредита, наличие\\осутствие задолженности.\n",
    "\n",
    "**Данные имели следующие недочеты:**\n",
    "\n",
    "+ Пропуски: в трудовом стаже и уровне дохода, поэтому было решено заполнить пропуски медианным значением в зависимости от типа дохода.\n",
    "+ Аномальные значения: в столбце о количестве детей, строки с такими значениями были удалены.\n",
    "+ Неявные дубликаты: устранены, приведением данных к общему виду.\n",
    "+ Явные дубликаты были устранены, путем удаления соответвующих строк из таблицы.\n",
    "\n",
    "**Данные были категорезированы:**\n",
    "\n",
    "+ В зависимости от уровня дохода, были рассчитаны следующие категории:\n",
    "\n",
    "0–30000 — 'E';\n",
    "\n",
    "30001–50000 — 'D';\n",
    "\n",
    "50001–200000 — 'C';\n",
    "\n",
    "200001–1000000 — 'B';\n",
    "\n",
    "1000001 и выше — 'A'.\n",
    "\n",
    "+ В зависимости от цели получения кредита, данные были сгруппированы в следующие 4 категории:\n",
    "\n",
    "'операции с автомобилем',\n",
    "\n",
    "'операции с недвижимостью',\n",
    "\n",
    "'проведение свадьбы',\n",
    "\n",
    "'получение образования'.\n",
    "\n",
    "\n",
    "**Были рассмотрены следующие гипотезы и сделаны соответствующие выводы:**\n",
    "\n",
    " \n",
    " + Есть ли зависимость между количеством детей и возвратом кредита в срок?\n",
    " \n",
    "Зависимость следующая: с увеличением количества детей, риск невозврата кредита в срок возрастает и может доходить до 10%\n",
    "\n",
    " \n",
    " + Есть ли зависимость между семейным положением и возвратом кредита в срок?\n",
    " \n",
    "В группе риска находятся клиенты в статусе _не женат/не замужем_ и _гражданский брак_, процент должников составляет около 9-10%\n",
    "\n",
    "Более хорошие результаты показали клиенты в статусе _женат/замужем_ и _в разводе_, процент должников составляет около 7%\n",
    "\n",
    "Наилучший результат показали клиенты в статусе вдовец/вдова - около 6.6%\n",
    "\n",
    " \n",
    " + Есть ли зависимость между уровнем дохода и возвратом кредита в срок?\n",
    " \n",
    "Зависимость следующая: чем выше уровень дохода, тем ниже риск задолженности.\n",
    "\n",
    "\n",
    " + Как разные цели кредита влияют на его возврат в срок?\n",
    " \n",
    "В группе риска находятся клиенты взявшие кредит с категорией цели _операции с автомобилем_ и _оплата образования_, процент должников составляет около 9%.\n",
    "\n",
    "Ниже риск имеют клиенты с категориями цели _проведение свадьбы_ и _операции с недвижимостью_ - 7-8%\n",
    "\n",
    "\n",
    "**Таким образом** \n",
    "\n",
    "Идеальным заемщиком является клиент вдовец без детей с высоким уровнем дохода, который получил кредит с целью получения образования или покупки автомобиля\n",
    "\n",
    "Клиентом с большим риском невыплаты кредита является человек не женатый или состоящий в гражданском браке с низким уровнем дохода, большим количеством детей, получивший кредит с целью приобретения недвижимости или организации свадьбы."
   ]
  },
  {
   "cell_type": "code",
   "execution_count": null,
   "id": "53bcb3e8",
   "metadata": {},
   "outputs": [],
   "source": []
  }
 ],
 "metadata": {
  "ExecuteTimeLog": [
   {
    "duration": 48,
    "start_time": "2024-02-07T14:26:58.102Z"
   },
   {
    "duration": 582,
    "start_time": "2024-02-07T14:27:03.070Z"
   },
   {
    "duration": 24,
    "start_time": "2024-02-07T14:27:03.654Z"
   },
   {
    "duration": 30,
    "start_time": "2024-02-07T14:27:03.680Z"
   },
   {
    "duration": 36,
    "start_time": "2024-02-07T14:27:03.712Z"
   },
   {
    "duration": 66,
    "start_time": "2024-02-07T14:27:03.749Z"
   },
   {
    "duration": 4,
    "start_time": "2024-02-07T14:27:03.817Z"
   },
   {
    "duration": 37,
    "start_time": "2024-02-07T14:27:03.822Z"
   },
   {
    "duration": 12,
    "start_time": "2024-02-07T14:27:03.860Z"
   },
   {
    "duration": 13,
    "start_time": "2024-02-07T14:27:03.874Z"
   },
   {
    "duration": 27,
    "start_time": "2024-02-07T14:27:03.890Z"
   },
   {
    "duration": 63,
    "start_time": "2024-02-07T14:27:03.918Z"
   },
   {
    "duration": 38,
    "start_time": "2024-02-07T14:27:03.982Z"
   },
   {
    "duration": 31,
    "start_time": "2024-02-07T14:27:04.022Z"
   },
   {
    "duration": 80,
    "start_time": "2024-02-07T14:27:04.055Z"
   },
   {
    "duration": 80,
    "start_time": "2024-02-07T14:27:04.137Z"
   },
   {
    "duration": 61,
    "start_time": "2024-02-07T14:27:04.219Z"
   },
   {
    "duration": 4,
    "start_time": "2024-02-07T14:27:04.282Z"
   },
   {
    "duration": 25,
    "start_time": "2024-02-07T14:27:04.288Z"
   },
   {
    "duration": 5,
    "start_time": "2024-02-07T14:27:04.315Z"
   },
   {
    "duration": 13,
    "start_time": "2024-02-07T14:27:04.322Z"
   },
   {
    "duration": 22,
    "start_time": "2024-02-07T14:27:04.337Z"
   },
   {
    "duration": 33,
    "start_time": "2024-02-07T14:27:04.361Z"
   },
   {
    "duration": 10,
    "start_time": "2024-02-07T14:27:33.165Z"
   },
   {
    "duration": 5,
    "start_time": "2024-02-07T14:31:03.764Z"
   },
   {
    "duration": 1139,
    "start_time": "2024-02-07T14:31:41.263Z"
   },
   {
    "duration": 5,
    "start_time": "2024-02-07T14:32:16.559Z"
   },
   {
    "duration": 3,
    "start_time": "2024-02-07T14:34:57.556Z"
   },
   {
    "duration": 8,
    "start_time": "2024-02-07T14:37:03.580Z"
   },
   {
    "duration": 6,
    "start_time": "2024-02-07T14:40:22.923Z"
   },
   {
    "duration": 6,
    "start_time": "2024-02-07T14:45:08.538Z"
   },
   {
    "duration": 6,
    "start_time": "2024-02-07T14:45:15.670Z"
   },
   {
    "duration": 7,
    "start_time": "2024-02-07T14:48:31.706Z"
   },
   {
    "duration": 79,
    "start_time": "2024-02-07T14:48:35.761Z"
   },
   {
    "duration": 16,
    "start_time": "2024-02-07T14:48:35.842Z"
   },
   {
    "duration": 46,
    "start_time": "2024-02-07T14:48:35.859Z"
   },
   {
    "duration": 30,
    "start_time": "2024-02-07T14:48:35.907Z"
   },
   {
    "duration": 59,
    "start_time": "2024-02-07T14:48:35.938Z"
   },
   {
    "duration": 4,
    "start_time": "2024-02-07T14:48:35.999Z"
   },
   {
    "duration": 13,
    "start_time": "2024-02-07T14:48:36.004Z"
   },
   {
    "duration": 7,
    "start_time": "2024-02-07T14:48:36.018Z"
   },
   {
    "duration": 12,
    "start_time": "2024-02-07T14:48:36.026Z"
   },
   {
    "duration": 24,
    "start_time": "2024-02-07T14:48:36.041Z"
   },
   {
    "duration": 79,
    "start_time": "2024-02-07T14:48:36.066Z"
   },
   {
    "duration": 11,
    "start_time": "2024-02-07T14:48:36.147Z"
   },
   {
    "duration": 46,
    "start_time": "2024-02-07T14:48:36.160Z"
   },
   {
    "duration": 37,
    "start_time": "2024-02-07T14:48:36.208Z"
   },
   {
    "duration": 29,
    "start_time": "2024-02-07T14:48:36.247Z"
   },
   {
    "duration": 27,
    "start_time": "2024-02-07T14:48:36.278Z"
   },
   {
    "duration": 14,
    "start_time": "2024-02-07T14:48:36.306Z"
   },
   {
    "duration": 24,
    "start_time": "2024-02-07T14:48:36.321Z"
   },
   {
    "duration": 28,
    "start_time": "2024-02-07T14:48:36.347Z"
   },
   {
    "duration": 12,
    "start_time": "2024-02-07T14:48:36.376Z"
   },
   {
    "duration": 19,
    "start_time": "2024-02-07T14:48:36.389Z"
   },
   {
    "duration": 25,
    "start_time": "2024-02-07T14:48:36.409Z"
   },
   {
    "duration": 27,
    "start_time": "2024-02-07T14:48:36.435Z"
   },
   {
    "duration": 20,
    "start_time": "2024-02-07T14:48:36.463Z"
   },
   {
    "duration": 4,
    "start_time": "2024-02-07T14:48:37.710Z"
   },
   {
    "duration": 6,
    "start_time": "2024-02-07T14:48:49.474Z"
   },
   {
    "duration": 3,
    "start_time": "2024-02-07T14:48:51.991Z"
   },
   {
    "duration": 4,
    "start_time": "2024-02-07T14:48:52.564Z"
   },
   {
    "duration": 77,
    "start_time": "2024-02-07T14:49:02.195Z"
   },
   {
    "duration": 15,
    "start_time": "2024-02-07T14:49:02.274Z"
   },
   {
    "duration": 33,
    "start_time": "2024-02-07T14:49:02.291Z"
   },
   {
    "duration": 11,
    "start_time": "2024-02-07T14:49:02.325Z"
   },
   {
    "duration": 68,
    "start_time": "2024-02-07T14:49:02.338Z"
   },
   {
    "duration": 3,
    "start_time": "2024-02-07T14:49:02.408Z"
   },
   {
    "duration": 19,
    "start_time": "2024-02-07T14:49:02.412Z"
   },
   {
    "duration": 13,
    "start_time": "2024-02-07T14:49:02.432Z"
   },
   {
    "duration": 12,
    "start_time": "2024-02-07T14:49:02.447Z"
   },
   {
    "duration": 11,
    "start_time": "2024-02-07T14:49:02.460Z"
   },
   {
    "duration": 44,
    "start_time": "2024-02-07T14:49:02.473Z"
   },
   {
    "duration": 10,
    "start_time": "2024-02-07T14:49:02.519Z"
   },
   {
    "duration": 8,
    "start_time": "2024-02-07T14:49:02.531Z"
   },
   {
    "duration": 40,
    "start_time": "2024-02-07T14:49:02.542Z"
   },
   {
    "duration": 32,
    "start_time": "2024-02-07T14:49:02.584Z"
   },
   {
    "duration": 24,
    "start_time": "2024-02-07T14:49:02.617Z"
   },
   {
    "duration": 6,
    "start_time": "2024-02-07T14:49:02.642Z"
   },
   {
    "duration": 18,
    "start_time": "2024-02-07T14:49:02.649Z"
   },
   {
    "duration": 15,
    "start_time": "2024-02-07T14:49:02.668Z"
   },
   {
    "duration": 26,
    "start_time": "2024-02-07T14:49:02.685Z"
   },
   {
    "duration": 40,
    "start_time": "2024-02-07T14:49:02.712Z"
   },
   {
    "duration": 39,
    "start_time": "2024-02-07T14:49:02.754Z"
   },
   {
    "duration": 25,
    "start_time": "2024-02-07T14:49:02.794Z"
   },
   {
    "duration": 17,
    "start_time": "2024-02-07T14:49:02.821Z"
   },
   {
    "duration": 32,
    "start_time": "2024-02-07T14:49:02.840Z"
   },
   {
    "duration": 16,
    "start_time": "2024-02-07T14:49:02.874Z"
   },
   {
    "duration": 18,
    "start_time": "2024-02-07T14:49:02.891Z"
   },
   {
    "duration": 23,
    "start_time": "2024-02-07T14:49:02.911Z"
   },
   {
    "duration": 26,
    "start_time": "2024-02-07T14:49:02.936Z"
   },
   {
    "duration": 9,
    "start_time": "2024-02-07T14:49:47.842Z"
   },
   {
    "duration": 12,
    "start_time": "2024-02-07T14:58:09.499Z"
   },
   {
    "duration": 11,
    "start_time": "2024-02-07T14:58:12.916Z"
   },
   {
    "duration": 76,
    "start_time": "2024-02-07T14:58:20.150Z"
   },
   {
    "duration": 18,
    "start_time": "2024-02-07T14:58:20.228Z"
   },
   {
    "duration": 30,
    "start_time": "2024-02-07T14:58:20.248Z"
   },
   {
    "duration": 24,
    "start_time": "2024-02-07T14:58:20.280Z"
   },
   {
    "duration": 37,
    "start_time": "2024-02-07T14:58:20.305Z"
   },
   {
    "duration": 3,
    "start_time": "2024-02-07T14:58:20.344Z"
   },
   {
    "duration": 18,
    "start_time": "2024-02-07T14:58:20.349Z"
   },
   {
    "duration": 20,
    "start_time": "2024-02-07T14:58:20.368Z"
   },
   {
    "duration": 15,
    "start_time": "2024-02-07T14:58:20.390Z"
   },
   {
    "duration": 11,
    "start_time": "2024-02-07T14:58:20.408Z"
   },
   {
    "duration": 39,
    "start_time": "2024-02-07T14:58:20.421Z"
   },
   {
    "duration": 12,
    "start_time": "2024-02-07T14:58:20.462Z"
   },
   {
    "duration": 8,
    "start_time": "2024-02-07T14:58:20.475Z"
   },
   {
    "duration": 19,
    "start_time": "2024-02-07T14:58:20.484Z"
   },
   {
    "duration": 24,
    "start_time": "2024-02-07T14:58:20.504Z"
   },
   {
    "duration": 24,
    "start_time": "2024-02-07T14:58:20.530Z"
   },
   {
    "duration": 5,
    "start_time": "2024-02-07T14:58:20.556Z"
   },
   {
    "duration": 11,
    "start_time": "2024-02-07T14:58:20.581Z"
   },
   {
    "duration": 17,
    "start_time": "2024-02-07T14:58:20.593Z"
   },
   {
    "duration": 9,
    "start_time": "2024-02-07T14:58:20.611Z"
   },
   {
    "duration": 16,
    "start_time": "2024-02-07T14:58:20.621Z"
   },
   {
    "duration": 30,
    "start_time": "2024-02-07T14:58:20.639Z"
   },
   {
    "duration": 7,
    "start_time": "2024-02-07T14:58:20.671Z"
   },
   {
    "duration": 10,
    "start_time": "2024-02-07T14:58:20.679Z"
   },
   {
    "duration": 11,
    "start_time": "2024-02-07T14:58:22.833Z"
   },
   {
    "duration": 11,
    "start_time": "2024-02-07T14:58:28.250Z"
   },
   {
    "duration": 11,
    "start_time": "2024-02-07T14:58:37.289Z"
   },
   {
    "duration": 11,
    "start_time": "2024-02-07T14:58:40.728Z"
   },
   {
    "duration": 9,
    "start_time": "2024-02-07T14:58:57.813Z"
   },
   {
    "duration": 1261,
    "start_time": "2024-02-07T15:02:15.337Z"
   },
   {
    "duration": 6,
    "start_time": "2024-02-07T15:02:45.216Z"
   },
   {
    "duration": 6,
    "start_time": "2024-02-07T15:02:53.790Z"
   },
   {
    "duration": 7,
    "start_time": "2024-02-07T15:04:28.814Z"
   },
   {
    "duration": 5,
    "start_time": "2024-02-07T15:04:50.042Z"
   },
   {
    "duration": 14,
    "start_time": "2024-02-07T15:06:21.680Z"
   },
   {
    "duration": 7,
    "start_time": "2024-02-07T15:17:59.046Z"
   },
   {
    "duration": 14,
    "start_time": "2024-02-07T15:22:05.869Z"
   },
   {
    "duration": 776,
    "start_time": "2024-02-08T11:09:34.541Z"
   },
   {
    "duration": 24,
    "start_time": "2024-02-08T11:09:35.320Z"
   },
   {
    "duration": 30,
    "start_time": "2024-02-08T11:09:35.346Z"
   },
   {
    "duration": 24,
    "start_time": "2024-02-08T11:09:35.377Z"
   },
   {
    "duration": 56,
    "start_time": "2024-02-08T11:09:35.403Z"
   },
   {
    "duration": 4,
    "start_time": "2024-02-08T11:09:35.460Z"
   },
   {
    "duration": 33,
    "start_time": "2024-02-08T11:09:35.465Z"
   },
   {
    "duration": 29,
    "start_time": "2024-02-08T11:09:35.500Z"
   },
   {
    "duration": 29,
    "start_time": "2024-02-08T11:09:35.531Z"
   },
   {
    "duration": 11,
    "start_time": "2024-02-08T11:09:35.562Z"
   },
   {
    "duration": 49,
    "start_time": "2024-02-08T11:09:35.575Z"
   },
   {
    "duration": 11,
    "start_time": "2024-02-08T11:09:35.625Z"
   },
   {
    "duration": 20,
    "start_time": "2024-02-08T11:09:35.637Z"
   },
   {
    "duration": 27,
    "start_time": "2024-02-08T11:09:35.660Z"
   },
   {
    "duration": 48,
    "start_time": "2024-02-08T11:09:35.689Z"
   },
   {
    "duration": 17,
    "start_time": "2024-02-08T11:09:35.739Z"
   },
   {
    "duration": 4,
    "start_time": "2024-02-08T11:09:35.758Z"
   },
   {
    "duration": 16,
    "start_time": "2024-02-08T11:09:35.763Z"
   },
   {
    "duration": 16,
    "start_time": "2024-02-08T11:09:35.781Z"
   },
   {
    "duration": 15,
    "start_time": "2024-02-08T11:09:35.798Z"
   },
   {
    "duration": 26,
    "start_time": "2024-02-08T11:09:35.815Z"
   },
   {
    "duration": 17,
    "start_time": "2024-02-08T11:09:35.843Z"
   },
   {
    "duration": 7,
    "start_time": "2024-02-08T11:09:35.862Z"
   },
   {
    "duration": 15,
    "start_time": "2024-02-08T11:09:35.871Z"
   },
   {
    "duration": 7,
    "start_time": "2024-02-08T11:09:35.888Z"
   },
   {
    "duration": 71,
    "start_time": "2024-02-08T11:52:22.893Z"
   },
   {
    "duration": 910,
    "start_time": "2024-02-08T11:52:38.821Z"
   },
   {
    "duration": 3,
    "start_time": "2024-02-08T11:53:41.789Z"
   },
   {
    "duration": 10,
    "start_time": "2024-02-08T11:54:07.732Z"
   },
   {
    "duration": 5,
    "start_time": "2024-02-08T11:54:36.676Z"
   },
   {
    "duration": 7,
    "start_time": "2024-02-08T11:54:52.097Z"
   },
   {
    "duration": 4,
    "start_time": "2024-02-08T11:54:55.959Z"
   },
   {
    "duration": 4,
    "start_time": "2024-02-08T11:55:01.055Z"
   },
   {
    "duration": 8,
    "start_time": "2024-02-08T11:58:04.173Z"
   },
   {
    "duration": 4,
    "start_time": "2024-02-08T11:59:00.032Z"
   },
   {
    "duration": 4,
    "start_time": "2024-02-08T11:59:00.512Z"
   },
   {
    "duration": 9,
    "start_time": "2024-02-08T11:59:00.966Z"
   },
   {
    "duration": 7,
    "start_time": "2024-02-08T11:59:01.560Z"
   },
   {
    "duration": 3,
    "start_time": "2024-02-08T11:59:04.374Z"
   },
   {
    "duration": 19,
    "start_time": "2024-02-08T11:59:19.620Z"
   },
   {
    "duration": 4,
    "start_time": "2024-02-08T12:15:27.516Z"
   },
   {
    "duration": 222,
    "start_time": "2024-02-08T12:15:53.063Z"
   },
   {
    "duration": 13,
    "start_time": "2024-02-08T12:20:20.905Z"
   },
   {
    "duration": 7,
    "start_time": "2024-02-08T12:20:30.998Z"
   },
   {
    "duration": 12,
    "start_time": "2024-02-08T12:20:59.725Z"
   },
   {
    "duration": 72,
    "start_time": "2024-02-08T12:22:18.782Z"
   },
   {
    "duration": 9,
    "start_time": "2024-02-08T12:28:33.401Z"
   },
   {
    "duration": 9,
    "start_time": "2024-02-08T12:29:02.697Z"
   },
   {
    "duration": 1441,
    "start_time": "2024-02-08T12:29:27.631Z"
   },
   {
    "duration": 9,
    "start_time": "2024-02-08T12:29:55.994Z"
   },
   {
    "duration": 10,
    "start_time": "2024-02-08T12:30:45.897Z"
   },
   {
    "duration": 96,
    "start_time": "2024-02-08T12:39:52.580Z"
   },
   {
    "duration": 78,
    "start_time": "2024-02-08T12:39:56.740Z"
   },
   {
    "duration": 83,
    "start_time": "2024-02-08T12:40:00.829Z"
   },
   {
    "duration": 12,
    "start_time": "2024-02-08T12:40:05.975Z"
   },
   {
    "duration": 81,
    "start_time": "2024-02-08T12:44:29.611Z"
   },
   {
    "duration": 9,
    "start_time": "2024-02-08T12:44:34.280Z"
   },
   {
    "duration": 46,
    "start_time": "2024-02-08T19:33:20.159Z"
   },
   {
    "duration": 709,
    "start_time": "2024-02-08T19:33:25.688Z"
   },
   {
    "duration": 21,
    "start_time": "2024-02-08T19:33:26.399Z"
   },
   {
    "duration": 15,
    "start_time": "2024-02-08T19:33:26.421Z"
   },
   {
    "duration": 11,
    "start_time": "2024-02-08T19:33:26.438Z"
   },
   {
    "duration": 47,
    "start_time": "2024-02-08T19:33:26.450Z"
   },
   {
    "duration": 4,
    "start_time": "2024-02-08T19:33:26.498Z"
   },
   {
    "duration": 24,
    "start_time": "2024-02-08T19:33:26.503Z"
   },
   {
    "duration": 4,
    "start_time": "2024-02-08T19:33:26.530Z"
   },
   {
    "duration": 16,
    "start_time": "2024-02-08T19:33:26.535Z"
   },
   {
    "duration": 20,
    "start_time": "2024-02-08T19:33:26.552Z"
   },
   {
    "duration": 60,
    "start_time": "2024-02-08T19:33:26.573Z"
   },
   {
    "duration": 16,
    "start_time": "2024-02-08T19:33:26.635Z"
   },
   {
    "duration": 4,
    "start_time": "2024-02-08T19:33:26.653Z"
   },
   {
    "duration": 14,
    "start_time": "2024-02-08T19:33:26.660Z"
   },
   {
    "duration": 37,
    "start_time": "2024-02-08T19:33:26.676Z"
   },
   {
    "duration": 18,
    "start_time": "2024-02-08T19:33:26.714Z"
   },
   {
    "duration": 4,
    "start_time": "2024-02-08T19:33:26.734Z"
   },
   {
    "duration": 24,
    "start_time": "2024-02-08T19:33:26.741Z"
   },
   {
    "duration": 17,
    "start_time": "2024-02-08T19:33:26.766Z"
   },
   {
    "duration": 6,
    "start_time": "2024-02-08T19:33:26.785Z"
   },
   {
    "duration": 16,
    "start_time": "2024-02-08T19:33:26.792Z"
   },
   {
    "duration": 5,
    "start_time": "2024-02-08T19:33:26.809Z"
   },
   {
    "duration": 14,
    "start_time": "2024-02-08T19:33:26.815Z"
   },
   {
    "duration": 11,
    "start_time": "2024-02-08T19:33:26.830Z"
   },
   {
    "duration": 6,
    "start_time": "2024-02-08T19:33:26.842Z"
   },
   {
    "duration": 5,
    "start_time": "2024-02-08T19:33:26.849Z"
   },
   {
    "duration": 19,
    "start_time": "2024-02-08T19:33:26.855Z"
   },
   {
    "duration": 8,
    "start_time": "2024-02-08T19:33:29.355Z"
   },
   {
    "duration": 4,
    "start_time": "2024-02-08T19:37:55.211Z"
   },
   {
    "duration": 36,
    "start_time": "2024-02-08T19:39:24.791Z"
   },
   {
    "duration": 16,
    "start_time": "2024-02-08T19:39:43.237Z"
   },
   {
    "duration": 11,
    "start_time": "2024-02-08T19:40:30.054Z"
   },
   {
    "duration": 6,
    "start_time": "2024-02-08T19:40:48.874Z"
   },
   {
    "duration": 6,
    "start_time": "2024-02-08T19:41:04.014Z"
   },
   {
    "duration": 7,
    "start_time": "2024-02-08T19:41:12.414Z"
   },
   {
    "duration": 8,
    "start_time": "2024-02-08T19:41:17.254Z"
   },
   {
    "duration": 8,
    "start_time": "2024-02-08T19:41:43.972Z"
   },
   {
    "duration": 4,
    "start_time": "2024-02-08T19:41:59.472Z"
   },
   {
    "duration": 6,
    "start_time": "2024-02-08T19:41:59.872Z"
   },
   {
    "duration": 6,
    "start_time": "2024-02-08T19:42:47.965Z"
   },
   {
    "duration": 8,
    "start_time": "2024-02-08T19:46:19.312Z"
   },
   {
    "duration": 6,
    "start_time": "2024-02-08T19:46:42.973Z"
   },
   {
    "duration": 6,
    "start_time": "2024-02-08T19:48:16.927Z"
   },
   {
    "duration": 70,
    "start_time": "2024-02-08T19:48:31.295Z"
   },
   {
    "duration": 8,
    "start_time": "2024-02-08T19:49:08.454Z"
   },
   {
    "duration": 10,
    "start_time": "2024-02-08T19:49:14.851Z"
   },
   {
    "duration": 9,
    "start_time": "2024-02-08T19:49:16.215Z"
   },
   {
    "duration": 6,
    "start_time": "2024-02-08T19:49:17.651Z"
   },
   {
    "duration": 11,
    "start_time": "2024-02-08T19:49:20.848Z"
   },
   {
    "duration": 7,
    "start_time": "2024-02-08T19:50:08.429Z"
   },
   {
    "duration": 9,
    "start_time": "2024-02-08T19:50:16.805Z"
   },
   {
    "duration": 8,
    "start_time": "2024-02-08T19:50:50.525Z"
   },
   {
    "duration": 8,
    "start_time": "2024-02-08T19:50:51.546Z"
   },
   {
    "duration": 6,
    "start_time": "2024-02-08T19:51:01.265Z"
   },
   {
    "duration": 14,
    "start_time": "2024-02-08T19:52:25.880Z"
   },
   {
    "duration": 7,
    "start_time": "2024-02-08T19:53:33.398Z"
   },
   {
    "duration": 9,
    "start_time": "2024-02-08T19:53:37.508Z"
   },
   {
    "duration": 9,
    "start_time": "2024-02-08T19:54:49.636Z"
   },
   {
    "duration": 9,
    "start_time": "2024-02-08T19:56:20.294Z"
   },
   {
    "duration": 6,
    "start_time": "2024-02-08T19:56:22.427Z"
   },
   {
    "duration": 4,
    "start_time": "2024-02-08T19:56:30.453Z"
   },
   {
    "duration": 9,
    "start_time": "2024-02-08T19:57:34.029Z"
   },
   {
    "duration": 9,
    "start_time": "2024-02-08T19:57:36.209Z"
   },
   {
    "duration": 6,
    "start_time": "2024-02-08T19:57:37.515Z"
   },
   {
    "duration": 9,
    "start_time": "2024-02-08T19:57:40.304Z"
   },
   {
    "duration": 9,
    "start_time": "2024-02-08T19:58:43.571Z"
   },
   {
    "duration": 10,
    "start_time": "2024-02-08T20:00:05.137Z"
   },
   {
    "duration": 8,
    "start_time": "2024-02-08T20:00:09.490Z"
   },
   {
    "duration": 6,
    "start_time": "2024-02-08T20:00:12.287Z"
   },
   {
    "duration": 8,
    "start_time": "2024-02-08T20:00:14.391Z"
   },
   {
    "duration": 8,
    "start_time": "2024-02-08T20:00:52.566Z"
   },
   {
    "duration": 8,
    "start_time": "2024-02-08T20:02:27.881Z"
   },
   {
    "duration": 3,
    "start_time": "2024-02-08T20:02:37.832Z"
   },
   {
    "duration": 8,
    "start_time": "2024-02-08T20:02:38.350Z"
   },
   {
    "duration": 3,
    "start_time": "2024-02-08T20:03:48.259Z"
   },
   {
    "duration": 8,
    "start_time": "2024-02-08T20:03:48.728Z"
   },
   {
    "duration": 7,
    "start_time": "2024-02-08T20:04:33.493Z"
   },
   {
    "duration": 5,
    "start_time": "2024-02-08T20:04:47.668Z"
   },
   {
    "duration": 5,
    "start_time": "2024-02-08T20:05:41.037Z"
   },
   {
    "duration": 5,
    "start_time": "2024-02-08T20:05:56.155Z"
   },
   {
    "duration": 10,
    "start_time": "2024-02-08T20:25:54.797Z"
   },
   {
    "duration": 21,
    "start_time": "2024-02-08T20:26:26.114Z"
   },
   {
    "duration": 5,
    "start_time": "2024-02-08T20:27:17.323Z"
   },
   {
    "duration": 5,
    "start_time": "2024-02-08T20:27:24.118Z"
   },
   {
    "duration": 9,
    "start_time": "2024-02-08T20:29:31.138Z"
   },
   {
    "duration": 6,
    "start_time": "2024-02-08T20:32:25.582Z"
   },
   {
    "duration": 5,
    "start_time": "2024-02-08T20:33:03.497Z"
   },
   {
    "duration": 4,
    "start_time": "2024-02-08T20:33:14.283Z"
   },
   {
    "duration": 6,
    "start_time": "2024-02-08T20:34:01.960Z"
   },
   {
    "duration": 2,
    "start_time": "2024-02-08T21:21:03.434Z"
   },
   {
    "duration": 12,
    "start_time": "2024-02-08T21:22:32.487Z"
   },
   {
    "duration": 1247,
    "start_time": "2024-02-08T21:25:33.540Z"
   },
   {
    "duration": 84,
    "start_time": "2024-02-08T21:25:38.472Z"
   },
   {
    "duration": 15,
    "start_time": "2024-02-08T21:25:38.558Z"
   },
   {
    "duration": 25,
    "start_time": "2024-02-08T21:25:38.574Z"
   },
   {
    "duration": 10,
    "start_time": "2024-02-08T21:25:38.601Z"
   },
   {
    "duration": 69,
    "start_time": "2024-02-08T21:25:38.612Z"
   },
   {
    "duration": 4,
    "start_time": "2024-02-08T21:25:38.683Z"
   },
   {
    "duration": 30,
    "start_time": "2024-02-08T21:25:38.689Z"
   },
   {
    "duration": 47,
    "start_time": "2024-02-08T21:25:38.720Z"
   },
   {
    "duration": 17,
    "start_time": "2024-02-08T21:25:38.769Z"
   },
   {
    "duration": 17,
    "start_time": "2024-02-08T21:25:38.789Z"
   },
   {
    "duration": 46,
    "start_time": "2024-02-08T21:25:38.808Z"
   },
   {
    "duration": 12,
    "start_time": "2024-02-08T21:25:38.855Z"
   },
   {
    "duration": 20,
    "start_time": "2024-02-08T21:25:38.869Z"
   },
   {
    "duration": 13,
    "start_time": "2024-02-08T21:25:38.890Z"
   },
   {
    "duration": 20,
    "start_time": "2024-02-08T21:25:38.904Z"
   },
   {
    "duration": 19,
    "start_time": "2024-02-08T21:25:38.926Z"
   },
   {
    "duration": 20,
    "start_time": "2024-02-08T21:25:38.947Z"
   },
   {
    "duration": 24,
    "start_time": "2024-02-08T21:25:38.968Z"
   },
   {
    "duration": 7,
    "start_time": "2024-02-08T21:25:38.994Z"
   },
   {
    "duration": 4,
    "start_time": "2024-02-08T21:25:39.003Z"
   },
   {
    "duration": 17,
    "start_time": "2024-02-08T21:25:39.008Z"
   },
   {
    "duration": 4,
    "start_time": "2024-02-08T21:25:39.027Z"
   },
   {
    "duration": 9,
    "start_time": "2024-02-08T21:25:39.032Z"
   },
   {
    "duration": 11,
    "start_time": "2024-02-08T21:25:39.042Z"
   },
   {
    "duration": 14,
    "start_time": "2024-02-08T21:25:39.054Z"
   },
   {
    "duration": 7,
    "start_time": "2024-02-08T21:25:39.070Z"
   },
   {
    "duration": 17,
    "start_time": "2024-02-08T21:25:39.078Z"
   },
   {
    "duration": 8,
    "start_time": "2024-02-08T21:25:39.099Z"
   },
   {
    "duration": 9,
    "start_time": "2024-02-08T21:25:39.109Z"
   },
   {
    "duration": 8,
    "start_time": "2024-02-08T21:25:39.120Z"
   },
   {
    "duration": 23,
    "start_time": "2024-02-08T21:25:39.129Z"
   },
   {
    "duration": 5,
    "start_time": "2024-02-08T21:25:39.166Z"
   },
   {
    "duration": 14,
    "start_time": "2024-02-08T21:25:39.173Z"
   },
   {
    "duration": 7,
    "start_time": "2024-02-08T21:25:39.189Z"
   },
   {
    "duration": 20,
    "start_time": "2024-02-08T21:25:39.197Z"
   },
   {
    "duration": 1723,
    "start_time": "2024-02-08T21:25:41.157Z"
   },
   {
    "duration": 7,
    "start_time": "2024-02-08T21:26:01.970Z"
   },
   {
    "duration": 72,
    "start_time": "2024-02-08T21:27:05.557Z"
   },
   {
    "duration": 130,
    "start_time": "2024-02-08T21:27:18.416Z"
   },
   {
    "duration": 8,
    "start_time": "2024-02-08T21:27:28.042Z"
   },
   {
    "duration": 1351,
    "start_time": "2024-02-08T21:28:42.741Z"
   },
   {
    "duration": 9,
    "start_time": "2024-02-08T21:29:21.476Z"
   },
   {
    "duration": 9,
    "start_time": "2024-02-08T21:33:06.840Z"
   },
   {
    "duration": 1097,
    "start_time": "2024-02-08T21:33:45.831Z"
   },
   {
    "duration": 1142,
    "start_time": "2024-02-08T21:33:53.834Z"
   },
   {
    "duration": 11,
    "start_time": "2024-02-08T21:35:00.514Z"
   },
   {
    "duration": 10,
    "start_time": "2024-02-08T21:35:17.294Z"
   },
   {
    "duration": 9,
    "start_time": "2024-02-08T21:35:22.274Z"
   },
   {
    "duration": 8,
    "start_time": "2024-02-08T21:35:25.629Z"
   },
   {
    "duration": 13,
    "start_time": "2024-02-08T21:35:54.680Z"
   },
   {
    "duration": 10,
    "start_time": "2024-02-08T21:36:03.029Z"
   },
   {
    "duration": 8,
    "start_time": "2024-02-08T21:36:04.192Z"
   },
   {
    "duration": 74,
    "start_time": "2024-02-08T21:37:33.456Z"
   },
   {
    "duration": 25,
    "start_time": "2024-02-08T21:37:33.532Z"
   },
   {
    "duration": 42,
    "start_time": "2024-02-08T21:37:33.558Z"
   },
   {
    "duration": 39,
    "start_time": "2024-02-08T21:37:33.602Z"
   },
   {
    "duration": 48,
    "start_time": "2024-02-08T21:37:33.644Z"
   },
   {
    "duration": 10,
    "start_time": "2024-02-08T21:37:33.694Z"
   },
   {
    "duration": 44,
    "start_time": "2024-02-08T21:37:33.706Z"
   },
   {
    "duration": 56,
    "start_time": "2024-02-08T21:37:33.751Z"
   },
   {
    "duration": 55,
    "start_time": "2024-02-08T21:37:33.809Z"
   },
   {
    "duration": 32,
    "start_time": "2024-02-08T21:37:33.865Z"
   },
   {
    "duration": 68,
    "start_time": "2024-02-08T21:37:33.899Z"
   },
   {
    "duration": 10,
    "start_time": "2024-02-08T21:37:33.969Z"
   },
   {
    "duration": 22,
    "start_time": "2024-02-08T21:37:33.980Z"
   },
   {
    "duration": 39,
    "start_time": "2024-02-08T21:37:34.005Z"
   },
   {
    "duration": 68,
    "start_time": "2024-02-08T21:37:34.046Z"
   },
   {
    "duration": 41,
    "start_time": "2024-02-08T21:37:34.116Z"
   },
   {
    "duration": 18,
    "start_time": "2024-02-08T21:37:34.159Z"
   },
   {
    "duration": 43,
    "start_time": "2024-02-08T21:37:34.179Z"
   },
   {
    "duration": 30,
    "start_time": "2024-02-08T21:37:34.224Z"
   },
   {
    "duration": 60,
    "start_time": "2024-02-08T21:37:34.255Z"
   },
   {
    "duration": 51,
    "start_time": "2024-02-08T21:37:34.317Z"
   },
   {
    "duration": 87,
    "start_time": "2024-02-08T21:37:34.370Z"
   },
   {
    "duration": 67,
    "start_time": "2024-02-08T21:37:34.459Z"
   },
   {
    "duration": 86,
    "start_time": "2024-02-08T21:37:34.528Z"
   },
   {
    "duration": 37,
    "start_time": "2024-02-08T21:37:34.615Z"
   },
   {
    "duration": 39,
    "start_time": "2024-02-08T21:37:34.653Z"
   },
   {
    "duration": 49,
    "start_time": "2024-02-08T21:37:34.693Z"
   },
   {
    "duration": 31,
    "start_time": "2024-02-08T21:37:34.743Z"
   },
   {
    "duration": 76,
    "start_time": "2024-02-08T21:37:34.775Z"
   },
   {
    "duration": 27,
    "start_time": "2024-02-08T21:37:34.852Z"
   },
   {
    "duration": 25,
    "start_time": "2024-02-08T21:37:34.881Z"
   },
   {
    "duration": 15,
    "start_time": "2024-02-08T21:37:34.908Z"
   },
   {
    "duration": 40,
    "start_time": "2024-02-08T21:37:34.925Z"
   },
   {
    "duration": 24,
    "start_time": "2024-02-08T21:37:34.967Z"
   },
   {
    "duration": 23,
    "start_time": "2024-02-08T21:37:34.992Z"
   },
   {
    "duration": 73,
    "start_time": "2024-02-08T21:37:35.016Z"
   },
   {
    "duration": 84,
    "start_time": "2024-02-08T21:37:50.955Z"
   },
   {
    "duration": 11,
    "start_time": "2024-02-08T21:37:56.840Z"
   },
   {
    "duration": 9,
    "start_time": "2024-02-08T21:38:18.150Z"
   },
   {
    "duration": 13,
    "start_time": "2024-02-08T21:39:58.254Z"
   },
   {
    "duration": 7,
    "start_time": "2024-02-08T21:42:33.607Z"
   },
   {
    "duration": 12,
    "start_time": "2024-02-08T21:43:51.640Z"
   },
   {
    "duration": 74,
    "start_time": "2024-02-08T21:46:31.103Z"
   },
   {
    "duration": 14,
    "start_time": "2024-02-08T21:46:31.179Z"
   },
   {
    "duration": 36,
    "start_time": "2024-02-08T21:46:31.194Z"
   },
   {
    "duration": 44,
    "start_time": "2024-02-08T21:46:31.232Z"
   },
   {
    "duration": 50,
    "start_time": "2024-02-08T21:46:31.278Z"
   },
   {
    "duration": 18,
    "start_time": "2024-02-08T21:46:31.330Z"
   },
   {
    "duration": 48,
    "start_time": "2024-02-08T21:46:31.350Z"
   },
   {
    "duration": 32,
    "start_time": "2024-02-08T21:46:31.400Z"
   },
   {
    "duration": 25,
    "start_time": "2024-02-08T21:46:31.434Z"
   },
   {
    "duration": 19,
    "start_time": "2024-02-08T21:46:31.461Z"
   },
   {
    "duration": 53,
    "start_time": "2024-02-08T21:46:31.482Z"
   },
   {
    "duration": 10,
    "start_time": "2024-02-08T21:46:31.537Z"
   },
   {
    "duration": 32,
    "start_time": "2024-02-08T21:46:31.548Z"
   },
   {
    "duration": 22,
    "start_time": "2024-02-08T21:46:31.583Z"
   },
   {
    "duration": 39,
    "start_time": "2024-02-08T21:46:31.607Z"
   },
   {
    "duration": 17,
    "start_time": "2024-02-08T21:46:31.648Z"
   },
   {
    "duration": 11,
    "start_time": "2024-02-08T21:46:31.666Z"
   },
   {
    "duration": 24,
    "start_time": "2024-02-08T21:46:31.678Z"
   },
   {
    "duration": 6,
    "start_time": "2024-02-08T21:46:31.704Z"
   },
   {
    "duration": 53,
    "start_time": "2024-02-08T21:46:31.712Z"
   },
   {
    "duration": 17,
    "start_time": "2024-02-08T21:46:31.767Z"
   },
   {
    "duration": 4,
    "start_time": "2024-02-08T21:46:31.785Z"
   },
   {
    "duration": 5,
    "start_time": "2024-02-08T21:46:31.790Z"
   },
   {
    "duration": 10,
    "start_time": "2024-02-08T21:46:31.797Z"
   },
   {
    "duration": 10,
    "start_time": "2024-02-08T21:46:31.809Z"
   },
   {
    "duration": 26,
    "start_time": "2024-02-08T21:46:31.821Z"
   },
   {
    "duration": 9,
    "start_time": "2024-02-08T21:46:31.849Z"
   },
   {
    "duration": 15,
    "start_time": "2024-02-08T21:46:31.859Z"
   },
   {
    "duration": 8,
    "start_time": "2024-02-08T21:46:31.876Z"
   },
   {
    "duration": 23,
    "start_time": "2024-02-08T21:46:31.886Z"
   },
   {
    "duration": 16,
    "start_time": "2024-02-08T21:46:31.910Z"
   },
   {
    "duration": 13,
    "start_time": "2024-02-08T21:46:31.927Z"
   },
   {
    "duration": 31,
    "start_time": "2024-02-08T21:46:31.941Z"
   },
   {
    "duration": 52,
    "start_time": "2024-02-08T21:46:31.973Z"
   },
   {
    "duration": 40,
    "start_time": "2024-02-08T21:46:32.026Z"
   },
   {
    "duration": 45,
    "start_time": "2024-02-08T21:46:32.067Z"
   },
   {
    "duration": 39,
    "start_time": "2024-02-08T21:46:32.113Z"
   },
   {
    "duration": 42,
    "start_time": "2024-02-08T21:46:32.154Z"
   },
   {
    "duration": 38,
    "start_time": "2024-02-08T21:46:32.198Z"
   },
   {
    "duration": 7,
    "start_time": "2024-02-08T21:46:34.480Z"
   },
   {
    "duration": 1136,
    "start_time": "2024-02-08T21:53:17.452Z"
   },
   {
    "duration": 74,
    "start_time": "2024-02-08T21:53:21.648Z"
   },
   {
    "duration": 15,
    "start_time": "2024-02-08T21:53:21.724Z"
   },
   {
    "duration": 25,
    "start_time": "2024-02-08T21:53:21.740Z"
   },
   {
    "duration": 10,
    "start_time": "2024-02-08T21:53:21.767Z"
   },
   {
    "duration": 41,
    "start_time": "2024-02-08T21:53:21.778Z"
   },
   {
    "duration": 3,
    "start_time": "2024-02-08T21:53:21.820Z"
   },
   {
    "duration": 9,
    "start_time": "2024-02-08T21:53:21.824Z"
   },
   {
    "duration": 27,
    "start_time": "2024-02-08T21:53:21.834Z"
   },
   {
    "duration": 28,
    "start_time": "2024-02-08T21:53:21.863Z"
   },
   {
    "duration": 26,
    "start_time": "2024-02-08T21:53:21.893Z"
   },
   {
    "duration": 64,
    "start_time": "2024-02-08T21:53:21.920Z"
   },
   {
    "duration": 10,
    "start_time": "2024-02-08T21:53:21.986Z"
   },
   {
    "duration": 5,
    "start_time": "2024-02-08T21:53:21.998Z"
   },
   {
    "duration": 26,
    "start_time": "2024-02-08T21:53:22.004Z"
   },
   {
    "duration": 18,
    "start_time": "2024-02-08T21:53:22.032Z"
   },
   {
    "duration": 30,
    "start_time": "2024-02-08T21:53:22.052Z"
   },
   {
    "duration": 5,
    "start_time": "2024-02-08T21:53:22.084Z"
   },
   {
    "duration": 22,
    "start_time": "2024-02-08T21:53:22.091Z"
   },
   {
    "duration": 6,
    "start_time": "2024-02-08T21:53:22.114Z"
   },
   {
    "duration": 3,
    "start_time": "2024-02-08T21:53:22.122Z"
   },
   {
    "duration": 10,
    "start_time": "2024-02-08T21:53:22.127Z"
   },
   {
    "duration": 28,
    "start_time": "2024-02-08T21:53:22.138Z"
   },
   {
    "duration": 6,
    "start_time": "2024-02-08T21:53:22.167Z"
   },
   {
    "duration": 9,
    "start_time": "2024-02-08T21:53:22.174Z"
   },
   {
    "duration": 13,
    "start_time": "2024-02-08T21:53:22.185Z"
   },
   {
    "duration": 1332,
    "start_time": "2024-02-08T21:53:22.200Z"
   },
   {
    "duration": 9,
    "start_time": "2024-02-08T21:53:36.417Z"
   },
   {
    "duration": 6,
    "start_time": "2024-02-08T21:53:44.791Z"
   },
   {
    "duration": 6,
    "start_time": "2024-02-08T21:53:53.375Z"
   },
   {
    "duration": 4,
    "start_time": "2024-02-08T21:58:00.423Z"
   },
   {
    "duration": 11,
    "start_time": "2024-02-08T21:58:39.754Z"
   },
   {
    "duration": 71,
    "start_time": "2024-02-08T21:58:47.844Z"
   },
   {
    "duration": 14,
    "start_time": "2024-02-08T21:58:47.917Z"
   },
   {
    "duration": 33,
    "start_time": "2024-02-08T21:58:47.933Z"
   },
   {
    "duration": 10,
    "start_time": "2024-02-08T21:58:47.968Z"
   },
   {
    "duration": 44,
    "start_time": "2024-02-08T21:58:47.979Z"
   },
   {
    "duration": 3,
    "start_time": "2024-02-08T21:58:48.025Z"
   },
   {
    "duration": 9,
    "start_time": "2024-02-08T21:58:48.029Z"
   },
   {
    "duration": 5,
    "start_time": "2024-02-08T21:58:48.040Z"
   },
   {
    "duration": 22,
    "start_time": "2024-02-08T21:58:48.046Z"
   },
   {
    "duration": 4,
    "start_time": "2024-02-08T21:58:48.071Z"
   },
   {
    "duration": 39,
    "start_time": "2024-02-08T21:58:48.076Z"
   },
   {
    "duration": 9,
    "start_time": "2024-02-08T21:58:48.117Z"
   },
   {
    "duration": 3,
    "start_time": "2024-02-08T21:58:48.128Z"
   },
   {
    "duration": 36,
    "start_time": "2024-02-08T21:58:48.133Z"
   },
   {
    "duration": 34,
    "start_time": "2024-02-08T21:58:48.171Z"
   },
   {
    "duration": 16,
    "start_time": "2024-02-08T21:58:48.207Z"
   },
   {
    "duration": 3,
    "start_time": "2024-02-08T21:58:48.225Z"
   },
   {
    "duration": 17,
    "start_time": "2024-02-08T21:58:48.230Z"
   },
   {
    "duration": 12,
    "start_time": "2024-02-08T21:58:48.248Z"
   },
   {
    "duration": 4,
    "start_time": "2024-02-08T21:58:48.261Z"
   },
   {
    "duration": 10,
    "start_time": "2024-02-08T21:58:48.266Z"
   },
   {
    "duration": 3,
    "start_time": "2024-02-08T21:58:48.277Z"
   },
   {
    "duration": 8,
    "start_time": "2024-02-08T21:58:48.282Z"
   },
   {
    "duration": 9,
    "start_time": "2024-02-08T21:58:48.291Z"
   },
   {
    "duration": 12,
    "start_time": "2024-02-08T21:58:48.301Z"
   },
   {
    "duration": 6,
    "start_time": "2024-02-08T21:58:48.314Z"
   },
   {
    "duration": 9,
    "start_time": "2024-02-08T21:58:48.322Z"
   },
   {
    "duration": 42,
    "start_time": "2024-02-08T21:58:48.334Z"
   },
   {
    "duration": 14,
    "start_time": "2024-02-08T21:58:48.378Z"
   },
   {
    "duration": 14,
    "start_time": "2024-02-08T21:58:48.394Z"
   },
   {
    "duration": 8,
    "start_time": "2024-02-08T21:58:48.409Z"
   },
   {
    "duration": 4,
    "start_time": "2024-02-08T21:58:48.419Z"
   },
   {
    "duration": 11,
    "start_time": "2024-02-08T21:58:48.424Z"
   },
   {
    "duration": 30,
    "start_time": "2024-02-08T21:58:48.436Z"
   },
   {
    "duration": 11,
    "start_time": "2024-02-08T21:58:48.469Z"
   },
   {
    "duration": 11,
    "start_time": "2024-02-08T21:58:48.481Z"
   },
   {
    "duration": 6,
    "start_time": "2024-02-08T21:58:48.493Z"
   },
   {
    "duration": 8,
    "start_time": "2024-02-08T21:58:48.501Z"
   },
   {
    "duration": 10,
    "start_time": "2024-02-08T21:58:48.511Z"
   },
   {
    "duration": 45,
    "start_time": "2024-02-08T21:58:48.522Z"
   },
   {
    "duration": 8,
    "start_time": "2024-02-08T21:58:48.568Z"
   },
   {
    "duration": 5,
    "start_time": "2024-02-08T21:59:36.586Z"
   },
   {
    "duration": 13,
    "start_time": "2024-02-08T22:05:38.656Z"
   },
   {
    "duration": 7,
    "start_time": "2024-02-08T22:07:08.176Z"
   },
   {
    "duration": 9,
    "start_time": "2024-02-08T22:08:10.987Z"
   },
   {
    "duration": 12,
    "start_time": "2024-02-08T22:08:25.978Z"
   },
   {
    "duration": 11,
    "start_time": "2024-02-08T22:09:04.374Z"
   },
   {
    "duration": 7,
    "start_time": "2024-02-08T22:11:01.669Z"
   },
   {
    "duration": 15,
    "start_time": "2024-02-08T22:11:07.775Z"
   },
   {
    "duration": 18,
    "start_time": "2024-02-08T22:11:18.313Z"
   },
   {
    "duration": 21,
    "start_time": "2024-02-08T22:12:29.407Z"
   },
   {
    "duration": 19,
    "start_time": "2024-02-08T22:13:15.412Z"
   },
   {
    "duration": 20,
    "start_time": "2024-02-08T22:13:23.182Z"
   },
   {
    "duration": 27,
    "start_time": "2024-02-08T22:14:26.100Z"
   },
   {
    "duration": 22,
    "start_time": "2024-02-08T22:14:35.466Z"
   },
   {
    "duration": 22,
    "start_time": "2024-02-08T22:14:55.156Z"
   },
   {
    "duration": 17,
    "start_time": "2024-02-08T22:15:42.581Z"
   },
   {
    "duration": 22,
    "start_time": "2024-02-08T22:16:45.140Z"
   },
   {
    "duration": 26,
    "start_time": "2024-02-08T22:17:18.967Z"
   },
   {
    "duration": 24,
    "start_time": "2024-02-08T22:17:31.182Z"
   },
   {
    "duration": 16,
    "start_time": "2024-02-08T22:17:53.747Z"
   },
   {
    "duration": 21,
    "start_time": "2024-02-08T22:21:43.550Z"
   },
   {
    "duration": 15,
    "start_time": "2024-02-08T22:21:51.999Z"
   },
   {
    "duration": 17,
    "start_time": "2024-02-08T22:23:49.427Z"
   },
   {
    "duration": 21,
    "start_time": "2024-02-08T22:24:29.681Z"
   },
   {
    "duration": 21,
    "start_time": "2024-02-08T22:24:44.417Z"
   },
   {
    "duration": 74,
    "start_time": "2024-02-08T22:25:12.125Z"
   },
   {
    "duration": 14,
    "start_time": "2024-02-08T22:25:12.201Z"
   },
   {
    "duration": 35,
    "start_time": "2024-02-08T22:25:12.217Z"
   },
   {
    "duration": 32,
    "start_time": "2024-02-08T22:25:12.254Z"
   },
   {
    "duration": 50,
    "start_time": "2024-02-08T22:25:12.287Z"
   },
   {
    "duration": 3,
    "start_time": "2024-02-08T22:25:12.339Z"
   },
   {
    "duration": 35,
    "start_time": "2024-02-08T22:25:12.343Z"
   },
   {
    "duration": 36,
    "start_time": "2024-02-08T22:25:12.380Z"
   },
   {
    "duration": 28,
    "start_time": "2024-02-08T22:25:12.418Z"
   },
   {
    "duration": 31,
    "start_time": "2024-02-08T22:25:12.448Z"
   },
   {
    "duration": 53,
    "start_time": "2024-02-08T22:25:12.481Z"
   },
   {
    "duration": 9,
    "start_time": "2024-02-08T22:25:12.536Z"
   },
   {
    "duration": 26,
    "start_time": "2024-02-08T22:25:12.546Z"
   },
   {
    "duration": 41,
    "start_time": "2024-02-08T22:25:12.573Z"
   },
   {
    "duration": 44,
    "start_time": "2024-02-08T22:25:12.616Z"
   },
   {
    "duration": 33,
    "start_time": "2024-02-08T22:25:12.661Z"
   },
   {
    "duration": 4,
    "start_time": "2024-02-08T22:25:12.695Z"
   },
   {
    "duration": 32,
    "start_time": "2024-02-08T22:25:12.700Z"
   },
   {
    "duration": 20,
    "start_time": "2024-02-08T22:25:12.733Z"
   },
   {
    "duration": 30,
    "start_time": "2024-02-08T22:25:12.755Z"
   },
   {
    "duration": 46,
    "start_time": "2024-02-08T22:25:12.787Z"
   },
   {
    "duration": 37,
    "start_time": "2024-02-08T22:25:12.835Z"
   },
   {
    "duration": 33,
    "start_time": "2024-02-08T22:25:12.874Z"
   },
   {
    "duration": 39,
    "start_time": "2024-02-08T22:25:12.909Z"
   },
   {
    "duration": 37,
    "start_time": "2024-02-08T22:25:12.949Z"
   },
   {
    "duration": 26,
    "start_time": "2024-02-08T22:25:12.988Z"
   },
   {
    "duration": 34,
    "start_time": "2024-02-08T22:25:13.015Z"
   },
   {
    "duration": 45,
    "start_time": "2024-02-08T22:25:13.052Z"
   },
   {
    "duration": 35,
    "start_time": "2024-02-08T22:25:13.098Z"
   },
   {
    "duration": 29,
    "start_time": "2024-02-08T22:25:13.134Z"
   },
   {
    "duration": 31,
    "start_time": "2024-02-08T22:25:13.164Z"
   },
   {
    "duration": 37,
    "start_time": "2024-02-08T22:25:13.196Z"
   },
   {
    "duration": 54,
    "start_time": "2024-02-08T22:25:13.235Z"
   },
   {
    "duration": 33,
    "start_time": "2024-02-08T22:25:13.291Z"
   },
   {
    "duration": 42,
    "start_time": "2024-02-08T22:25:13.326Z"
   },
   {
    "duration": 62,
    "start_time": "2024-02-08T22:25:13.370Z"
   },
   {
    "duration": 23,
    "start_time": "2024-02-08T22:25:13.434Z"
   },
   {
    "duration": 29,
    "start_time": "2024-02-08T22:25:13.458Z"
   },
   {
    "duration": 45,
    "start_time": "2024-02-08T22:25:13.488Z"
   },
   {
    "duration": 33,
    "start_time": "2024-02-08T22:25:13.534Z"
   },
   {
    "duration": 30,
    "start_time": "2024-02-08T22:25:13.569Z"
   },
   {
    "duration": 21,
    "start_time": "2024-02-08T22:25:13.600Z"
   },
   {
    "duration": 31,
    "start_time": "2024-02-08T22:25:18.410Z"
   },
   {
    "duration": 5,
    "start_time": "2024-02-08T22:25:40.429Z"
   },
   {
    "duration": 20,
    "start_time": "2024-02-08T22:26:48.425Z"
   },
   {
    "duration": 11,
    "start_time": "2024-02-08T22:27:28.722Z"
   },
   {
    "duration": 5,
    "start_time": "2024-02-08T22:27:35.796Z"
   },
   {
    "duration": 11,
    "start_time": "2024-02-08T22:27:36.288Z"
   },
   {
    "duration": 23,
    "start_time": "2024-02-08T22:28:05.593Z"
   },
   {
    "duration": 28,
    "start_time": "2024-02-08T22:28:17.706Z"
   },
   {
    "duration": 22,
    "start_time": "2024-02-08T22:29:02.977Z"
   },
   {
    "duration": 18,
    "start_time": "2024-02-08T22:29:13.342Z"
   },
   {
    "duration": 8,
    "start_time": "2024-02-08T22:29:28.071Z"
   },
   {
    "duration": 15,
    "start_time": "2024-02-08T22:29:32.556Z"
   },
   {
    "duration": 12,
    "start_time": "2024-02-08T22:29:45.996Z"
   },
   {
    "duration": 12,
    "start_time": "2024-02-08T22:29:53.203Z"
   },
   {
    "duration": 12,
    "start_time": "2024-02-08T22:29:58.569Z"
   },
   {
    "duration": 17,
    "start_time": "2024-02-08T22:30:04.529Z"
   },
   {
    "duration": 13,
    "start_time": "2024-02-08T22:30:21.499Z"
   },
   {
    "duration": 17,
    "start_time": "2024-02-08T22:30:49.102Z"
   },
   {
    "duration": 16,
    "start_time": "2024-02-08T22:31:09.150Z"
   },
   {
    "duration": 23,
    "start_time": "2024-02-08T22:31:24.053Z"
   },
   {
    "duration": 16,
    "start_time": "2024-02-08T22:31:37.005Z"
   },
   {
    "duration": 14,
    "start_time": "2024-02-08T22:31:37.849Z"
   },
   {
    "duration": 20,
    "start_time": "2024-02-08T22:32:45.943Z"
   },
   {
    "duration": 19,
    "start_time": "2024-02-08T22:34:03.959Z"
   },
   {
    "duration": 24,
    "start_time": "2024-02-08T22:34:20.154Z"
   },
   {
    "duration": 15,
    "start_time": "2024-02-08T22:34:33.520Z"
   },
   {
    "duration": 15,
    "start_time": "2024-02-08T22:34:56.278Z"
   },
   {
    "duration": 14,
    "start_time": "2024-02-08T22:35:08.003Z"
   },
   {
    "duration": 79,
    "start_time": "2024-02-08T22:35:13.724Z"
   },
   {
    "duration": 14,
    "start_time": "2024-02-08T22:35:13.805Z"
   },
   {
    "duration": 25,
    "start_time": "2024-02-08T22:35:13.821Z"
   },
   {
    "duration": 21,
    "start_time": "2024-02-08T22:35:13.848Z"
   },
   {
    "duration": 41,
    "start_time": "2024-02-08T22:35:13.871Z"
   },
   {
    "duration": 3,
    "start_time": "2024-02-08T22:35:13.914Z"
   },
   {
    "duration": 26,
    "start_time": "2024-02-08T22:35:13.918Z"
   },
   {
    "duration": 10,
    "start_time": "2024-02-08T22:35:13.946Z"
   },
   {
    "duration": 27,
    "start_time": "2024-02-08T22:35:13.958Z"
   },
   {
    "duration": 20,
    "start_time": "2024-02-08T22:35:13.987Z"
   },
   {
    "duration": 41,
    "start_time": "2024-02-08T22:35:14.009Z"
   },
   {
    "duration": 9,
    "start_time": "2024-02-08T22:35:14.052Z"
   },
   {
    "duration": 8,
    "start_time": "2024-02-08T22:35:14.062Z"
   },
   {
    "duration": 12,
    "start_time": "2024-02-08T22:35:14.073Z"
   },
   {
    "duration": 22,
    "start_time": "2024-02-08T22:35:14.087Z"
   },
   {
    "duration": 17,
    "start_time": "2024-02-08T22:35:14.111Z"
   },
   {
    "duration": 3,
    "start_time": "2024-02-08T22:35:14.130Z"
   },
   {
    "duration": 21,
    "start_time": "2024-02-08T22:35:14.135Z"
   },
   {
    "duration": 18,
    "start_time": "2024-02-08T22:35:14.158Z"
   },
   {
    "duration": 14,
    "start_time": "2024-02-08T22:35:14.177Z"
   },
   {
    "duration": 23,
    "start_time": "2024-02-08T22:35:14.192Z"
   },
   {
    "duration": 21,
    "start_time": "2024-02-08T22:35:14.217Z"
   },
   {
    "duration": 19,
    "start_time": "2024-02-08T22:35:14.240Z"
   },
   {
    "duration": 20,
    "start_time": "2024-02-08T22:35:14.260Z"
   },
   {
    "duration": 13,
    "start_time": "2024-02-08T22:35:14.282Z"
   },
   {
    "duration": 21,
    "start_time": "2024-02-08T22:35:14.297Z"
   },
   {
    "duration": 30,
    "start_time": "2024-02-08T22:35:14.320Z"
   },
   {
    "duration": 11,
    "start_time": "2024-02-08T22:35:14.352Z"
   },
   {
    "duration": 10,
    "start_time": "2024-02-08T22:35:14.365Z"
   },
   {
    "duration": 11,
    "start_time": "2024-02-08T22:35:14.377Z"
   },
   {
    "duration": 10,
    "start_time": "2024-02-08T22:35:14.390Z"
   },
   {
    "duration": 23,
    "start_time": "2024-02-08T22:35:14.401Z"
   },
   {
    "duration": 19,
    "start_time": "2024-02-08T22:35:14.425Z"
   },
   {
    "duration": 24,
    "start_time": "2024-02-08T22:35:14.446Z"
   },
   {
    "duration": 25,
    "start_time": "2024-02-08T22:35:14.472Z"
   },
   {
    "duration": 34,
    "start_time": "2024-02-08T22:35:14.499Z"
   },
   {
    "duration": 10,
    "start_time": "2024-02-08T22:35:14.534Z"
   },
   {
    "duration": 6,
    "start_time": "2024-02-08T22:35:14.546Z"
   },
   {
    "duration": 11,
    "start_time": "2024-02-08T22:35:14.553Z"
   },
   {
    "duration": 12,
    "start_time": "2024-02-08T22:35:14.565Z"
   },
   {
    "duration": 14,
    "start_time": "2024-02-08T22:35:14.580Z"
   },
   {
    "duration": 18,
    "start_time": "2024-02-08T22:35:14.595Z"
   },
   {
    "duration": 29,
    "start_time": "2024-02-08T22:35:14.615Z"
   },
   {
    "duration": 17,
    "start_time": "2024-02-08T22:35:14.646Z"
   },
   {
    "duration": 96,
    "start_time": "2024-02-08T22:35:14.666Z"
   },
   {
    "duration": 16,
    "start_time": "2024-02-08T22:35:46.230Z"
   },
   {
    "duration": 14,
    "start_time": "2024-02-08T22:35:59.562Z"
   },
   {
    "duration": 16,
    "start_time": "2024-02-08T22:36:29.856Z"
   },
   {
    "duration": 5,
    "start_time": "2024-02-08T22:37:11.895Z"
   },
   {
    "duration": 16,
    "start_time": "2024-02-08T22:37:12.401Z"
   },
   {
    "duration": 16,
    "start_time": "2024-02-08T22:39:47.294Z"
   },
   {
    "duration": 18,
    "start_time": "2024-02-08T22:41:19.179Z"
   },
   {
    "duration": 20,
    "start_time": "2024-02-08T22:42:17.665Z"
   },
   {
    "duration": 20,
    "start_time": "2024-02-08T22:42:51.366Z"
   },
   {
    "duration": 103,
    "start_time": "2024-02-08T22:43:42.460Z"
   },
   {
    "duration": 6,
    "start_time": "2024-02-08T22:44:55.971Z"
   },
   {
    "duration": 18,
    "start_time": "2024-02-08T22:44:56.739Z"
   },
   {
    "duration": 7,
    "start_time": "2024-02-08T22:45:12.671Z"
   },
   {
    "duration": 6,
    "start_time": "2024-02-08T22:45:16.932Z"
   },
   {
    "duration": 19,
    "start_time": "2024-02-08T22:45:17.353Z"
   },
   {
    "duration": 18,
    "start_time": "2024-02-08T22:45:30.402Z"
   },
   {
    "duration": 18,
    "start_time": "2024-02-08T22:45:41.673Z"
   },
   {
    "duration": 20,
    "start_time": "2024-02-08T22:45:52.058Z"
   },
   {
    "duration": 5,
    "start_time": "2024-02-08T22:46:03.263Z"
   },
   {
    "duration": 19,
    "start_time": "2024-02-08T22:46:03.910Z"
   },
   {
    "duration": 5,
    "start_time": "2024-02-08T22:46:09.015Z"
   },
   {
    "duration": 19,
    "start_time": "2024-02-08T22:46:09.429Z"
   },
   {
    "duration": 22,
    "start_time": "2024-02-08T22:46:48.317Z"
   },
   {
    "duration": 20,
    "start_time": "2024-02-08T22:47:04.417Z"
   },
   {
    "duration": 23,
    "start_time": "2024-02-08T22:47:57.827Z"
   },
   {
    "duration": 16,
    "start_time": "2024-02-08T23:12:30.871Z"
   },
   {
    "duration": 16,
    "start_time": "2024-02-08T23:12:38.852Z"
   },
   {
    "duration": 77,
    "start_time": "2024-02-08T23:15:09.812Z"
   },
   {
    "duration": 14,
    "start_time": "2024-02-08T23:15:09.891Z"
   },
   {
    "duration": 24,
    "start_time": "2024-02-08T23:15:09.907Z"
   },
   {
    "duration": 9,
    "start_time": "2024-02-08T23:15:09.934Z"
   },
   {
    "duration": 47,
    "start_time": "2024-02-08T23:15:09.945Z"
   },
   {
    "duration": 3,
    "start_time": "2024-02-08T23:15:09.993Z"
   },
   {
    "duration": 28,
    "start_time": "2024-02-08T23:15:09.997Z"
   },
   {
    "duration": 12,
    "start_time": "2024-02-08T23:15:10.027Z"
   },
   {
    "duration": 20,
    "start_time": "2024-02-08T23:15:10.041Z"
   },
   {
    "duration": 26,
    "start_time": "2024-02-08T23:15:10.064Z"
   },
   {
    "duration": 52,
    "start_time": "2024-02-08T23:15:10.092Z"
   },
   {
    "duration": 9,
    "start_time": "2024-02-08T23:15:10.146Z"
   },
   {
    "duration": 28,
    "start_time": "2024-02-08T23:15:10.156Z"
   },
   {
    "duration": 28,
    "start_time": "2024-02-08T23:15:10.185Z"
   },
   {
    "duration": 44,
    "start_time": "2024-02-08T23:15:10.214Z"
   },
   {
    "duration": 27,
    "start_time": "2024-02-08T23:15:10.260Z"
   },
   {
    "duration": 8,
    "start_time": "2024-02-08T23:15:10.289Z"
   },
   {
    "duration": 24,
    "start_time": "2024-02-08T23:15:10.298Z"
   },
   {
    "duration": 38,
    "start_time": "2024-02-08T23:15:10.324Z"
   },
   {
    "duration": 23,
    "start_time": "2024-02-08T23:15:10.364Z"
   },
   {
    "duration": 25,
    "start_time": "2024-02-08T23:15:10.389Z"
   },
   {
    "duration": 35,
    "start_time": "2024-02-08T23:15:10.415Z"
   },
   {
    "duration": 67,
    "start_time": "2024-02-08T23:15:10.452Z"
   },
   {
    "duration": 26,
    "start_time": "2024-02-08T23:15:10.521Z"
   },
   {
    "duration": 45,
    "start_time": "2024-02-08T23:15:10.549Z"
   },
   {
    "duration": 12,
    "start_time": "2024-02-08T23:15:10.596Z"
   },
   {
    "duration": 31,
    "start_time": "2024-02-08T23:15:10.609Z"
   },
   {
    "duration": 8,
    "start_time": "2024-02-08T23:15:10.644Z"
   },
   {
    "duration": 42,
    "start_time": "2024-02-08T23:15:10.654Z"
   },
   {
    "duration": 31,
    "start_time": "2024-02-08T23:15:10.698Z"
   },
   {
    "duration": 6,
    "start_time": "2024-02-08T23:15:10.731Z"
   },
   {
    "duration": 22,
    "start_time": "2024-02-08T23:15:10.738Z"
   },
   {
    "duration": 26,
    "start_time": "2024-02-08T23:15:10.762Z"
   },
   {
    "duration": 16,
    "start_time": "2024-02-08T23:15:10.789Z"
   },
   {
    "duration": 12,
    "start_time": "2024-02-08T23:15:10.807Z"
   },
   {
    "duration": 6,
    "start_time": "2024-02-08T23:15:10.820Z"
   },
   {
    "duration": 10,
    "start_time": "2024-02-08T23:15:10.827Z"
   },
   {
    "duration": 13,
    "start_time": "2024-02-08T23:15:10.838Z"
   },
   {
    "duration": 16,
    "start_time": "2024-02-08T23:15:10.853Z"
   },
   {
    "duration": 10,
    "start_time": "2024-02-08T23:15:10.871Z"
   },
   {
    "duration": 10,
    "start_time": "2024-02-08T23:15:10.883Z"
   },
   {
    "duration": 472,
    "start_time": "2024-02-08T23:52:31.117Z"
   },
   {
    "duration": 23,
    "start_time": "2024-02-08T23:52:31.591Z"
   },
   {
    "duration": 69,
    "start_time": "2024-02-08T23:52:31.615Z"
   },
   {
    "duration": 39,
    "start_time": "2024-02-08T23:52:31.686Z"
   },
   {
    "duration": 63,
    "start_time": "2024-02-08T23:52:31.727Z"
   },
   {
    "duration": 4,
    "start_time": "2024-02-08T23:52:31.791Z"
   },
   {
    "duration": 38,
    "start_time": "2024-02-08T23:52:31.796Z"
   },
   {
    "duration": 19,
    "start_time": "2024-02-08T23:52:31.836Z"
   },
   {
    "duration": 20,
    "start_time": "2024-02-08T23:52:31.857Z"
   },
   {
    "duration": 14,
    "start_time": "2024-02-08T23:52:31.881Z"
   },
   {
    "duration": 57,
    "start_time": "2024-02-08T23:52:31.897Z"
   },
   {
    "duration": 25,
    "start_time": "2024-02-08T23:52:31.956Z"
   },
   {
    "duration": 64,
    "start_time": "2024-02-08T23:52:31.983Z"
   },
   {
    "duration": 77,
    "start_time": "2024-02-08T23:52:32.049Z"
   },
   {
    "duration": 77,
    "start_time": "2024-02-08T23:52:32.128Z"
   },
   {
    "duration": 51,
    "start_time": "2024-02-08T23:52:32.206Z"
   },
   {
    "duration": 4,
    "start_time": "2024-02-08T23:52:32.258Z"
   },
   {
    "duration": 49,
    "start_time": "2024-02-08T23:52:32.264Z"
   },
   {
    "duration": 56,
    "start_time": "2024-02-08T23:52:32.315Z"
   },
   {
    "duration": 81,
    "start_time": "2024-02-08T23:52:32.373Z"
   },
   {
    "duration": 35,
    "start_time": "2024-02-08T23:52:32.456Z"
   },
   {
    "duration": 6,
    "start_time": "2024-02-08T23:52:32.492Z"
   },
   {
    "duration": 10,
    "start_time": "2024-02-08T23:52:32.499Z"
   },
   {
    "duration": 89,
    "start_time": "2024-02-08T23:52:32.511Z"
   },
   {
    "duration": 0,
    "start_time": "2024-02-08T23:52:32.602Z"
   },
   {
    "duration": 0,
    "start_time": "2024-02-08T23:52:32.604Z"
   },
   {
    "duration": 0,
    "start_time": "2024-02-08T23:52:32.605Z"
   },
   {
    "duration": 0,
    "start_time": "2024-02-08T23:52:32.606Z"
   },
   {
    "duration": 0,
    "start_time": "2024-02-08T23:52:32.607Z"
   },
   {
    "duration": 0,
    "start_time": "2024-02-08T23:52:32.608Z"
   },
   {
    "duration": 0,
    "start_time": "2024-02-08T23:52:32.609Z"
   },
   {
    "duration": 0,
    "start_time": "2024-02-08T23:52:32.610Z"
   },
   {
    "duration": 0,
    "start_time": "2024-02-08T23:52:32.611Z"
   },
   {
    "duration": 0,
    "start_time": "2024-02-08T23:52:32.612Z"
   },
   {
    "duration": 0,
    "start_time": "2024-02-08T23:52:32.612Z"
   },
   {
    "duration": 0,
    "start_time": "2024-02-08T23:52:32.614Z"
   },
   {
    "duration": 0,
    "start_time": "2024-02-08T23:52:32.615Z"
   },
   {
    "duration": 0,
    "start_time": "2024-02-08T23:52:32.616Z"
   },
   {
    "duration": 0,
    "start_time": "2024-02-08T23:52:32.617Z"
   },
   {
    "duration": 0,
    "start_time": "2024-02-08T23:52:32.618Z"
   },
   {
    "duration": 0,
    "start_time": "2024-02-08T23:52:32.619Z"
   },
   {
    "duration": 745,
    "start_time": "2024-02-09T10:35:02.629Z"
   },
   {
    "duration": 23,
    "start_time": "2024-02-09T10:35:03.376Z"
   },
   {
    "duration": 35,
    "start_time": "2024-02-09T10:35:03.401Z"
   },
   {
    "duration": 12,
    "start_time": "2024-02-09T10:35:03.440Z"
   },
   {
    "duration": 68,
    "start_time": "2024-02-09T10:35:03.455Z"
   },
   {
    "duration": 3,
    "start_time": "2024-02-09T10:35:03.525Z"
   },
   {
    "duration": 67,
    "start_time": "2024-02-09T10:35:03.530Z"
   },
   {
    "duration": 64,
    "start_time": "2024-02-09T10:35:03.599Z"
   },
   {
    "duration": 94,
    "start_time": "2024-02-09T10:35:03.665Z"
   },
   {
    "duration": 18,
    "start_time": "2024-02-09T10:35:03.763Z"
   },
   {
    "duration": 50,
    "start_time": "2024-02-09T10:35:03.782Z"
   },
   {
    "duration": 12,
    "start_time": "2024-02-09T10:35:03.834Z"
   },
   {
    "duration": 12,
    "start_time": "2024-02-09T10:35:03.847Z"
   },
   {
    "duration": 26,
    "start_time": "2024-02-09T10:35:03.861Z"
   },
   {
    "duration": 43,
    "start_time": "2024-02-09T10:35:03.889Z"
   },
   {
    "duration": 31,
    "start_time": "2024-02-09T10:35:03.934Z"
   },
   {
    "duration": 3,
    "start_time": "2024-02-09T10:35:03.967Z"
   },
   {
    "duration": 18,
    "start_time": "2024-02-09T10:35:03.972Z"
   },
   {
    "duration": 27,
    "start_time": "2024-02-09T10:35:03.992Z"
   },
   {
    "duration": 6,
    "start_time": "2024-02-09T10:35:04.020Z"
   },
   {
    "duration": 36,
    "start_time": "2024-02-09T10:35:04.027Z"
   },
   {
    "duration": 15,
    "start_time": "2024-02-09T10:35:04.065Z"
   },
   {
    "duration": 20,
    "start_time": "2024-02-09T10:35:04.082Z"
   },
   {
    "duration": 13,
    "start_time": "2024-02-09T10:35:04.105Z"
   },
   {
    "duration": 8,
    "start_time": "2024-02-09T10:35:04.119Z"
   },
   {
    "duration": 18,
    "start_time": "2024-02-09T10:35:04.128Z"
   },
   {
    "duration": 20,
    "start_time": "2024-02-09T10:35:04.148Z"
   },
   {
    "duration": 8,
    "start_time": "2024-02-09T10:35:04.171Z"
   },
   {
    "duration": 12,
    "start_time": "2024-02-09T10:35:04.181Z"
   },
   {
    "duration": 43,
    "start_time": "2024-02-09T10:35:04.195Z"
   },
   {
    "duration": 6,
    "start_time": "2024-02-09T10:35:04.240Z"
   },
   {
    "duration": 17,
    "start_time": "2024-02-09T10:35:04.248Z"
   },
   {
    "duration": 11,
    "start_time": "2024-02-09T10:35:04.267Z"
   },
   {
    "duration": 15,
    "start_time": "2024-02-09T10:35:04.280Z"
   },
   {
    "duration": 17,
    "start_time": "2024-02-09T10:35:04.297Z"
   },
   {
    "duration": 28,
    "start_time": "2024-02-09T10:35:04.315Z"
   },
   {
    "duration": 8,
    "start_time": "2024-02-09T10:35:04.345Z"
   },
   {
    "duration": 30,
    "start_time": "2024-02-09T10:35:04.355Z"
   },
   {
    "duration": 13,
    "start_time": "2024-02-09T10:35:04.387Z"
   },
   {
    "duration": 10,
    "start_time": "2024-02-09T10:35:04.402Z"
   },
   {
    "duration": 37,
    "start_time": "2024-02-09T10:35:04.413Z"
   },
   {
    "duration": 18,
    "start_time": "2024-02-09T10:36:41.862Z"
   },
   {
    "duration": 67,
    "start_time": "2024-02-09T10:38:37.429Z"
   },
   {
    "duration": 8,
    "start_time": "2024-02-09T10:38:50.817Z"
   },
   {
    "duration": 5,
    "start_time": "2024-02-09T10:39:00.097Z"
   },
   {
    "duration": 5,
    "start_time": "2024-02-09T10:39:19.999Z"
   },
   {
    "duration": 18,
    "start_time": "2024-02-09T10:39:38.973Z"
   },
   {
    "duration": 5,
    "start_time": "2024-02-09T10:39:54.176Z"
   },
   {
    "duration": 80,
    "start_time": "2024-02-09T10:40:00.924Z"
   },
   {
    "duration": 55,
    "start_time": "2024-02-09T10:40:01.005Z"
   },
   {
    "duration": 43,
    "start_time": "2024-02-09T10:40:01.062Z"
   },
   {
    "duration": 6,
    "start_time": "2024-02-09T10:40:03.527Z"
   },
   {
    "duration": 5,
    "start_time": "2024-02-09T10:40:19.335Z"
   },
   {
    "duration": 6,
    "start_time": "2024-02-09T10:41:14.605Z"
   },
   {
    "duration": 11,
    "start_time": "2024-02-09T10:42:10.858Z"
   },
   {
    "duration": 11,
    "start_time": "2024-02-09T10:42:15.794Z"
   },
   {
    "duration": 10,
    "start_time": "2024-02-09T10:42:19.853Z"
   },
   {
    "duration": 10,
    "start_time": "2024-02-09T10:43:16.888Z"
   },
   {
    "duration": 9,
    "start_time": "2024-02-09T10:44:23.545Z"
   },
   {
    "duration": 8,
    "start_time": "2024-02-09T10:44:29.923Z"
   },
   {
    "duration": 5,
    "start_time": "2024-02-09T10:44:34.993Z"
   },
   {
    "duration": 4,
    "start_time": "2024-02-09T10:44:40.347Z"
   },
   {
    "duration": 1247,
    "start_time": "2024-02-09T10:44:55.524Z"
   },
   {
    "duration": 5,
    "start_time": "2024-02-09T10:45:13.862Z"
   },
   {
    "duration": 4,
    "start_time": "2024-02-09T10:45:44.803Z"
   },
   {
    "duration": 3,
    "start_time": "2024-02-09T10:45:56.651Z"
   },
   {
    "duration": 19,
    "start_time": "2024-02-09T10:48:05.664Z"
   },
   {
    "duration": 1358,
    "start_time": "2024-02-09T10:50:22.416Z"
   },
   {
    "duration": 1236,
    "start_time": "2024-02-09T10:50:29.313Z"
   },
   {
    "duration": 1180,
    "start_time": "2024-02-09T10:50:54.026Z"
   },
   {
    "duration": 24,
    "start_time": "2024-02-09T10:51:04.314Z"
   },
   {
    "duration": 84,
    "start_time": "2024-02-09T10:52:22.596Z"
   },
   {
    "duration": 16,
    "start_time": "2024-02-09T10:52:22.682Z"
   },
   {
    "duration": 41,
    "start_time": "2024-02-09T10:52:22.699Z"
   },
   {
    "duration": 12,
    "start_time": "2024-02-09T10:52:22.742Z"
   },
   {
    "duration": 39,
    "start_time": "2024-02-09T10:52:22.756Z"
   },
   {
    "duration": 28,
    "start_time": "2024-02-09T10:52:22.797Z"
   },
   {
    "duration": 28,
    "start_time": "2024-02-09T10:52:22.827Z"
   },
   {
    "duration": 30,
    "start_time": "2024-02-09T10:52:22.857Z"
   },
   {
    "duration": 18,
    "start_time": "2024-02-09T10:52:22.889Z"
   },
   {
    "duration": 15,
    "start_time": "2024-02-09T10:52:22.910Z"
   },
   {
    "duration": 44,
    "start_time": "2024-02-09T10:52:22.927Z"
   },
   {
    "duration": 11,
    "start_time": "2024-02-09T10:52:22.973Z"
   },
   {
    "duration": 19,
    "start_time": "2024-02-09T10:52:22.986Z"
   },
   {
    "duration": 47,
    "start_time": "2024-02-09T10:52:23.007Z"
   },
   {
    "duration": 30,
    "start_time": "2024-02-09T10:52:23.056Z"
   },
   {
    "duration": 30,
    "start_time": "2024-02-09T10:52:23.088Z"
   },
   {
    "duration": 4,
    "start_time": "2024-02-09T10:52:23.120Z"
   },
   {
    "duration": 31,
    "start_time": "2024-02-09T10:52:23.125Z"
   },
   {
    "duration": 15,
    "start_time": "2024-02-09T10:52:23.158Z"
   },
   {
    "duration": 24,
    "start_time": "2024-02-09T10:52:23.175Z"
   },
   {
    "duration": 40,
    "start_time": "2024-02-09T10:52:23.201Z"
   },
   {
    "duration": 13,
    "start_time": "2024-02-09T10:52:23.243Z"
   },
   {
    "duration": 48,
    "start_time": "2024-02-09T10:52:23.258Z"
   },
   {
    "duration": 34,
    "start_time": "2024-02-09T10:52:23.307Z"
   },
   {
    "duration": 18,
    "start_time": "2024-02-09T10:52:23.342Z"
   },
   {
    "duration": 16,
    "start_time": "2024-02-09T10:52:23.362Z"
   },
   {
    "duration": 25,
    "start_time": "2024-02-09T10:52:23.379Z"
   },
   {
    "duration": 9,
    "start_time": "2024-02-09T10:52:23.407Z"
   },
   {
    "duration": 12,
    "start_time": "2024-02-09T10:52:23.418Z"
   },
   {
    "duration": 13,
    "start_time": "2024-02-09T10:52:23.432Z"
   },
   {
    "duration": 6,
    "start_time": "2024-02-09T10:52:23.447Z"
   },
   {
    "duration": 11,
    "start_time": "2024-02-09T10:52:23.455Z"
   },
   {
    "duration": 12,
    "start_time": "2024-02-09T10:52:23.467Z"
   },
   {
    "duration": 30,
    "start_time": "2024-02-09T10:52:23.481Z"
   },
   {
    "duration": 17,
    "start_time": "2024-02-09T10:52:23.514Z"
   },
   {
    "duration": 7,
    "start_time": "2024-02-09T10:52:23.532Z"
   },
   {
    "duration": 24,
    "start_time": "2024-02-09T10:52:23.541Z"
   },
   {
    "duration": 29,
    "start_time": "2024-02-09T10:52:23.567Z"
   },
   {
    "duration": 12,
    "start_time": "2024-02-09T10:52:23.598Z"
   },
   {
    "duration": 14,
    "start_time": "2024-02-09T10:52:23.612Z"
   },
   {
    "duration": 23,
    "start_time": "2024-02-09T10:52:23.627Z"
   },
   {
    "duration": 83,
    "start_time": "2024-02-09T11:01:42.701Z"
   },
   {
    "duration": 39,
    "start_time": "2024-02-09T11:01:42.786Z"
   },
   {
    "duration": 38,
    "start_time": "2024-02-09T11:01:42.827Z"
   },
   {
    "duration": 12,
    "start_time": "2024-02-09T11:01:42.867Z"
   },
   {
    "duration": 53,
    "start_time": "2024-02-09T11:01:42.881Z"
   },
   {
    "duration": 4,
    "start_time": "2024-02-09T11:01:42.936Z"
   },
   {
    "duration": 10,
    "start_time": "2024-02-09T11:01:42.941Z"
   },
   {
    "duration": 4,
    "start_time": "2024-02-09T11:01:42.953Z"
   },
   {
    "duration": 6,
    "start_time": "2024-02-09T11:01:42.958Z"
   },
   {
    "duration": 4,
    "start_time": "2024-02-09T11:01:42.967Z"
   },
   {
    "duration": 77,
    "start_time": "2024-02-09T11:01:42.973Z"
   },
   {
    "duration": 14,
    "start_time": "2024-02-09T11:01:43.053Z"
   },
   {
    "duration": 6,
    "start_time": "2024-02-09T11:01:43.069Z"
   },
   {
    "duration": 17,
    "start_time": "2024-02-09T11:01:43.076Z"
   },
   {
    "duration": 50,
    "start_time": "2024-02-09T11:01:43.095Z"
   },
   {
    "duration": 24,
    "start_time": "2024-02-09T11:01:43.148Z"
   },
   {
    "duration": 4,
    "start_time": "2024-02-09T11:01:43.173Z"
   },
   {
    "duration": 19,
    "start_time": "2024-02-09T11:01:43.179Z"
   },
   {
    "duration": 24,
    "start_time": "2024-02-09T11:01:43.200Z"
   },
   {
    "duration": 4,
    "start_time": "2024-02-09T11:01:43.225Z"
   },
   {
    "duration": 20,
    "start_time": "2024-02-09T11:01:43.231Z"
   },
   {
    "duration": 25,
    "start_time": "2024-02-09T11:01:43.253Z"
   },
   {
    "duration": 35,
    "start_time": "2024-02-09T11:01:43.280Z"
   },
   {
    "duration": 18,
    "start_time": "2024-02-09T11:01:43.317Z"
   },
   {
    "duration": 24,
    "start_time": "2024-02-09T11:01:43.337Z"
   },
   {
    "duration": 21,
    "start_time": "2024-02-09T11:01:43.363Z"
   },
   {
    "duration": 16,
    "start_time": "2024-02-09T11:01:43.386Z"
   },
   {
    "duration": 8,
    "start_time": "2024-02-09T11:01:43.406Z"
   },
   {
    "duration": 13,
    "start_time": "2024-02-09T11:01:43.424Z"
   },
   {
    "duration": 20,
    "start_time": "2024-02-09T11:01:43.439Z"
   },
   {
    "duration": 4,
    "start_time": "2024-02-09T11:01:43.461Z"
   },
   {
    "duration": 13,
    "start_time": "2024-02-09T11:01:43.467Z"
   },
   {
    "duration": 17,
    "start_time": "2024-02-09T11:01:43.482Z"
   },
   {
    "duration": 33,
    "start_time": "2024-02-09T11:01:43.501Z"
   },
   {
    "duration": 19,
    "start_time": "2024-02-09T11:01:43.536Z"
   },
   {
    "duration": 9,
    "start_time": "2024-02-09T11:01:43.557Z"
   },
   {
    "duration": 7,
    "start_time": "2024-02-09T11:01:43.568Z"
   },
   {
    "duration": 51,
    "start_time": "2024-02-09T11:01:43.577Z"
   },
   {
    "duration": 19,
    "start_time": "2024-02-09T11:01:43.630Z"
   },
   {
    "duration": 7,
    "start_time": "2024-02-09T11:01:43.651Z"
   },
   {
    "duration": 11,
    "start_time": "2024-02-09T11:01:43.660Z"
   },
   {
    "duration": 1556,
    "start_time": "2024-02-09T11:16:01.202Z"
   },
   {
    "duration": 1327,
    "start_time": "2024-02-09T11:16:14.963Z"
   },
   {
    "duration": 14,
    "start_time": "2024-02-09T11:18:21.496Z"
   },
   {
    "duration": 14,
    "start_time": "2024-02-09T11:18:32.083Z"
   },
   {
    "duration": 79,
    "start_time": "2024-02-09T11:18:38.081Z"
   },
   {
    "duration": 16,
    "start_time": "2024-02-09T11:18:38.162Z"
   },
   {
    "duration": 18,
    "start_time": "2024-02-09T11:18:38.180Z"
   },
   {
    "duration": 32,
    "start_time": "2024-02-09T11:18:38.200Z"
   },
   {
    "duration": 18,
    "start_time": "2024-02-09T11:18:41.388Z"
   },
   {
    "duration": 18,
    "start_time": "2024-02-09T11:20:35.524Z"
   },
   {
    "duration": 25,
    "start_time": "2024-02-09T11:20:40.912Z"
   },
   {
    "duration": 32,
    "start_time": "2024-02-09T11:23:33.633Z"
   },
   {
    "duration": 33,
    "start_time": "2024-02-09T11:32:53.087Z"
   },
   {
    "duration": 80,
    "start_time": "2024-02-09T12:13:13.853Z"
   },
   {
    "duration": 17,
    "start_time": "2024-02-09T12:13:13.935Z"
   },
   {
    "duration": 17,
    "start_time": "2024-02-09T12:13:13.954Z"
   },
   {
    "duration": 11,
    "start_time": "2024-02-09T12:13:13.973Z"
   },
   {
    "duration": 67,
    "start_time": "2024-02-09T12:13:13.986Z"
   },
   {
    "duration": 4,
    "start_time": "2024-02-09T12:13:14.055Z"
   },
   {
    "duration": 10,
    "start_time": "2024-02-09T12:13:14.061Z"
   },
   {
    "duration": 6,
    "start_time": "2024-02-09T12:13:14.073Z"
   },
   {
    "duration": 12,
    "start_time": "2024-02-09T12:13:14.080Z"
   },
   {
    "duration": 28,
    "start_time": "2024-02-09T12:13:14.096Z"
   },
   {
    "duration": 40,
    "start_time": "2024-02-09T12:13:14.126Z"
   },
   {
    "duration": 12,
    "start_time": "2024-02-09T12:13:14.167Z"
   },
   {
    "duration": 8,
    "start_time": "2024-02-09T12:13:14.180Z"
   },
   {
    "duration": 39,
    "start_time": "2024-02-09T12:13:14.190Z"
   },
   {
    "duration": 21,
    "start_time": "2024-02-09T12:13:14.231Z"
   },
   {
    "duration": 20,
    "start_time": "2024-02-09T12:13:14.253Z"
   },
   {
    "duration": 4,
    "start_time": "2024-02-09T12:13:14.275Z"
   },
   {
    "duration": 13,
    "start_time": "2024-02-09T12:13:14.280Z"
   },
   {
    "duration": 28,
    "start_time": "2024-02-09T12:13:14.296Z"
   },
   {
    "duration": 4,
    "start_time": "2024-02-09T12:13:14.327Z"
   },
   {
    "duration": 31,
    "start_time": "2024-02-09T12:13:14.333Z"
   },
   {
    "duration": 12,
    "start_time": "2024-02-09T12:13:14.366Z"
   },
   {
    "duration": 16,
    "start_time": "2024-02-09T12:13:14.380Z"
   },
   {
    "duration": 13,
    "start_time": "2024-02-09T12:13:14.397Z"
   },
   {
    "duration": 13,
    "start_time": "2024-02-09T12:13:14.412Z"
   },
   {
    "duration": 8,
    "start_time": "2024-02-09T12:13:14.426Z"
   },
   {
    "duration": 14,
    "start_time": "2024-02-09T12:13:14.436Z"
   },
   {
    "duration": 10,
    "start_time": "2024-02-09T12:13:14.453Z"
   },
   {
    "duration": 13,
    "start_time": "2024-02-09T12:13:14.464Z"
   },
   {
    "duration": 16,
    "start_time": "2024-02-09T12:13:14.479Z"
   },
   {
    "duration": 5,
    "start_time": "2024-02-09T12:13:14.523Z"
   },
   {
    "duration": 10,
    "start_time": "2024-02-09T12:13:14.529Z"
   },
   {
    "duration": 9,
    "start_time": "2024-02-09T12:13:14.541Z"
   },
   {
    "duration": 14,
    "start_time": "2024-02-09T12:13:14.551Z"
   },
   {
    "duration": 32,
    "start_time": "2024-02-09T12:13:14.567Z"
   },
   {
    "duration": 27,
    "start_time": "2024-02-09T12:13:14.601Z"
   },
   {
    "duration": 11,
    "start_time": "2024-02-09T12:13:14.630Z"
   },
   {
    "duration": 17,
    "start_time": "2024-02-09T12:13:14.643Z"
   },
   {
    "duration": 14,
    "start_time": "2024-02-09T12:13:14.662Z"
   },
   {
    "duration": 11,
    "start_time": "2024-02-09T12:13:14.678Z"
   },
   {
    "duration": 33,
    "start_time": "2024-02-09T12:13:14.691Z"
   },
   {
    "duration": 83,
    "start_time": "2024-02-09T12:16:59.384Z"
   },
   {
    "duration": 22,
    "start_time": "2024-02-09T12:16:59.470Z"
   },
   {
    "duration": 40,
    "start_time": "2024-02-09T12:16:59.494Z"
   },
   {
    "duration": 16,
    "start_time": "2024-02-09T12:16:59.536Z"
   },
   {
    "duration": 58,
    "start_time": "2024-02-09T12:16:59.554Z"
   },
   {
    "duration": 3,
    "start_time": "2024-02-09T12:16:59.614Z"
   },
   {
    "duration": 13,
    "start_time": "2024-02-09T12:16:59.619Z"
   },
   {
    "duration": 5,
    "start_time": "2024-02-09T12:16:59.633Z"
   },
   {
    "duration": 20,
    "start_time": "2024-02-09T12:16:59.639Z"
   },
   {
    "duration": 11,
    "start_time": "2024-02-09T12:16:59.662Z"
   },
   {
    "duration": 42,
    "start_time": "2024-02-09T12:16:59.675Z"
   },
   {
    "duration": 14,
    "start_time": "2024-02-09T12:16:59.719Z"
   },
   {
    "duration": 3,
    "start_time": "2024-02-09T12:16:59.735Z"
   },
   {
    "duration": 24,
    "start_time": "2024-02-09T12:16:59.740Z"
   },
   {
    "duration": 22,
    "start_time": "2024-02-09T12:16:59.766Z"
   },
   {
    "duration": 38,
    "start_time": "2024-02-09T12:16:59.790Z"
   },
   {
    "duration": 5,
    "start_time": "2024-02-09T12:16:59.829Z"
   },
   {
    "duration": 13,
    "start_time": "2024-02-09T12:16:59.836Z"
   },
   {
    "duration": 7,
    "start_time": "2024-02-09T12:16:59.851Z"
   },
   {
    "duration": 4,
    "start_time": "2024-02-09T12:16:59.859Z"
   },
   {
    "duration": 12,
    "start_time": "2024-02-09T12:16:59.864Z"
   },
   {
    "duration": 5,
    "start_time": "2024-02-09T12:16:59.877Z"
   },
   {
    "duration": 11,
    "start_time": "2024-02-09T12:16:59.883Z"
   },
   {
    "duration": 13,
    "start_time": "2024-02-09T12:16:59.923Z"
   },
   {
    "duration": 7,
    "start_time": "2024-02-09T12:16:59.937Z"
   },
   {
    "duration": 6,
    "start_time": "2024-02-09T12:16:59.946Z"
   },
   {
    "duration": 88,
    "start_time": "2024-02-09T12:16:59.953Z"
   },
   {
    "duration": 9,
    "start_time": "2024-02-09T12:17:00.044Z"
   },
   {
    "duration": 39,
    "start_time": "2024-02-09T12:17:00.054Z"
   },
   {
    "duration": 17,
    "start_time": "2024-02-09T12:17:00.094Z"
   },
   {
    "duration": 35,
    "start_time": "2024-02-09T12:17:00.113Z"
   },
   {
    "duration": 54,
    "start_time": "2024-02-09T12:17:00.150Z"
   },
   {
    "duration": 43,
    "start_time": "2024-02-09T12:17:00.206Z"
   },
   {
    "duration": 77,
    "start_time": "2024-02-09T12:17:00.251Z"
   },
   {
    "duration": 45,
    "start_time": "2024-02-09T12:17:00.330Z"
   },
   {
    "duration": 62,
    "start_time": "2024-02-09T12:17:00.377Z"
   },
   {
    "duration": 52,
    "start_time": "2024-02-09T12:17:00.441Z"
   },
   {
    "duration": 33,
    "start_time": "2024-02-09T12:17:00.494Z"
   },
   {
    "duration": 113,
    "start_time": "2024-02-09T12:17:00.528Z"
   },
   {
    "duration": 167,
    "start_time": "2024-02-09T12:17:00.643Z"
   },
   {
    "duration": 89,
    "start_time": "2024-02-09T12:17:00.811Z"
   },
   {
    "duration": 712,
    "start_time": "2024-02-09T23:00:28.199Z"
   },
   {
    "duration": 21,
    "start_time": "2024-02-09T23:00:28.913Z"
   },
   {
    "duration": 16,
    "start_time": "2024-02-09T23:00:28.936Z"
   },
   {
    "duration": 27,
    "start_time": "2024-02-09T23:00:28.955Z"
   },
   {
    "duration": 50,
    "start_time": "2024-02-09T23:00:28.984Z"
   },
   {
    "duration": 4,
    "start_time": "2024-02-09T23:00:29.036Z"
   },
   {
    "duration": 36,
    "start_time": "2024-02-09T23:00:29.041Z"
   },
   {
    "duration": 20,
    "start_time": "2024-02-09T23:00:29.079Z"
   },
   {
    "duration": 17,
    "start_time": "2024-02-09T23:00:29.101Z"
   },
   {
    "duration": 17,
    "start_time": "2024-02-09T23:00:29.122Z"
   },
   {
    "duration": 73,
    "start_time": "2024-02-09T23:00:29.140Z"
   },
   {
    "duration": 9,
    "start_time": "2024-02-09T23:00:29.215Z"
   },
   {
    "duration": 5,
    "start_time": "2024-02-09T23:00:29.226Z"
   },
   {
    "duration": 13,
    "start_time": "2024-02-09T23:00:29.232Z"
   },
   {
    "duration": 21,
    "start_time": "2024-02-09T23:00:29.246Z"
   },
   {
    "duration": 16,
    "start_time": "2024-02-09T23:00:29.268Z"
   },
   {
    "duration": 4,
    "start_time": "2024-02-09T23:00:29.285Z"
   },
   {
    "duration": 10,
    "start_time": "2024-02-09T23:00:29.314Z"
   },
   {
    "duration": 6,
    "start_time": "2024-02-09T23:00:29.325Z"
   },
   {
    "duration": 4,
    "start_time": "2024-02-09T23:00:29.332Z"
   },
   {
    "duration": 10,
    "start_time": "2024-02-09T23:00:29.338Z"
   },
   {
    "duration": 6,
    "start_time": "2024-02-09T23:00:29.349Z"
   },
   {
    "duration": 8,
    "start_time": "2024-02-09T23:00:29.356Z"
   },
   {
    "duration": 49,
    "start_time": "2024-02-09T23:00:29.366Z"
   },
   {
    "duration": 7,
    "start_time": "2024-02-09T23:00:29.417Z"
   },
   {
    "duration": 8,
    "start_time": "2024-02-09T23:00:29.426Z"
   },
   {
    "duration": 13,
    "start_time": "2024-02-09T23:00:29.436Z"
   },
   {
    "duration": 7,
    "start_time": "2024-02-09T23:00:29.452Z"
   },
   {
    "duration": 11,
    "start_time": "2024-02-09T23:00:29.460Z"
   },
   {
    "duration": 12,
    "start_time": "2024-02-09T23:00:29.472Z"
   },
   {
    "duration": 2,
    "start_time": "2024-02-09T23:00:29.515Z"
   },
   {
    "duration": 17,
    "start_time": "2024-02-09T23:00:29.519Z"
   },
   {
    "duration": 5,
    "start_time": "2024-02-09T23:00:29.537Z"
   },
   {
    "duration": 9,
    "start_time": "2024-02-09T23:00:29.543Z"
   },
   {
    "duration": 10,
    "start_time": "2024-02-09T23:00:29.554Z"
   },
   {
    "duration": 5,
    "start_time": "2024-02-09T23:00:29.566Z"
   },
   {
    "duration": 4,
    "start_time": "2024-02-09T23:00:29.573Z"
   },
   {
    "duration": 41,
    "start_time": "2024-02-09T23:00:29.578Z"
   },
   {
    "duration": 11,
    "start_time": "2024-02-09T23:00:29.621Z"
   },
   {
    "duration": 6,
    "start_time": "2024-02-09T23:00:29.634Z"
   },
   {
    "duration": 9,
    "start_time": "2024-02-09T23:00:29.641Z"
   },
   {
    "duration": 46,
    "start_time": "2024-02-10T10:02:02.460Z"
   },
   {
    "duration": 674,
    "start_time": "2024-02-10T10:02:11.467Z"
   },
   {
    "duration": 23,
    "start_time": "2024-02-10T10:02:12.143Z"
   },
   {
    "duration": 16,
    "start_time": "2024-02-10T10:02:12.168Z"
   },
   {
    "duration": 12,
    "start_time": "2024-02-10T10:02:12.186Z"
   },
   {
    "duration": 54,
    "start_time": "2024-02-10T10:02:12.200Z"
   },
   {
    "duration": 3,
    "start_time": "2024-02-10T10:02:12.256Z"
   },
   {
    "duration": 9,
    "start_time": "2024-02-10T10:02:12.261Z"
   },
   {
    "duration": 5,
    "start_time": "2024-02-10T10:02:12.272Z"
   },
   {
    "duration": 24,
    "start_time": "2024-02-10T10:02:12.278Z"
   },
   {
    "duration": 13,
    "start_time": "2024-02-10T10:02:12.304Z"
   },
   {
    "duration": 47,
    "start_time": "2024-02-10T10:02:12.318Z"
   },
   {
    "duration": 11,
    "start_time": "2024-02-10T10:02:12.367Z"
   },
   {
    "duration": 4,
    "start_time": "2024-02-10T10:02:12.380Z"
   },
   {
    "duration": 12,
    "start_time": "2024-02-10T10:02:12.387Z"
   },
   {
    "duration": 20,
    "start_time": "2024-02-10T10:02:12.414Z"
   },
   {
    "duration": 17,
    "start_time": "2024-02-10T10:02:12.436Z"
   },
   {
    "duration": 4,
    "start_time": "2024-02-10T10:02:12.455Z"
   },
   {
    "duration": 18,
    "start_time": "2024-02-10T10:02:12.461Z"
   },
   {
    "duration": 8,
    "start_time": "2024-02-10T10:02:12.480Z"
   },
   {
    "duration": 26,
    "start_time": "2024-02-10T10:02:12.489Z"
   },
   {
    "duration": 8,
    "start_time": "2024-02-10T10:02:12.516Z"
   },
   {
    "duration": 6,
    "start_time": "2024-02-10T10:02:12.526Z"
   },
   {
    "duration": 14,
    "start_time": "2024-02-10T10:02:12.533Z"
   },
   {
    "duration": 17,
    "start_time": "2024-02-10T10:02:12.549Z"
   },
   {
    "duration": 8,
    "start_time": "2024-02-10T10:02:12.568Z"
   },
   {
    "duration": 38,
    "start_time": "2024-02-10T10:02:12.578Z"
   },
   {
    "duration": 13,
    "start_time": "2024-02-10T10:02:12.617Z"
   },
   {
    "duration": 8,
    "start_time": "2024-02-10T10:02:12.632Z"
   },
   {
    "duration": 12,
    "start_time": "2024-02-10T10:02:12.641Z"
   },
   {
    "duration": 19,
    "start_time": "2024-02-10T10:02:12.654Z"
   },
   {
    "duration": 9,
    "start_time": "2024-02-10T10:02:12.674Z"
   },
   {
    "duration": 32,
    "start_time": "2024-02-10T10:02:12.689Z"
   },
   {
    "duration": 6,
    "start_time": "2024-02-10T10:02:12.723Z"
   },
   {
    "duration": 11,
    "start_time": "2024-02-10T10:02:12.731Z"
   },
   {
    "duration": 15,
    "start_time": "2024-02-10T10:02:12.744Z"
   },
   {
    "duration": 7,
    "start_time": "2024-02-10T10:02:12.761Z"
   },
   {
    "duration": 4,
    "start_time": "2024-02-10T10:02:12.770Z"
   },
   {
    "duration": 13,
    "start_time": "2024-02-10T10:02:12.816Z"
   },
   {
    "duration": 17,
    "start_time": "2024-02-10T10:02:12.831Z"
   },
   {
    "duration": 8,
    "start_time": "2024-02-10T10:02:12.850Z"
   },
   {
    "duration": 6,
    "start_time": "2024-02-10T10:02:12.862Z"
   },
   {
    "duration": 3,
    "start_time": "2024-02-10T10:09:53.301Z"
   },
   {
    "duration": 7,
    "start_time": "2024-02-10T10:15:43.836Z"
   },
   {
    "duration": 6,
    "start_time": "2024-02-10T10:15:45.104Z"
   },
   {
    "duration": 3,
    "start_time": "2024-02-10T10:18:50.841Z"
   },
   {
    "duration": 81,
    "start_time": "2024-02-10T10:24:51.153Z"
   },
   {
    "duration": 14,
    "start_time": "2024-02-10T10:24:51.236Z"
   },
   {
    "duration": 21,
    "start_time": "2024-02-10T10:24:51.252Z"
   },
   {
    "duration": 10,
    "start_time": "2024-02-10T10:24:51.275Z"
   },
   {
    "duration": 61,
    "start_time": "2024-02-10T10:24:51.287Z"
   },
   {
    "duration": 3,
    "start_time": "2024-02-10T10:24:51.349Z"
   },
   {
    "duration": 27,
    "start_time": "2024-02-10T10:24:51.353Z"
   },
   {
    "duration": 4,
    "start_time": "2024-02-10T10:24:51.382Z"
   },
   {
    "duration": 7,
    "start_time": "2024-02-10T10:24:51.388Z"
   },
   {
    "duration": 4,
    "start_time": "2024-02-10T10:24:51.398Z"
   },
   {
    "duration": 47,
    "start_time": "2024-02-10T10:24:51.403Z"
   },
   {
    "duration": 10,
    "start_time": "2024-02-10T10:24:51.451Z"
   },
   {
    "duration": 10,
    "start_time": "2024-02-10T10:24:51.462Z"
   },
   {
    "duration": 29,
    "start_time": "2024-02-10T10:24:51.474Z"
   },
   {
    "duration": 54,
    "start_time": "2024-02-10T10:24:51.504Z"
   },
   {
    "duration": 24,
    "start_time": "2024-02-10T10:24:51.560Z"
   },
   {
    "duration": 10,
    "start_time": "2024-02-10T10:24:51.587Z"
   },
   {
    "duration": 13,
    "start_time": "2024-02-10T10:24:51.598Z"
   },
   {
    "duration": 31,
    "start_time": "2024-02-10T10:24:51.613Z"
   },
   {
    "duration": 3,
    "start_time": "2024-02-10T10:24:51.646Z"
   },
   {
    "duration": 40,
    "start_time": "2024-02-10T10:24:51.650Z"
   },
   {
    "duration": 21,
    "start_time": "2024-02-10T10:24:51.692Z"
   },
   {
    "duration": 32,
    "start_time": "2024-02-10T10:24:51.714Z"
   },
   {
    "duration": 15,
    "start_time": "2024-02-10T10:24:51.748Z"
   },
   {
    "duration": 9,
    "start_time": "2024-02-10T10:24:51.765Z"
   },
   {
    "duration": 21,
    "start_time": "2024-02-10T10:24:51.776Z"
   },
   {
    "duration": 23,
    "start_time": "2024-02-10T10:24:51.798Z"
   },
   {
    "duration": 77,
    "start_time": "2024-02-10T10:24:51.829Z"
   },
   {
    "duration": 0,
    "start_time": "2024-02-10T10:24:51.907Z"
   },
   {
    "duration": 0,
    "start_time": "2024-02-10T10:24:51.908Z"
   },
   {
    "duration": 0,
    "start_time": "2024-02-10T10:24:51.909Z"
   },
   {
    "duration": 0,
    "start_time": "2024-02-10T10:24:51.910Z"
   },
   {
    "duration": 0,
    "start_time": "2024-02-10T10:24:51.911Z"
   },
   {
    "duration": 0,
    "start_time": "2024-02-10T10:24:51.912Z"
   },
   {
    "duration": 0,
    "start_time": "2024-02-10T10:24:51.913Z"
   },
   {
    "duration": 0,
    "start_time": "2024-02-10T10:24:51.914Z"
   },
   {
    "duration": 0,
    "start_time": "2024-02-10T10:24:51.917Z"
   },
   {
    "duration": 0,
    "start_time": "2024-02-10T10:24:51.918Z"
   },
   {
    "duration": 0,
    "start_time": "2024-02-10T10:24:51.919Z"
   },
   {
    "duration": 0,
    "start_time": "2024-02-10T10:24:51.920Z"
   },
   {
    "duration": 0,
    "start_time": "2024-02-10T10:24:51.921Z"
   },
   {
    "duration": 0,
    "start_time": "2024-02-10T10:24:51.923Z"
   },
   {
    "duration": 0,
    "start_time": "2024-02-10T10:24:51.923Z"
   },
   {
    "duration": 80,
    "start_time": "2024-02-10T10:25:12.547Z"
   },
   {
    "duration": 14,
    "start_time": "2024-02-10T10:25:12.629Z"
   },
   {
    "duration": 13,
    "start_time": "2024-02-10T10:25:12.645Z"
   },
   {
    "duration": 10,
    "start_time": "2024-02-10T10:25:12.660Z"
   },
   {
    "duration": 57,
    "start_time": "2024-02-10T10:25:12.672Z"
   },
   {
    "duration": 3,
    "start_time": "2024-02-10T10:25:12.731Z"
   },
   {
    "duration": 10,
    "start_time": "2024-02-10T10:25:12.735Z"
   },
   {
    "duration": 4,
    "start_time": "2024-02-10T10:25:12.747Z"
   },
   {
    "duration": 5,
    "start_time": "2024-02-10T10:25:12.753Z"
   },
   {
    "duration": 4,
    "start_time": "2024-02-10T10:25:12.761Z"
   },
   {
    "duration": 73,
    "start_time": "2024-02-10T10:25:12.766Z"
   },
   {
    "duration": 11,
    "start_time": "2024-02-10T10:25:12.841Z"
   },
   {
    "duration": 3,
    "start_time": "2024-02-10T10:25:12.854Z"
   },
   {
    "duration": 11,
    "start_time": "2024-02-10T10:25:12.859Z"
   },
   {
    "duration": 21,
    "start_time": "2024-02-10T10:25:12.871Z"
   },
   {
    "duration": 41,
    "start_time": "2024-02-10T10:25:12.894Z"
   },
   {
    "duration": 3,
    "start_time": "2024-02-10T10:25:12.937Z"
   },
   {
    "duration": 11,
    "start_time": "2024-02-10T10:25:12.941Z"
   },
   {
    "duration": 6,
    "start_time": "2024-02-10T10:25:12.953Z"
   },
   {
    "duration": 3,
    "start_time": "2024-02-10T10:25:12.960Z"
   },
   {
    "duration": 12,
    "start_time": "2024-02-10T10:25:12.964Z"
   },
   {
    "duration": 5,
    "start_time": "2024-02-10T10:25:12.978Z"
   },
   {
    "duration": 44,
    "start_time": "2024-02-10T10:25:12.984Z"
   },
   {
    "duration": 11,
    "start_time": "2024-02-10T10:25:13.030Z"
   },
   {
    "duration": 6,
    "start_time": "2024-02-10T10:25:13.043Z"
   },
   {
    "duration": 2,
    "start_time": "2024-02-10T10:25:13.051Z"
   },
   {
    "duration": 6,
    "start_time": "2024-02-10T10:25:13.054Z"
   },
   {
    "duration": 9,
    "start_time": "2024-02-10T10:25:13.063Z"
   },
   {
    "duration": 50,
    "start_time": "2024-02-10T10:25:13.073Z"
   },
   {
    "duration": 6,
    "start_time": "2024-02-10T10:25:13.125Z"
   },
   {
    "duration": 4,
    "start_time": "2024-02-10T10:25:13.133Z"
   },
   {
    "duration": 31,
    "start_time": "2024-02-10T10:25:13.139Z"
   },
   {
    "duration": 0,
    "start_time": "2024-02-10T10:25:13.172Z"
   },
   {
    "duration": 0,
    "start_time": "2024-02-10T10:25:13.173Z"
   },
   {
    "duration": 0,
    "start_time": "2024-02-10T10:25:13.174Z"
   },
   {
    "duration": 0,
    "start_time": "2024-02-10T10:25:13.176Z"
   },
   {
    "duration": 0,
    "start_time": "2024-02-10T10:25:13.177Z"
   },
   {
    "duration": 0,
    "start_time": "2024-02-10T10:25:13.179Z"
   },
   {
    "duration": 0,
    "start_time": "2024-02-10T10:25:13.180Z"
   },
   {
    "duration": 0,
    "start_time": "2024-02-10T10:25:13.182Z"
   },
   {
    "duration": 0,
    "start_time": "2024-02-10T10:25:13.183Z"
   },
   {
    "duration": 0,
    "start_time": "2024-02-10T10:25:13.184Z"
   },
   {
    "duration": 6,
    "start_time": "2024-02-10T10:25:38.514Z"
   },
   {
    "duration": 77,
    "start_time": "2024-02-10T10:25:45.997Z"
   },
   {
    "duration": 15,
    "start_time": "2024-02-10T10:25:46.076Z"
   },
   {
    "duration": 34,
    "start_time": "2024-02-10T10:25:46.092Z"
   },
   {
    "duration": 10,
    "start_time": "2024-02-10T10:25:46.128Z"
   },
   {
    "duration": 33,
    "start_time": "2024-02-10T10:25:46.140Z"
   },
   {
    "duration": 3,
    "start_time": "2024-02-10T10:25:46.175Z"
   },
   {
    "duration": 9,
    "start_time": "2024-02-10T10:25:46.179Z"
   },
   {
    "duration": 39,
    "start_time": "2024-02-10T10:25:46.189Z"
   },
   {
    "duration": 11,
    "start_time": "2024-02-10T10:25:46.230Z"
   },
   {
    "duration": 14,
    "start_time": "2024-02-10T10:25:46.242Z"
   },
   {
    "duration": 38,
    "start_time": "2024-02-10T10:25:46.258Z"
   },
   {
    "duration": 9,
    "start_time": "2024-02-10T10:25:46.298Z"
   },
   {
    "duration": 3,
    "start_time": "2024-02-10T10:25:46.309Z"
   },
   {
    "duration": 19,
    "start_time": "2024-02-10T10:25:46.316Z"
   },
   {
    "duration": 30,
    "start_time": "2024-02-10T10:25:46.337Z"
   },
   {
    "duration": 17,
    "start_time": "2024-02-10T10:25:46.368Z"
   },
   {
    "duration": 7,
    "start_time": "2024-02-10T10:25:46.386Z"
   },
   {
    "duration": 20,
    "start_time": "2024-02-10T10:25:46.395Z"
   },
   {
    "duration": 12,
    "start_time": "2024-02-10T10:25:46.419Z"
   },
   {
    "duration": 10,
    "start_time": "2024-02-10T10:25:46.432Z"
   },
   {
    "duration": 20,
    "start_time": "2024-02-10T10:25:46.443Z"
   },
   {
    "duration": 24,
    "start_time": "2024-02-10T10:25:46.464Z"
   },
   {
    "duration": 24,
    "start_time": "2024-02-10T10:25:46.489Z"
   },
   {
    "duration": 23,
    "start_time": "2024-02-10T10:25:46.517Z"
   },
   {
    "duration": 21,
    "start_time": "2024-02-10T10:25:46.542Z"
   },
   {
    "duration": 12,
    "start_time": "2024-02-10T10:25:46.565Z"
   },
   {
    "duration": 23,
    "start_time": "2024-02-10T10:25:46.578Z"
   },
   {
    "duration": 22,
    "start_time": "2024-02-10T10:25:46.603Z"
   },
   {
    "duration": 13,
    "start_time": "2024-02-10T10:25:46.627Z"
   },
   {
    "duration": 26,
    "start_time": "2024-02-10T10:25:46.641Z"
   },
   {
    "duration": 17,
    "start_time": "2024-02-10T10:25:46.669Z"
   },
   {
    "duration": 24,
    "start_time": "2024-02-10T10:25:46.687Z"
   },
   {
    "duration": 14,
    "start_time": "2024-02-10T10:25:46.712Z"
   },
   {
    "duration": 11,
    "start_time": "2024-02-10T10:25:46.729Z"
   },
   {
    "duration": 5,
    "start_time": "2024-02-10T10:25:46.742Z"
   },
   {
    "duration": 2,
    "start_time": "2024-02-10T10:25:46.749Z"
   },
   {
    "duration": 6,
    "start_time": "2024-02-10T10:25:46.752Z"
   },
   {
    "duration": 10,
    "start_time": "2024-02-10T10:25:46.759Z"
   },
   {
    "duration": 12,
    "start_time": "2024-02-10T10:25:46.770Z"
   },
   {
    "duration": 48,
    "start_time": "2024-02-10T10:25:46.784Z"
   },
   {
    "duration": 2,
    "start_time": "2024-02-10T10:25:46.842Z"
   },
   {
    "duration": 6,
    "start_time": "2024-02-10T10:25:46.846Z"
   },
   {
    "duration": 10,
    "start_time": "2024-02-10T10:36:23.880Z"
   },
   {
    "duration": 14,
    "start_time": "2024-02-10T10:36:40.146Z"
   },
   {
    "duration": 11,
    "start_time": "2024-02-10T10:37:00.042Z"
   },
   {
    "duration": 74,
    "start_time": "2024-02-10T10:43:38.530Z"
   },
   {
    "duration": 14,
    "start_time": "2024-02-10T10:43:38.606Z"
   },
   {
    "duration": 18,
    "start_time": "2024-02-10T10:43:38.621Z"
   },
   {
    "duration": 10,
    "start_time": "2024-02-10T10:43:38.641Z"
   },
   {
    "duration": 34,
    "start_time": "2024-02-10T10:43:38.653Z"
   },
   {
    "duration": 4,
    "start_time": "2024-02-10T10:43:38.689Z"
   },
   {
    "duration": 7,
    "start_time": "2024-02-10T10:43:38.715Z"
   },
   {
    "duration": 5,
    "start_time": "2024-02-10T10:43:38.723Z"
   },
   {
    "duration": 5,
    "start_time": "2024-02-10T10:43:38.729Z"
   },
   {
    "duration": 7,
    "start_time": "2024-02-10T10:43:38.736Z"
   },
   {
    "duration": 38,
    "start_time": "2024-02-10T10:43:38.744Z"
   },
   {
    "duration": 31,
    "start_time": "2024-02-10T10:43:38.784Z"
   },
   {
    "duration": 4,
    "start_time": "2024-02-10T10:43:38.817Z"
   },
   {
    "duration": 11,
    "start_time": "2024-02-10T10:43:38.823Z"
   },
   {
    "duration": 25,
    "start_time": "2024-02-10T10:43:38.836Z"
   },
   {
    "duration": 16,
    "start_time": "2024-02-10T10:43:38.862Z"
   },
   {
    "duration": 3,
    "start_time": "2024-02-10T10:43:38.880Z"
   },
   {
    "duration": 36,
    "start_time": "2024-02-10T10:43:38.884Z"
   },
   {
    "duration": 6,
    "start_time": "2024-02-10T10:43:38.921Z"
   },
   {
    "duration": 11,
    "start_time": "2024-02-10T10:43:38.928Z"
   },
   {
    "duration": 10,
    "start_time": "2024-02-10T10:43:38.940Z"
   },
   {
    "duration": 4,
    "start_time": "2024-02-10T10:43:38.951Z"
   },
   {
    "duration": 9,
    "start_time": "2024-02-10T10:43:38.956Z"
   },
   {
    "duration": 12,
    "start_time": "2024-02-10T10:43:38.967Z"
   },
   {
    "duration": 7,
    "start_time": "2024-02-10T10:43:38.980Z"
   },
   {
    "duration": 36,
    "start_time": "2024-02-10T10:43:38.988Z"
   },
   {
    "duration": 75,
    "start_time": "2024-02-10T10:45:49.936Z"
   },
   {
    "duration": 15,
    "start_time": "2024-02-10T10:45:50.012Z"
   },
   {
    "duration": 21,
    "start_time": "2024-02-10T10:45:50.029Z"
   },
   {
    "duration": 12,
    "start_time": "2024-02-10T10:45:50.052Z"
   },
   {
    "duration": 49,
    "start_time": "2024-02-10T10:45:50.066Z"
   },
   {
    "duration": 4,
    "start_time": "2024-02-10T10:45:50.116Z"
   },
   {
    "duration": 10,
    "start_time": "2024-02-10T10:45:50.121Z"
   },
   {
    "duration": 16,
    "start_time": "2024-02-10T10:45:50.135Z"
   },
   {
    "duration": 13,
    "start_time": "2024-02-10T10:45:50.153Z"
   },
   {
    "duration": 5,
    "start_time": "2024-02-10T10:45:50.169Z"
   },
   {
    "duration": 50,
    "start_time": "2024-02-10T10:45:50.175Z"
   },
   {
    "duration": 12,
    "start_time": "2024-02-10T10:45:50.227Z"
   },
   {
    "duration": 5,
    "start_time": "2024-02-10T10:45:50.240Z"
   },
   {
    "duration": 14,
    "start_time": "2024-02-10T10:45:50.247Z"
   },
   {
    "duration": 18,
    "start_time": "2024-02-10T10:45:50.262Z"
   },
   {
    "duration": 46,
    "start_time": "2024-02-10T10:45:50.282Z"
   },
   {
    "duration": 4,
    "start_time": "2024-02-10T10:45:50.330Z"
   },
   {
    "duration": 12,
    "start_time": "2024-02-10T10:45:50.335Z"
   },
   {
    "duration": 12,
    "start_time": "2024-02-10T10:45:50.348Z"
   },
   {
    "duration": 3,
    "start_time": "2024-02-10T10:45:50.361Z"
   },
   {
    "duration": 14,
    "start_time": "2024-02-10T10:45:50.366Z"
   },
   {
    "duration": 3,
    "start_time": "2024-02-10T10:45:50.382Z"
   },
   {
    "duration": 29,
    "start_time": "2024-02-10T10:45:50.387Z"
   },
   {
    "duration": 16,
    "start_time": "2024-02-10T10:45:55.317Z"
   },
   {
    "duration": 15,
    "start_time": "2024-02-10T10:46:06.950Z"
   },
   {
    "duration": 10,
    "start_time": "2024-02-10T10:47:05.375Z"
   },
   {
    "duration": 13,
    "start_time": "2024-02-10T10:47:19.784Z"
   },
   {
    "duration": 74,
    "start_time": "2024-02-10T10:55:41.467Z"
   },
   {
    "duration": 15,
    "start_time": "2024-02-10T10:55:41.543Z"
   },
   {
    "duration": 18,
    "start_time": "2024-02-10T10:55:41.559Z"
   },
   {
    "duration": 10,
    "start_time": "2024-02-10T10:55:41.579Z"
   },
   {
    "duration": 50,
    "start_time": "2024-02-10T10:55:41.590Z"
   },
   {
    "duration": 2,
    "start_time": "2024-02-10T10:55:41.642Z"
   },
   {
    "duration": 7,
    "start_time": "2024-02-10T10:55:41.646Z"
   },
   {
    "duration": 4,
    "start_time": "2024-02-10T10:55:41.654Z"
   },
   {
    "duration": 5,
    "start_time": "2024-02-10T10:55:41.659Z"
   },
   {
    "duration": 5,
    "start_time": "2024-02-10T10:55:41.666Z"
   },
   {
    "duration": 94,
    "start_time": "2024-02-10T10:55:41.673Z"
   },
   {
    "duration": 10,
    "start_time": "2024-02-10T10:55:41.768Z"
   },
   {
    "duration": 3,
    "start_time": "2024-02-10T10:55:41.779Z"
   },
   {
    "duration": 32,
    "start_time": "2024-02-10T10:55:41.783Z"
   },
   {
    "duration": 17,
    "start_time": "2024-02-10T10:55:41.817Z"
   },
   {
    "duration": 15,
    "start_time": "2024-02-10T10:55:41.835Z"
   },
   {
    "duration": 3,
    "start_time": "2024-02-10T10:55:41.852Z"
   },
   {
    "duration": 10,
    "start_time": "2024-02-10T10:55:41.856Z"
   },
   {
    "duration": 5,
    "start_time": "2024-02-10T10:55:41.867Z"
   },
   {
    "duration": 2,
    "start_time": "2024-02-10T10:55:41.874Z"
   },
   {
    "duration": 39,
    "start_time": "2024-02-10T10:55:41.878Z"
   },
   {
    "duration": 3,
    "start_time": "2024-02-10T10:55:41.918Z"
   },
   {
    "duration": 8,
    "start_time": "2024-02-10T10:55:41.922Z"
   },
   {
    "duration": 14,
    "start_time": "2024-02-10T10:55:41.931Z"
   },
   {
    "duration": 28,
    "start_time": "2024-02-10T10:55:50.751Z"
   },
   {
    "duration": 15,
    "start_time": "2024-02-10T10:56:51.831Z"
   },
   {
    "duration": 10,
    "start_time": "2024-02-10T10:56:54.463Z"
   },
   {
    "duration": 14,
    "start_time": "2024-02-10T10:56:57.390Z"
   },
   {
    "duration": 21,
    "start_time": "2024-02-10T11:00:25.729Z"
   },
   {
    "duration": 14,
    "start_time": "2024-02-10T11:01:44.239Z"
   },
   {
    "duration": 74,
    "start_time": "2024-02-10T11:01:47.782Z"
   },
   {
    "duration": 15,
    "start_time": "2024-02-10T11:01:47.858Z"
   },
   {
    "duration": 57,
    "start_time": "2024-02-10T11:01:47.874Z"
   },
   {
    "duration": 15,
    "start_time": "2024-02-10T11:01:47.933Z"
   },
   {
    "duration": 49,
    "start_time": "2024-02-10T11:01:47.950Z"
   },
   {
    "duration": 3,
    "start_time": "2024-02-10T11:01:48.000Z"
   },
   {
    "duration": 46,
    "start_time": "2024-02-10T11:01:48.005Z"
   },
   {
    "duration": 10,
    "start_time": "2024-02-10T11:01:48.052Z"
   },
   {
    "duration": 26,
    "start_time": "2024-02-10T11:01:48.063Z"
   },
   {
    "duration": 46,
    "start_time": "2024-02-10T11:01:48.092Z"
   },
   {
    "duration": 57,
    "start_time": "2024-02-10T11:01:48.140Z"
   },
   {
    "duration": 12,
    "start_time": "2024-02-10T11:01:48.198Z"
   },
   {
    "duration": 13,
    "start_time": "2024-02-10T11:01:48.211Z"
   },
   {
    "duration": 29,
    "start_time": "2024-02-10T11:01:48.225Z"
   },
   {
    "duration": 43,
    "start_time": "2024-02-10T11:01:48.256Z"
   },
   {
    "duration": 26,
    "start_time": "2024-02-10T11:01:48.300Z"
   },
   {
    "duration": 14,
    "start_time": "2024-02-10T11:01:48.328Z"
   },
   {
    "duration": 25,
    "start_time": "2024-02-10T11:01:48.343Z"
   },
   {
    "duration": 27,
    "start_time": "2024-02-10T11:01:48.370Z"
   },
   {
    "duration": 26,
    "start_time": "2024-02-10T11:01:48.398Z"
   },
   {
    "duration": 16,
    "start_time": "2024-02-10T11:01:48.425Z"
   },
   {
    "duration": 37,
    "start_time": "2024-02-10T11:01:48.442Z"
   },
   {
    "duration": 20,
    "start_time": "2024-02-10T11:01:48.480Z"
   },
   {
    "duration": 22,
    "start_time": "2024-02-10T11:01:48.501Z"
   },
   {
    "duration": 31,
    "start_time": "2024-02-10T11:01:48.524Z"
   },
   {
    "duration": 40,
    "start_time": "2024-02-10T11:01:48.556Z"
   },
   {
    "duration": 9,
    "start_time": "2024-02-10T11:01:48.597Z"
   },
   {
    "duration": 15,
    "start_time": "2024-02-10T11:01:51.831Z"
   },
   {
    "duration": 17,
    "start_time": "2024-02-10T11:02:42.474Z"
   },
   {
    "duration": 18,
    "start_time": "2024-02-10T11:07:04.847Z"
   },
   {
    "duration": 76,
    "start_time": "2024-02-10T11:07:15.670Z"
   },
   {
    "duration": 15,
    "start_time": "2024-02-10T11:07:15.748Z"
   },
   {
    "duration": 14,
    "start_time": "2024-02-10T11:07:15.765Z"
   },
   {
    "duration": 35,
    "start_time": "2024-02-10T11:07:15.781Z"
   },
   {
    "duration": 35,
    "start_time": "2024-02-10T11:07:15.818Z"
   },
   {
    "duration": 3,
    "start_time": "2024-02-10T11:07:15.855Z"
   },
   {
    "duration": 16,
    "start_time": "2024-02-10T11:07:15.860Z"
   },
   {
    "duration": 4,
    "start_time": "2024-02-10T11:07:15.878Z"
   },
   {
    "duration": 7,
    "start_time": "2024-02-10T11:07:15.883Z"
   },
   {
    "duration": 4,
    "start_time": "2024-02-10T11:07:15.915Z"
   },
   {
    "duration": 37,
    "start_time": "2024-02-10T11:07:15.920Z"
   },
   {
    "duration": 9,
    "start_time": "2024-02-10T11:07:15.958Z"
   },
   {
    "duration": 9,
    "start_time": "2024-02-10T11:07:15.969Z"
   },
   {
    "duration": 10,
    "start_time": "2024-02-10T11:07:15.979Z"
   },
   {
    "duration": 34,
    "start_time": "2024-02-10T11:07:15.991Z"
   },
   {
    "duration": 17,
    "start_time": "2024-02-10T11:07:16.026Z"
   },
   {
    "duration": 3,
    "start_time": "2024-02-10T11:07:16.044Z"
   },
   {
    "duration": 11,
    "start_time": "2024-02-10T11:07:16.049Z"
   },
   {
    "duration": 5,
    "start_time": "2024-02-10T11:07:16.062Z"
   },
   {
    "duration": 3,
    "start_time": "2024-02-10T11:07:16.068Z"
   },
   {
    "duration": 11,
    "start_time": "2024-02-10T11:07:16.072Z"
   },
   {
    "duration": 32,
    "start_time": "2024-02-10T11:07:16.084Z"
   },
   {
    "duration": 9,
    "start_time": "2024-02-10T11:07:16.118Z"
   },
   {
    "duration": 15,
    "start_time": "2024-02-10T11:07:16.129Z"
   },
   {
    "duration": 8,
    "start_time": "2024-02-10T11:07:16.146Z"
   },
   {
    "duration": 23,
    "start_time": "2024-02-10T11:07:16.156Z"
   },
   {
    "duration": 40,
    "start_time": "2024-02-10T11:07:16.180Z"
   },
   {
    "duration": 15,
    "start_time": "2024-02-10T11:07:16.224Z"
   },
   {
    "duration": 22,
    "start_time": "2024-02-10T11:07:16.240Z"
   },
   {
    "duration": 11,
    "start_time": "2024-02-10T11:07:16.264Z"
   },
   {
    "duration": 41,
    "start_time": "2024-02-10T11:07:16.277Z"
   },
   {
    "duration": 19,
    "start_time": "2024-02-10T11:07:16.319Z"
   },
   {
    "duration": 12,
    "start_time": "2024-02-10T11:07:16.339Z"
   },
   {
    "duration": 5,
    "start_time": "2024-02-10T11:07:16.352Z"
   },
   {
    "duration": 5,
    "start_time": "2024-02-10T11:07:16.358Z"
   },
   {
    "duration": 11,
    "start_time": "2024-02-10T11:07:16.364Z"
   },
   {
    "duration": 11,
    "start_time": "2024-02-10T11:07:16.376Z"
   },
   {
    "duration": 6,
    "start_time": "2024-02-10T11:07:16.415Z"
   },
   {
    "duration": 3,
    "start_time": "2024-02-10T11:07:16.423Z"
   },
   {
    "duration": 6,
    "start_time": "2024-02-10T11:07:16.427Z"
   },
   {
    "duration": 8,
    "start_time": "2024-02-10T11:08:50.307Z"
   },
   {
    "duration": 15,
    "start_time": "2024-02-10T11:09:20.445Z"
   },
   {
    "duration": 17,
    "start_time": "2024-02-10T11:11:14.606Z"
   },
   {
    "duration": 71,
    "start_time": "2024-02-10T11:11:51.084Z"
   },
   {
    "duration": 15,
    "start_time": "2024-02-10T11:11:51.157Z"
   },
   {
    "duration": 22,
    "start_time": "2024-02-10T11:11:51.173Z"
   },
   {
    "duration": 25,
    "start_time": "2024-02-10T11:11:51.197Z"
   },
   {
    "duration": 34,
    "start_time": "2024-02-10T11:11:51.223Z"
   },
   {
    "duration": 3,
    "start_time": "2024-02-10T11:11:51.258Z"
   },
   {
    "duration": 23,
    "start_time": "2024-02-10T11:11:51.262Z"
   },
   {
    "duration": 10,
    "start_time": "2024-02-10T11:11:51.286Z"
   },
   {
    "duration": 20,
    "start_time": "2024-02-10T11:11:51.297Z"
   },
   {
    "duration": 10,
    "start_time": "2024-02-10T11:11:51.319Z"
   },
   {
    "duration": 63,
    "start_time": "2024-02-10T11:11:51.330Z"
   },
   {
    "duration": 10,
    "start_time": "2024-02-10T11:11:51.394Z"
   },
   {
    "duration": 24,
    "start_time": "2024-02-10T11:11:51.405Z"
   },
   {
    "duration": 30,
    "start_time": "2024-02-10T11:11:51.430Z"
   },
   {
    "duration": 44,
    "start_time": "2024-02-10T11:11:51.461Z"
   },
   {
    "duration": 18,
    "start_time": "2024-02-10T11:11:51.506Z"
   },
   {
    "duration": 3,
    "start_time": "2024-02-10T11:11:51.525Z"
   },
   {
    "duration": 32,
    "start_time": "2024-02-10T11:11:51.530Z"
   },
   {
    "duration": 6,
    "start_time": "2024-02-10T11:11:51.563Z"
   },
   {
    "duration": 3,
    "start_time": "2024-02-10T11:11:51.571Z"
   },
   {
    "duration": 8,
    "start_time": "2024-02-10T11:11:51.576Z"
   },
   {
    "duration": 3,
    "start_time": "2024-02-10T11:11:51.586Z"
   },
   {
    "duration": 9,
    "start_time": "2024-02-10T11:11:51.591Z"
   },
   {
    "duration": 25,
    "start_time": "2024-02-10T11:11:51.601Z"
   },
   {
    "duration": 8,
    "start_time": "2024-02-10T11:11:51.628Z"
   },
   {
    "duration": 26,
    "start_time": "2024-02-10T11:11:51.638Z"
   },
   {
    "duration": 9,
    "start_time": "2024-02-10T11:11:51.666Z"
   },
   {
    "duration": 14,
    "start_time": "2024-02-10T11:11:51.677Z"
   },
   {
    "duration": 37,
    "start_time": "2024-02-10T11:11:51.692Z"
   },
   {
    "duration": 8,
    "start_time": "2024-02-10T11:11:51.731Z"
   },
   {
    "duration": 14,
    "start_time": "2024-02-10T11:11:51.740Z"
   },
   {
    "duration": 8,
    "start_time": "2024-02-10T11:11:51.755Z"
   },
   {
    "duration": 74,
    "start_time": "2024-02-10T11:13:17.150Z"
   },
   {
    "duration": 15,
    "start_time": "2024-02-10T11:13:17.225Z"
   },
   {
    "duration": 15,
    "start_time": "2024-02-10T11:13:17.241Z"
   },
   {
    "duration": 9,
    "start_time": "2024-02-10T11:13:17.258Z"
   },
   {
    "duration": 58,
    "start_time": "2024-02-10T11:13:17.269Z"
   },
   {
    "duration": 3,
    "start_time": "2024-02-10T11:13:17.328Z"
   },
   {
    "duration": 9,
    "start_time": "2024-02-10T11:13:17.332Z"
   },
   {
    "duration": 3,
    "start_time": "2024-02-10T11:13:17.342Z"
   },
   {
    "duration": 6,
    "start_time": "2024-02-10T11:13:17.347Z"
   },
   {
    "duration": 9,
    "start_time": "2024-02-10T11:13:17.355Z"
   },
   {
    "duration": 50,
    "start_time": "2024-02-10T11:13:17.366Z"
   },
   {
    "duration": 10,
    "start_time": "2024-02-10T11:13:17.418Z"
   },
   {
    "duration": 3,
    "start_time": "2024-02-10T11:13:17.430Z"
   },
   {
    "duration": 10,
    "start_time": "2024-02-10T11:13:17.434Z"
   },
   {
    "duration": 31,
    "start_time": "2024-02-10T11:13:17.446Z"
   },
   {
    "duration": 18,
    "start_time": "2024-02-10T11:13:17.478Z"
   },
   {
    "duration": 17,
    "start_time": "2024-02-10T11:13:17.498Z"
   },
   {
    "duration": 14,
    "start_time": "2024-02-10T11:13:17.516Z"
   },
   {
    "duration": 5,
    "start_time": "2024-02-10T11:13:17.531Z"
   },
   {
    "duration": 4,
    "start_time": "2024-02-10T11:13:17.537Z"
   },
   {
    "duration": 9,
    "start_time": "2024-02-10T11:13:17.542Z"
   },
   {
    "duration": 3,
    "start_time": "2024-02-10T11:13:17.553Z"
   },
   {
    "duration": 9,
    "start_time": "2024-02-10T11:13:17.557Z"
   },
   {
    "duration": 48,
    "start_time": "2024-02-10T11:13:17.567Z"
   },
   {
    "duration": 9,
    "start_time": "2024-02-10T11:13:17.616Z"
   },
   {
    "duration": 17,
    "start_time": "2024-02-10T11:13:17.627Z"
   },
   {
    "duration": 8,
    "start_time": "2024-02-10T11:13:17.645Z"
   },
   {
    "duration": 13,
    "start_time": "2024-02-10T11:13:17.656Z"
   },
   {
    "duration": 49,
    "start_time": "2024-02-10T11:13:17.670Z"
   },
   {
    "duration": 8,
    "start_time": "2024-02-10T11:13:17.720Z"
   },
   {
    "duration": 17,
    "start_time": "2024-02-10T11:13:17.730Z"
   },
   {
    "duration": 9,
    "start_time": "2024-02-10T11:13:17.748Z"
   },
   {
    "duration": 37,
    "start_time": "2024-02-10T11:13:17.758Z"
   },
   {
    "duration": 20,
    "start_time": "2024-02-10T11:13:17.797Z"
   },
   {
    "duration": 13,
    "start_time": "2024-02-10T11:13:19.958Z"
   },
   {
    "duration": 72,
    "start_time": "2024-02-10T11:14:58.835Z"
   },
   {
    "duration": 15,
    "start_time": "2024-02-10T11:14:58.909Z"
   },
   {
    "duration": 16,
    "start_time": "2024-02-10T11:14:58.925Z"
   },
   {
    "duration": 10,
    "start_time": "2024-02-10T11:14:58.943Z"
   },
   {
    "duration": 33,
    "start_time": "2024-02-10T11:14:58.954Z"
   },
   {
    "duration": 27,
    "start_time": "2024-02-10T11:14:58.988Z"
   },
   {
    "duration": 16,
    "start_time": "2024-02-10T11:14:59.016Z"
   },
   {
    "duration": 4,
    "start_time": "2024-02-10T11:14:59.034Z"
   },
   {
    "duration": 5,
    "start_time": "2024-02-10T11:14:59.039Z"
   },
   {
    "duration": 4,
    "start_time": "2024-02-10T11:14:59.046Z"
   },
   {
    "duration": 47,
    "start_time": "2024-02-10T11:14:59.051Z"
   },
   {
    "duration": 10,
    "start_time": "2024-02-10T11:14:59.114Z"
   },
   {
    "duration": 3,
    "start_time": "2024-02-10T11:14:59.126Z"
   },
   {
    "duration": 11,
    "start_time": "2024-02-10T11:14:59.131Z"
   },
   {
    "duration": 20,
    "start_time": "2024-02-10T11:14:59.144Z"
   },
   {
    "duration": 16,
    "start_time": "2024-02-10T11:14:59.166Z"
   },
   {
    "duration": 33,
    "start_time": "2024-02-10T11:14:59.183Z"
   },
   {
    "duration": 18,
    "start_time": "2024-02-10T11:14:59.217Z"
   },
   {
    "duration": 6,
    "start_time": "2024-02-10T11:14:59.236Z"
   },
   {
    "duration": 3,
    "start_time": "2024-02-10T11:14:59.244Z"
   },
   {
    "duration": 13,
    "start_time": "2024-02-10T11:14:59.248Z"
   },
   {
    "duration": 10,
    "start_time": "2024-02-10T11:14:59.262Z"
   },
   {
    "duration": 10,
    "start_time": "2024-02-10T11:14:59.274Z"
   },
   {
    "duration": 37,
    "start_time": "2024-02-10T11:14:59.285Z"
   },
   {
    "duration": 9,
    "start_time": "2024-02-10T11:14:59.323Z"
   },
   {
    "duration": 18,
    "start_time": "2024-02-10T11:14:59.333Z"
   },
   {
    "duration": 11,
    "start_time": "2024-02-10T11:14:59.352Z"
   },
   {
    "duration": 13,
    "start_time": "2024-02-10T11:14:59.366Z"
   },
   {
    "duration": 48,
    "start_time": "2024-02-10T11:14:59.380Z"
   },
   {
    "duration": 8,
    "start_time": "2024-02-10T11:14:59.429Z"
   },
   {
    "duration": 12,
    "start_time": "2024-02-10T11:14:59.438Z"
   },
   {
    "duration": 8,
    "start_time": "2024-02-10T11:14:59.452Z"
   },
   {
    "duration": 19,
    "start_time": "2024-02-10T11:14:59.461Z"
   },
   {
    "duration": 40,
    "start_time": "2024-02-10T11:14:59.481Z"
   },
   {
    "duration": 13,
    "start_time": "2024-02-10T11:14:59.523Z"
   },
   {
    "duration": 10,
    "start_time": "2024-02-10T11:14:59.537Z"
   },
   {
    "duration": 15,
    "start_time": "2024-02-10T11:14:59.548Z"
   },
   {
    "duration": 18,
    "start_time": "2024-02-10T11:15:46.883Z"
   },
   {
    "duration": 3,
    "start_time": "2024-02-10T11:15:55.735Z"
   },
   {
    "duration": 7,
    "start_time": "2024-02-10T11:15:56.765Z"
   },
   {
    "duration": 15,
    "start_time": "2024-02-10T11:16:56.398Z"
   },
   {
    "duration": 12,
    "start_time": "2024-02-10T11:17:03.744Z"
   },
   {
    "duration": 15,
    "start_time": "2024-02-10T11:17:06.342Z"
   },
   {
    "duration": 9,
    "start_time": "2024-02-10T11:17:11.374Z"
   },
   {
    "duration": 9,
    "start_time": "2024-02-10T11:17:15.407Z"
   },
   {
    "duration": 17,
    "start_time": "2024-02-10T11:17:16.808Z"
   },
   {
    "duration": 19,
    "start_time": "2024-02-10T11:17:42.596Z"
   },
   {
    "duration": 19,
    "start_time": "2024-02-10T11:19:26.662Z"
   },
   {
    "duration": 17,
    "start_time": "2024-02-10T11:19:43.490Z"
   },
   {
    "duration": 77,
    "start_time": "2024-02-10T11:20:08.112Z"
   },
   {
    "duration": 15,
    "start_time": "2024-02-10T11:20:08.191Z"
   },
   {
    "duration": 19,
    "start_time": "2024-02-10T11:20:08.207Z"
   },
   {
    "duration": 13,
    "start_time": "2024-02-10T11:20:08.228Z"
   },
   {
    "duration": 39,
    "start_time": "2024-02-10T11:20:08.242Z"
   },
   {
    "duration": 4,
    "start_time": "2024-02-10T11:20:08.282Z"
   },
   {
    "duration": 19,
    "start_time": "2024-02-10T11:20:08.287Z"
   },
   {
    "duration": 10,
    "start_time": "2024-02-10T11:20:08.307Z"
   },
   {
    "duration": 15,
    "start_time": "2024-02-10T11:20:08.318Z"
   },
   {
    "duration": 16,
    "start_time": "2024-02-10T11:20:08.335Z"
   },
   {
    "duration": 35,
    "start_time": "2024-02-10T11:20:08.352Z"
   },
   {
    "duration": 11,
    "start_time": "2024-02-10T11:20:08.388Z"
   },
   {
    "duration": 5,
    "start_time": "2024-02-10T11:20:08.400Z"
   },
   {
    "duration": 24,
    "start_time": "2024-02-10T11:20:08.406Z"
   },
   {
    "duration": 17,
    "start_time": "2024-02-10T11:20:08.431Z"
   },
   {
    "duration": 16,
    "start_time": "2024-02-10T11:20:08.450Z"
   },
   {
    "duration": 3,
    "start_time": "2024-02-10T11:20:08.468Z"
   },
   {
    "duration": 28,
    "start_time": "2024-02-10T11:20:08.472Z"
   },
   {
    "duration": 7,
    "start_time": "2024-02-10T11:20:08.501Z"
   },
   {
    "duration": 3,
    "start_time": "2024-02-10T11:20:08.515Z"
   },
   {
    "duration": 10,
    "start_time": "2024-02-10T11:20:08.519Z"
   },
   {
    "duration": 4,
    "start_time": "2024-02-10T11:20:08.530Z"
   },
   {
    "duration": 11,
    "start_time": "2024-02-10T11:20:08.536Z"
   },
   {
    "duration": 14,
    "start_time": "2024-02-10T11:20:08.549Z"
   },
   {
    "duration": 10,
    "start_time": "2024-02-10T11:20:08.564Z"
   },
   {
    "duration": 54,
    "start_time": "2024-02-10T11:20:08.576Z"
   },
   {
    "duration": 17,
    "start_time": "2024-02-10T11:20:27.912Z"
   },
   {
    "duration": 89,
    "start_time": "2024-02-10T11:22:22.489Z"
   },
   {
    "duration": 81,
    "start_time": "2024-02-10T11:25:25.203Z"
   },
   {
    "duration": 15,
    "start_time": "2024-02-10T11:25:25.286Z"
   },
   {
    "duration": 20,
    "start_time": "2024-02-10T11:25:25.303Z"
   },
   {
    "duration": 10,
    "start_time": "2024-02-10T11:25:25.325Z"
   },
   {
    "duration": 42,
    "start_time": "2024-02-10T11:25:25.337Z"
   },
   {
    "duration": 4,
    "start_time": "2024-02-10T11:25:25.380Z"
   },
   {
    "duration": 30,
    "start_time": "2024-02-10T11:25:25.385Z"
   },
   {
    "duration": 3,
    "start_time": "2024-02-10T11:25:25.417Z"
   },
   {
    "duration": 5,
    "start_time": "2024-02-10T11:25:25.422Z"
   },
   {
    "duration": 4,
    "start_time": "2024-02-10T11:25:25.429Z"
   },
   {
    "duration": 34,
    "start_time": "2024-02-10T11:25:25.434Z"
   },
   {
    "duration": 9,
    "start_time": "2024-02-10T11:25:25.470Z"
   },
   {
    "duration": 3,
    "start_time": "2024-02-10T11:25:25.481Z"
   },
   {
    "duration": 38,
    "start_time": "2024-02-10T11:25:25.485Z"
   },
   {
    "duration": 17,
    "start_time": "2024-02-10T11:25:25.525Z"
   },
   {
    "duration": 16,
    "start_time": "2024-02-10T11:25:25.544Z"
   },
   {
    "duration": 3,
    "start_time": "2024-02-10T11:25:25.561Z"
   },
   {
    "duration": 12,
    "start_time": "2024-02-10T11:25:25.565Z"
   },
   {
    "duration": 5,
    "start_time": "2024-02-10T11:25:25.578Z"
   },
   {
    "duration": 33,
    "start_time": "2024-02-10T11:25:25.584Z"
   },
   {
    "duration": 10,
    "start_time": "2024-02-10T11:25:25.618Z"
   },
   {
    "duration": 10,
    "start_time": "2024-02-10T11:25:25.629Z"
   },
   {
    "duration": 10,
    "start_time": "2024-02-10T11:25:25.641Z"
   },
   {
    "duration": 13,
    "start_time": "2024-02-10T11:25:25.653Z"
   },
   {
    "duration": 8,
    "start_time": "2024-02-10T11:25:25.667Z"
   },
   {
    "duration": 40,
    "start_time": "2024-02-10T11:25:25.676Z"
   },
   {
    "duration": 19,
    "start_time": "2024-02-10T11:25:28.807Z"
   },
   {
    "duration": 12,
    "start_time": "2024-02-10T11:26:42.828Z"
   },
   {
    "duration": 15,
    "start_time": "2024-02-10T11:28:00.978Z"
   },
   {
    "duration": 18,
    "start_time": "2024-02-10T11:28:32.267Z"
   },
   {
    "duration": 72,
    "start_time": "2024-02-10T11:30:07.699Z"
   },
   {
    "duration": 14,
    "start_time": "2024-02-10T11:30:07.773Z"
   },
   {
    "duration": 31,
    "start_time": "2024-02-10T11:30:07.789Z"
   },
   {
    "duration": 20,
    "start_time": "2024-02-10T11:30:07.822Z"
   },
   {
    "duration": 34,
    "start_time": "2024-02-10T11:30:07.843Z"
   },
   {
    "duration": 3,
    "start_time": "2024-02-10T11:30:07.879Z"
   },
   {
    "duration": 12,
    "start_time": "2024-02-10T11:30:07.883Z"
   },
   {
    "duration": 8,
    "start_time": "2024-02-10T11:30:07.896Z"
   },
   {
    "duration": 9,
    "start_time": "2024-02-10T11:30:07.914Z"
   },
   {
    "duration": 6,
    "start_time": "2024-02-10T11:30:07.925Z"
   },
   {
    "duration": 43,
    "start_time": "2024-02-10T11:30:07.933Z"
   },
   {
    "duration": 10,
    "start_time": "2024-02-10T11:30:07.978Z"
   },
   {
    "duration": 4,
    "start_time": "2024-02-10T11:30:07.990Z"
   },
   {
    "duration": 27,
    "start_time": "2024-02-10T11:30:07.995Z"
   },
   {
    "duration": 17,
    "start_time": "2024-02-10T11:30:08.023Z"
   },
   {
    "duration": 16,
    "start_time": "2024-02-10T11:30:08.041Z"
   },
   {
    "duration": 4,
    "start_time": "2024-02-10T11:30:08.058Z"
   },
   {
    "duration": 13,
    "start_time": "2024-02-10T11:30:08.063Z"
   },
   {
    "duration": 15,
    "start_time": "2024-02-10T11:30:08.078Z"
   },
   {
    "duration": 21,
    "start_time": "2024-02-10T11:30:08.095Z"
   },
   {
    "duration": 27,
    "start_time": "2024-02-10T11:30:08.117Z"
   },
   {
    "duration": 7,
    "start_time": "2024-02-10T11:30:08.145Z"
   },
   {
    "duration": 12,
    "start_time": "2024-02-10T11:30:08.153Z"
   },
   {
    "duration": 16,
    "start_time": "2024-02-10T11:30:08.167Z"
   },
   {
    "duration": 11,
    "start_time": "2024-02-10T11:30:08.185Z"
   },
   {
    "duration": 31,
    "start_time": "2024-02-10T11:30:08.198Z"
   },
   {
    "duration": 11,
    "start_time": "2024-02-10T11:30:08.231Z"
   },
   {
    "duration": 14,
    "start_time": "2024-02-10T11:30:08.245Z"
   },
   {
    "duration": 17,
    "start_time": "2024-02-10T11:30:08.260Z"
   },
   {
    "duration": 77,
    "start_time": "2024-02-10T11:32:40.690Z"
   },
   {
    "duration": 16,
    "start_time": "2024-02-10T11:32:40.770Z"
   },
   {
    "duration": 44,
    "start_time": "2024-02-10T11:32:40.788Z"
   },
   {
    "duration": 11,
    "start_time": "2024-02-10T11:32:40.835Z"
   },
   {
    "duration": 37,
    "start_time": "2024-02-10T11:32:40.848Z"
   },
   {
    "duration": 28,
    "start_time": "2024-02-10T11:32:40.887Z"
   },
   {
    "duration": 7,
    "start_time": "2024-02-10T11:32:40.916Z"
   },
   {
    "duration": 4,
    "start_time": "2024-02-10T11:32:40.925Z"
   },
   {
    "duration": 5,
    "start_time": "2024-02-10T11:32:40.930Z"
   },
   {
    "duration": 4,
    "start_time": "2024-02-10T11:32:40.937Z"
   },
   {
    "duration": 40,
    "start_time": "2024-02-10T11:32:40.942Z"
   },
   {
    "duration": 35,
    "start_time": "2024-02-10T11:32:40.983Z"
   },
   {
    "duration": 4,
    "start_time": "2024-02-10T11:32:41.019Z"
   },
   {
    "duration": 11,
    "start_time": "2024-02-10T11:32:41.025Z"
   },
   {
    "duration": 19,
    "start_time": "2024-02-10T11:32:41.037Z"
   },
   {
    "duration": 16,
    "start_time": "2024-02-10T11:32:41.057Z"
   },
   {
    "duration": 4,
    "start_time": "2024-02-10T11:32:41.074Z"
   },
   {
    "duration": 43,
    "start_time": "2024-02-10T11:32:41.079Z"
   },
   {
    "duration": 6,
    "start_time": "2024-02-10T11:32:41.123Z"
   },
   {
    "duration": 3,
    "start_time": "2024-02-10T11:32:41.130Z"
   },
   {
    "duration": 9,
    "start_time": "2024-02-10T11:32:41.135Z"
   },
   {
    "duration": 12,
    "start_time": "2024-02-10T11:32:41.146Z"
   },
   {
    "duration": 12,
    "start_time": "2024-02-10T11:32:41.159Z"
   },
   {
    "duration": 16,
    "start_time": "2024-02-10T11:32:41.173Z"
   },
   {
    "duration": 10,
    "start_time": "2024-02-10T11:32:41.214Z"
   },
   {
    "duration": 17,
    "start_time": "2024-02-10T11:32:41.226Z"
   },
   {
    "duration": 12,
    "start_time": "2024-02-10T11:32:41.244Z"
   },
   {
    "duration": 14,
    "start_time": "2024-02-10T11:32:41.259Z"
   },
   {
    "duration": 50,
    "start_time": "2024-02-10T11:32:41.274Z"
   },
   {
    "duration": 11,
    "start_time": "2024-02-10T11:32:41.325Z"
   },
   {
    "duration": 15,
    "start_time": "2024-02-10T11:32:41.338Z"
   },
   {
    "duration": 9,
    "start_time": "2024-02-10T11:32:41.354Z"
   },
   {
    "duration": 15,
    "start_time": "2024-02-10T11:32:41.365Z"
   },
   {
    "duration": 79,
    "start_time": "2024-02-10T11:35:28.038Z"
   },
   {
    "duration": 20,
    "start_time": "2024-02-10T11:35:28.119Z"
   },
   {
    "duration": 15,
    "start_time": "2024-02-10T11:35:28.141Z"
   },
   {
    "duration": 10,
    "start_time": "2024-02-10T11:35:28.159Z"
   },
   {
    "duration": 61,
    "start_time": "2024-02-10T11:35:28.171Z"
   },
   {
    "duration": 4,
    "start_time": "2024-02-10T11:35:28.235Z"
   },
   {
    "duration": 9,
    "start_time": "2024-02-10T11:35:28.241Z"
   },
   {
    "duration": 5,
    "start_time": "2024-02-10T11:35:28.252Z"
   },
   {
    "duration": 6,
    "start_time": "2024-02-10T11:35:28.259Z"
   },
   {
    "duration": 4,
    "start_time": "2024-02-10T11:35:28.268Z"
   },
   {
    "duration": 64,
    "start_time": "2024-02-10T11:35:28.274Z"
   },
   {
    "duration": 11,
    "start_time": "2024-02-10T11:35:28.339Z"
   },
   {
    "duration": 4,
    "start_time": "2024-02-10T11:35:28.352Z"
   },
   {
    "duration": 11,
    "start_time": "2024-02-10T11:35:28.358Z"
   },
   {
    "duration": 20,
    "start_time": "2024-02-10T11:35:28.371Z"
   },
   {
    "duration": 17,
    "start_time": "2024-02-10T11:35:28.415Z"
   },
   {
    "duration": 4,
    "start_time": "2024-02-10T11:35:28.434Z"
   },
   {
    "duration": 12,
    "start_time": "2024-02-10T11:35:28.439Z"
   },
   {
    "duration": 6,
    "start_time": "2024-02-10T11:35:28.452Z"
   },
   {
    "duration": 3,
    "start_time": "2024-02-10T11:35:28.460Z"
   },
   {
    "duration": 11,
    "start_time": "2024-02-10T11:35:28.465Z"
   },
   {
    "duration": 4,
    "start_time": "2024-02-10T11:35:28.478Z"
   },
   {
    "duration": 10,
    "start_time": "2024-02-10T11:35:28.514Z"
   },
   {
    "duration": 20,
    "start_time": "2024-02-10T11:35:28.526Z"
   },
   {
    "duration": 9,
    "start_time": "2024-02-10T11:35:28.548Z"
   },
   {
    "duration": 23,
    "start_time": "2024-02-10T11:35:28.559Z"
   },
   {
    "duration": 13,
    "start_time": "2024-02-10T11:35:28.615Z"
   },
   {
    "duration": 15,
    "start_time": "2024-02-10T11:35:28.631Z"
   },
   {
    "duration": 17,
    "start_time": "2024-02-10T11:35:28.647Z"
   },
   {
    "duration": 13,
    "start_time": "2024-02-10T11:35:28.665Z"
   },
   {
    "duration": 46,
    "start_time": "2024-02-10T11:35:28.679Z"
   },
   {
    "duration": 11,
    "start_time": "2024-02-10T11:35:28.727Z"
   },
   {
    "duration": 20,
    "start_time": "2024-02-10T11:35:28.739Z"
   },
   {
    "duration": 11,
    "start_time": "2024-02-10T11:35:28.761Z"
   },
   {
    "duration": 45,
    "start_time": "2024-02-10T11:35:28.774Z"
   },
   {
    "duration": 9,
    "start_time": "2024-02-10T11:35:28.821Z"
   },
   {
    "duration": 20,
    "start_time": "2024-02-10T11:35:28.832Z"
   },
   {
    "duration": 72,
    "start_time": "2024-02-10T11:40:12.339Z"
   },
   {
    "duration": 14,
    "start_time": "2024-02-10T11:40:12.412Z"
   },
   {
    "duration": 14,
    "start_time": "2024-02-10T11:40:12.428Z"
   },
   {
    "duration": 9,
    "start_time": "2024-02-10T11:40:12.444Z"
   },
   {
    "duration": 36,
    "start_time": "2024-02-10T11:40:12.454Z"
   },
   {
    "duration": 3,
    "start_time": "2024-02-10T11:40:12.492Z"
   },
   {
    "duration": 23,
    "start_time": "2024-02-10T11:40:12.496Z"
   },
   {
    "duration": 4,
    "start_time": "2024-02-10T11:40:12.521Z"
   },
   {
    "duration": 8,
    "start_time": "2024-02-10T11:40:12.527Z"
   },
   {
    "duration": 4,
    "start_time": "2024-02-10T11:40:12.538Z"
   },
   {
    "duration": 34,
    "start_time": "2024-02-10T11:40:12.544Z"
   },
   {
    "duration": 37,
    "start_time": "2024-02-10T11:40:12.580Z"
   },
   {
    "duration": 3,
    "start_time": "2024-02-10T11:40:12.619Z"
   },
   {
    "duration": 10,
    "start_time": "2024-02-10T11:40:12.624Z"
   },
   {
    "duration": 18,
    "start_time": "2024-02-10T11:40:12.636Z"
   },
   {
    "duration": 18,
    "start_time": "2024-02-10T11:40:12.656Z"
   },
   {
    "duration": 5,
    "start_time": "2024-02-10T11:40:12.675Z"
   },
   {
    "duration": 43,
    "start_time": "2024-02-10T11:40:12.681Z"
   },
   {
    "duration": 6,
    "start_time": "2024-02-10T11:40:12.726Z"
   },
   {
    "duration": 4,
    "start_time": "2024-02-10T11:40:12.734Z"
   },
   {
    "duration": 10,
    "start_time": "2024-02-10T11:40:12.739Z"
   },
   {
    "duration": 4,
    "start_time": "2024-02-10T11:40:12.750Z"
   },
   {
    "duration": 10,
    "start_time": "2024-02-10T11:40:12.756Z"
   },
   {
    "duration": 51,
    "start_time": "2024-02-10T11:40:12.768Z"
   },
   {
    "duration": 10,
    "start_time": "2024-02-10T11:40:12.821Z"
   },
   {
    "duration": 17,
    "start_time": "2024-02-10T11:40:12.832Z"
   },
   {
    "duration": 12,
    "start_time": "2024-02-10T11:40:12.851Z"
   },
   {
    "duration": 48,
    "start_time": "2024-02-10T11:40:12.867Z"
   },
   {
    "duration": 16,
    "start_time": "2024-02-10T11:40:12.917Z"
   },
   {
    "duration": 25,
    "start_time": "2024-02-10T11:40:12.935Z"
   },
   {
    "duration": 16,
    "start_time": "2024-02-10T11:40:12.962Z"
   },
   {
    "duration": 8,
    "start_time": "2024-02-10T11:40:12.980Z"
   },
   {
    "duration": 42,
    "start_time": "2024-02-10T11:40:12.990Z"
   },
   {
    "duration": 11,
    "start_time": "2024-02-10T11:40:13.033Z"
   },
   {
    "duration": 14,
    "start_time": "2024-02-10T11:40:13.045Z"
   },
   {
    "duration": 8,
    "start_time": "2024-02-10T11:40:13.060Z"
   },
   {
    "duration": 44,
    "start_time": "2024-02-10T11:40:13.070Z"
   },
   {
    "duration": 19,
    "start_time": "2024-02-10T11:43:08.234Z"
   },
   {
    "duration": 505,
    "start_time": "2024-02-10T12:57:41.089Z"
   },
   {
    "duration": 22,
    "start_time": "2024-02-10T12:57:41.595Z"
   },
   {
    "duration": 15,
    "start_time": "2024-02-10T12:57:41.619Z"
   },
   {
    "duration": 9,
    "start_time": "2024-02-10T12:57:41.636Z"
   },
   {
    "duration": 35,
    "start_time": "2024-02-10T12:57:41.646Z"
   },
   {
    "duration": 3,
    "start_time": "2024-02-10T12:57:41.683Z"
   },
   {
    "duration": 31,
    "start_time": "2024-02-10T12:57:41.687Z"
   },
   {
    "duration": 4,
    "start_time": "2024-02-10T12:57:41.719Z"
   },
   {
    "duration": 15,
    "start_time": "2024-02-10T12:57:41.724Z"
   },
   {
    "duration": 5,
    "start_time": "2024-02-10T12:57:41.742Z"
   },
   {
    "duration": 39,
    "start_time": "2024-02-10T12:57:41.748Z"
   },
   {
    "duration": 26,
    "start_time": "2024-02-10T12:57:41.788Z"
   },
   {
    "duration": 4,
    "start_time": "2024-02-10T12:57:41.816Z"
   },
   {
    "duration": 12,
    "start_time": "2024-02-10T12:57:41.821Z"
   },
   {
    "duration": 20,
    "start_time": "2024-02-10T12:57:41.835Z"
   },
   {
    "duration": 17,
    "start_time": "2024-02-10T12:57:41.856Z"
   },
   {
    "duration": 4,
    "start_time": "2024-02-10T12:57:41.874Z"
   },
   {
    "duration": 39,
    "start_time": "2024-02-10T12:57:41.879Z"
   },
   {
    "duration": 7,
    "start_time": "2024-02-10T12:57:41.919Z"
   },
   {
    "duration": 5,
    "start_time": "2024-02-10T12:57:41.927Z"
   },
   {
    "duration": 10,
    "start_time": "2024-02-10T12:57:41.933Z"
   },
   {
    "duration": 5,
    "start_time": "2024-02-10T12:57:41.944Z"
   },
   {
    "duration": 12,
    "start_time": "2024-02-10T12:57:41.951Z"
   },
   {
    "duration": 52,
    "start_time": "2024-02-10T12:57:41.964Z"
   },
   {
    "duration": 9,
    "start_time": "2024-02-10T12:57:42.017Z"
   },
   {
    "duration": 15,
    "start_time": "2024-02-10T12:57:42.027Z"
   },
   {
    "duration": 10,
    "start_time": "2024-02-10T12:57:42.043Z"
   },
   {
    "duration": 15,
    "start_time": "2024-02-10T12:57:42.056Z"
   },
   {
    "duration": 54,
    "start_time": "2024-02-10T12:57:42.072Z"
   },
   {
    "duration": 11,
    "start_time": "2024-02-10T12:57:42.128Z"
   },
   {
    "duration": 14,
    "start_time": "2024-02-10T12:57:42.140Z"
   },
   {
    "duration": 9,
    "start_time": "2024-02-10T12:57:42.155Z"
   },
   {
    "duration": 17,
    "start_time": "2024-02-10T12:57:42.165Z"
   },
   {
    "duration": 42,
    "start_time": "2024-02-10T12:57:42.183Z"
   },
   {
    "duration": 15,
    "start_time": "2024-02-10T12:57:42.227Z"
   },
   {
    "duration": 8,
    "start_time": "2024-02-10T12:57:42.243Z"
   },
   {
    "duration": 15,
    "start_time": "2024-02-10T12:57:42.252Z"
   },
   {
    "duration": 480,
    "start_time": "2024-02-10T13:03:37.725Z"
   },
   {
    "duration": 22,
    "start_time": "2024-02-10T13:03:38.207Z"
   },
   {
    "duration": 15,
    "start_time": "2024-02-10T13:03:38.230Z"
   },
   {
    "duration": 10,
    "start_time": "2024-02-10T13:03:38.246Z"
   },
   {
    "duration": 34,
    "start_time": "2024-02-10T13:03:38.258Z"
   },
   {
    "duration": 3,
    "start_time": "2024-02-10T13:03:38.314Z"
   },
   {
    "duration": 14,
    "start_time": "2024-02-10T13:03:38.319Z"
   },
   {
    "duration": 4,
    "start_time": "2024-02-10T13:03:38.334Z"
   },
   {
    "duration": 7,
    "start_time": "2024-02-10T13:03:38.339Z"
   },
   {
    "duration": 4,
    "start_time": "2024-02-10T13:03:38.349Z"
   },
   {
    "duration": 66,
    "start_time": "2024-02-10T13:03:38.354Z"
   },
   {
    "duration": 15,
    "start_time": "2024-02-10T13:03:38.422Z"
   },
   {
    "duration": 10,
    "start_time": "2024-02-10T13:03:38.438Z"
   },
   {
    "duration": 17,
    "start_time": "2024-02-10T13:03:38.449Z"
   },
   {
    "duration": 40,
    "start_time": "2024-02-10T13:03:38.467Z"
   },
   {
    "duration": 16,
    "start_time": "2024-02-10T13:03:38.509Z"
   },
   {
    "duration": 3,
    "start_time": "2024-02-10T13:03:38.527Z"
   },
   {
    "duration": 13,
    "start_time": "2024-02-10T13:03:38.531Z"
   },
   {
    "duration": 14,
    "start_time": "2024-02-10T13:03:38.545Z"
   },
   {
    "duration": 4,
    "start_time": "2024-02-10T13:03:38.560Z"
   },
   {
    "duration": 11,
    "start_time": "2024-02-10T13:03:38.566Z"
   },
   {
    "duration": 3,
    "start_time": "2024-02-10T13:03:38.579Z"
   },
   {
    "duration": 31,
    "start_time": "2024-02-10T13:03:38.584Z"
   },
   {
    "duration": 15,
    "start_time": "2024-02-10T13:03:38.616Z"
   },
   {
    "duration": 12,
    "start_time": "2024-02-10T13:03:38.632Z"
   },
   {
    "duration": 20,
    "start_time": "2024-02-10T13:03:38.645Z"
   },
   {
    "duration": 68,
    "start_time": "2024-02-10T13:03:38.667Z"
   },
   {
    "duration": 0,
    "start_time": "2024-02-10T13:03:38.737Z"
   },
   {
    "duration": 0,
    "start_time": "2024-02-10T13:03:38.739Z"
   },
   {
    "duration": 0,
    "start_time": "2024-02-10T13:03:38.741Z"
   },
   {
    "duration": 0,
    "start_time": "2024-02-10T13:03:38.742Z"
   },
   {
    "duration": 0,
    "start_time": "2024-02-10T13:03:38.744Z"
   },
   {
    "duration": 0,
    "start_time": "2024-02-10T13:03:38.745Z"
   },
   {
    "duration": 0,
    "start_time": "2024-02-10T13:03:38.746Z"
   },
   {
    "duration": 0,
    "start_time": "2024-02-10T13:03:38.748Z"
   },
   {
    "duration": 0,
    "start_time": "2024-02-10T13:03:38.750Z"
   },
   {
    "duration": 0,
    "start_time": "2024-02-10T13:03:38.751Z"
   },
   {
    "duration": 0,
    "start_time": "2024-02-10T13:03:38.752Z"
   },
   {
    "duration": 19,
    "start_time": "2024-02-10T13:04:25.872Z"
   },
   {
    "duration": 493,
    "start_time": "2024-02-10T13:15:54.184Z"
   },
   {
    "duration": 21,
    "start_time": "2024-02-10T13:15:54.679Z"
   },
   {
    "duration": 16,
    "start_time": "2024-02-10T13:15:54.702Z"
   },
   {
    "duration": 10,
    "start_time": "2024-02-10T13:15:54.720Z"
   },
   {
    "duration": 35,
    "start_time": "2024-02-10T13:15:54.731Z"
   },
   {
    "duration": 3,
    "start_time": "2024-02-10T13:15:54.768Z"
   },
   {
    "duration": 43,
    "start_time": "2024-02-10T13:15:54.773Z"
   },
   {
    "duration": 6,
    "start_time": "2024-02-10T13:15:54.818Z"
   },
   {
    "duration": 6,
    "start_time": "2024-02-10T13:15:54.826Z"
   },
   {
    "duration": 4,
    "start_time": "2024-02-10T13:15:54.836Z"
   },
   {
    "duration": 38,
    "start_time": "2024-02-10T13:15:54.842Z"
   },
   {
    "duration": 35,
    "start_time": "2024-02-10T13:15:54.882Z"
   },
   {
    "duration": 3,
    "start_time": "2024-02-10T13:15:54.919Z"
   },
   {
    "duration": 20,
    "start_time": "2024-02-10T13:15:54.924Z"
   },
   {
    "duration": 31,
    "start_time": "2024-02-10T13:15:54.945Z"
   },
   {
    "duration": 17,
    "start_time": "2024-02-10T13:15:54.977Z"
   },
   {
    "duration": 4,
    "start_time": "2024-02-10T13:15:54.995Z"
   },
   {
    "duration": 16,
    "start_time": "2024-02-10T13:15:55.000Z"
   },
   {
    "duration": 11,
    "start_time": "2024-02-10T13:15:55.018Z"
   },
   {
    "duration": 5,
    "start_time": "2024-02-10T13:15:55.031Z"
   },
   {
    "duration": 26,
    "start_time": "2024-02-10T13:15:55.037Z"
   },
   {
    "duration": 6,
    "start_time": "2024-02-10T13:15:55.064Z"
   },
   {
    "duration": 12,
    "start_time": "2024-02-10T13:15:55.071Z"
   },
   {
    "duration": 32,
    "start_time": "2024-02-10T13:15:55.084Z"
   },
   {
    "duration": 8,
    "start_time": "2024-02-10T13:15:55.118Z"
   },
   {
    "duration": 17,
    "start_time": "2024-02-10T13:15:55.128Z"
   },
   {
    "duration": 12,
    "start_time": "2024-02-10T13:15:55.146Z"
   },
   {
    "duration": 14,
    "start_time": "2024-02-10T13:15:55.161Z"
   },
   {
    "duration": 17,
    "start_time": "2024-02-10T13:15:55.214Z"
   },
   {
    "duration": 19,
    "start_time": "2024-02-10T13:15:55.233Z"
   },
   {
    "duration": 14,
    "start_time": "2024-02-10T13:15:55.254Z"
   },
   {
    "duration": 9,
    "start_time": "2024-02-10T13:15:55.269Z"
   },
   {
    "duration": 46,
    "start_time": "2024-02-10T13:15:55.279Z"
   },
   {
    "duration": 11,
    "start_time": "2024-02-10T13:15:55.327Z"
   },
   {
    "duration": 16,
    "start_time": "2024-02-10T13:15:55.339Z"
   },
   {
    "duration": 8,
    "start_time": "2024-02-10T13:15:55.356Z"
   },
   {
    "duration": 17,
    "start_time": "2024-02-10T13:15:55.366Z"
   },
   {
    "duration": 708,
    "start_time": "2024-02-10T18:56:22.436Z"
   },
   {
    "duration": 21,
    "start_time": "2024-02-10T18:56:23.145Z"
   },
   {
    "duration": 15,
    "start_time": "2024-02-10T18:56:23.167Z"
   },
   {
    "duration": 9,
    "start_time": "2024-02-10T18:56:23.184Z"
   },
   {
    "duration": 34,
    "start_time": "2024-02-10T18:56:23.194Z"
   },
   {
    "duration": 3,
    "start_time": "2024-02-10T18:56:23.230Z"
   },
   {
    "duration": 12,
    "start_time": "2024-02-10T18:56:23.234Z"
   },
   {
    "duration": 4,
    "start_time": "2024-02-10T18:56:23.264Z"
   },
   {
    "duration": 7,
    "start_time": "2024-02-10T18:56:23.269Z"
   },
   {
    "duration": 3,
    "start_time": "2024-02-10T18:56:23.279Z"
   },
   {
    "duration": 36,
    "start_time": "2024-02-10T18:56:23.283Z"
   },
   {
    "duration": 9,
    "start_time": "2024-02-10T18:56:23.320Z"
   },
   {
    "duration": 11,
    "start_time": "2024-02-10T18:56:23.330Z"
   },
   {
    "duration": 31,
    "start_time": "2024-02-10T18:56:23.342Z"
   },
   {
    "duration": 17,
    "start_time": "2024-02-10T18:56:23.374Z"
   },
   {
    "duration": 15,
    "start_time": "2024-02-10T18:56:23.392Z"
   },
   {
    "duration": 3,
    "start_time": "2024-02-10T18:56:23.408Z"
   },
   {
    "duration": 13,
    "start_time": "2024-02-10T18:56:23.412Z"
   },
   {
    "duration": 5,
    "start_time": "2024-02-10T18:56:23.426Z"
   },
   {
    "duration": 6,
    "start_time": "2024-02-10T18:56:23.433Z"
   },
   {
    "duration": 28,
    "start_time": "2024-02-10T18:56:23.440Z"
   },
   {
    "duration": 3,
    "start_time": "2024-02-10T18:56:23.470Z"
   },
   {
    "duration": 12,
    "start_time": "2024-02-10T18:56:23.475Z"
   },
   {
    "duration": 13,
    "start_time": "2024-02-10T18:56:23.489Z"
   },
   {
    "duration": 8,
    "start_time": "2024-02-10T18:56:23.503Z"
   },
   {
    "duration": 20,
    "start_time": "2024-02-10T18:56:23.512Z"
   },
   {
    "duration": 40,
    "start_time": "2024-02-10T18:56:23.533Z"
   },
   {
    "duration": 15,
    "start_time": "2024-02-10T18:56:23.577Z"
   },
   {
    "duration": 16,
    "start_time": "2024-02-10T18:56:23.594Z"
   },
   {
    "duration": 24,
    "start_time": "2024-02-10T18:56:23.611Z"
   },
   {
    "duration": 47,
    "start_time": "2024-02-10T18:56:23.637Z"
   },
   {
    "duration": 8,
    "start_time": "2024-02-10T18:56:23.686Z"
   },
   {
    "duration": 15,
    "start_time": "2024-02-10T18:56:23.696Z"
   },
   {
    "duration": 13,
    "start_time": "2024-02-10T18:56:23.713Z"
   },
   {
    "duration": 49,
    "start_time": "2024-02-10T18:56:23.728Z"
   },
   {
    "duration": 9,
    "start_time": "2024-02-10T18:56:23.778Z"
   },
   {
    "duration": 17,
    "start_time": "2024-02-10T18:56:23.789Z"
   }
  ],
  "colab": {
   "name": "dpp_template_part2.ipynb",
   "provenance": []
  },
  "kernelspec": {
   "display_name": "Python 3 (ipykernel)",
   "language": "python",
   "name": "python3"
  },
  "language_info": {
   "codemirror_mode": {
    "name": "ipython",
    "version": 3
   },
   "file_extension": ".py",
   "mimetype": "text/x-python",
   "name": "python",
   "nbconvert_exporter": "python",
   "pygments_lexer": "ipython3",
   "version": "3.11.3"
  },
  "toc": {
   "base_numbering": 1,
   "nav_menu": {},
   "number_sections": true,
   "sideBar": true,
   "skip_h1_title": true,
   "title_cell": "Table of Contents",
   "title_sidebar": "Contents",
   "toc_cell": false,
   "toc_position": {},
   "toc_section_display": true,
   "toc_window_display": false
  }
 },
 "nbformat": 4,
 "nbformat_minor": 5
}
